{
  "cells": [
    {
      "cell_type": "markdown",
      "metadata": {
        "id": "te80_7bgwQxf"
      },
      "source": [
        "## Import_Libraries"
      ]
    },
    {
      "cell_type": "code",
      "execution_count": 1,
      "metadata": {
        "id": "Sa4O5XWov2cI"
      },
      "outputs": [],
      "source": [
        "import pandas as pd\n",
        "import matplotlib.pyplot as plt\n",
        "import seaborn as sns\n",
        "import numpy as np\n",
        "from sklearn.model_selection import train_test_split\n",
        "from sklearn.tree import DecisionTreeClassifier\n",
        "from sklearn.ensemble import RandomForestClassifier\n",
        "from sklearn.neighbors import KNeighborsClassifier\n",
        "from sklearn.linear_model import LogisticRegression\n",
        "from sklearn.metrics import classification_report, confusion_matrix, accuracy_score \n",
        "from sklearn import metrics\n",
        "from sklearn.metrics import plot_confusion_matrix"
      ]
    },
    {
      "cell_type": "markdown",
      "metadata": {
        "id": "pfPGsvIbwwpF"
      },
      "source": [
        "## Reading_data_file"
      ]
    },
    {
      "cell_type": "code",
      "execution_count": 2,
      "metadata": {
        "colab": {
          "base_uri": "https://localhost:8080/",
          "height": 206
        },
        "id": "4T5O1qm6wPXS",
        "outputId": "b9a98ec7-5827-4783-c45e-d31501b356f1"
      },
      "outputs": [
        {
          "output_type": "execute_result",
          "data": {
            "text/plain": [
              "  Brand Model            Color Memory Storage  Rating  Selling Price  \\\n",
              "0  OPPO   A53  Moonlight Black   4 GB   64 GB     4.5          11990   \n",
              "1  OPPO   A53       Mint Cream   4 GB   64 GB     4.5          11990   \n",
              "2  OPPO   A53  Moonlight Black   6 GB  128 GB     4.3          13990   \n",
              "3  OPPO   A53       Mint Cream   6 GB  128 GB     4.3          13990   \n",
              "4  OPPO   A53   Electric Black   4 GB   64 GB     4.5          11990   \n",
              "\n",
              "   Original Price  \n",
              "0           15990  \n",
              "1           15990  \n",
              "2           17990  \n",
              "3           17990  \n",
              "4           15990  "
            ],
            "text/html": [
              "\n",
              "  <div id=\"df-0de9de54-e638-405a-9abd-84eb3453de57\">\n",
              "    <div class=\"colab-df-container\">\n",
              "      <div>\n",
              "<style scoped>\n",
              "    .dataframe tbody tr th:only-of-type {\n",
              "        vertical-align: middle;\n",
              "    }\n",
              "\n",
              "    .dataframe tbody tr th {\n",
              "        vertical-align: top;\n",
              "    }\n",
              "\n",
              "    .dataframe thead th {\n",
              "        text-align: right;\n",
              "    }\n",
              "</style>\n",
              "<table border=\"1\" class=\"dataframe\">\n",
              "  <thead>\n",
              "    <tr style=\"text-align: right;\">\n",
              "      <th></th>\n",
              "      <th>Brand</th>\n",
              "      <th>Model</th>\n",
              "      <th>Color</th>\n",
              "      <th>Memory</th>\n",
              "      <th>Storage</th>\n",
              "      <th>Rating</th>\n",
              "      <th>Selling Price</th>\n",
              "      <th>Original Price</th>\n",
              "    </tr>\n",
              "  </thead>\n",
              "  <tbody>\n",
              "    <tr>\n",
              "      <th>0</th>\n",
              "      <td>OPPO</td>\n",
              "      <td>A53</td>\n",
              "      <td>Moonlight Black</td>\n",
              "      <td>4 GB</td>\n",
              "      <td>64 GB</td>\n",
              "      <td>4.5</td>\n",
              "      <td>11990</td>\n",
              "      <td>15990</td>\n",
              "    </tr>\n",
              "    <tr>\n",
              "      <th>1</th>\n",
              "      <td>OPPO</td>\n",
              "      <td>A53</td>\n",
              "      <td>Mint Cream</td>\n",
              "      <td>4 GB</td>\n",
              "      <td>64 GB</td>\n",
              "      <td>4.5</td>\n",
              "      <td>11990</td>\n",
              "      <td>15990</td>\n",
              "    </tr>\n",
              "    <tr>\n",
              "      <th>2</th>\n",
              "      <td>OPPO</td>\n",
              "      <td>A53</td>\n",
              "      <td>Moonlight Black</td>\n",
              "      <td>6 GB</td>\n",
              "      <td>128 GB</td>\n",
              "      <td>4.3</td>\n",
              "      <td>13990</td>\n",
              "      <td>17990</td>\n",
              "    </tr>\n",
              "    <tr>\n",
              "      <th>3</th>\n",
              "      <td>OPPO</td>\n",
              "      <td>A53</td>\n",
              "      <td>Mint Cream</td>\n",
              "      <td>6 GB</td>\n",
              "      <td>128 GB</td>\n",
              "      <td>4.3</td>\n",
              "      <td>13990</td>\n",
              "      <td>17990</td>\n",
              "    </tr>\n",
              "    <tr>\n",
              "      <th>4</th>\n",
              "      <td>OPPO</td>\n",
              "      <td>A53</td>\n",
              "      <td>Electric Black</td>\n",
              "      <td>4 GB</td>\n",
              "      <td>64 GB</td>\n",
              "      <td>4.5</td>\n",
              "      <td>11990</td>\n",
              "      <td>15990</td>\n",
              "    </tr>\n",
              "  </tbody>\n",
              "</table>\n",
              "</div>\n",
              "      <button class=\"colab-df-convert\" onclick=\"convertToInteractive('df-0de9de54-e638-405a-9abd-84eb3453de57')\"\n",
              "              title=\"Convert this dataframe to an interactive table.\"\n",
              "              style=\"display:none;\">\n",
              "        \n",
              "  <svg xmlns=\"http://www.w3.org/2000/svg\" height=\"24px\"viewBox=\"0 0 24 24\"\n",
              "       width=\"24px\">\n",
              "    <path d=\"M0 0h24v24H0V0z\" fill=\"none\"/>\n",
              "    <path d=\"M18.56 5.44l.94 2.06.94-2.06 2.06-.94-2.06-.94-.94-2.06-.94 2.06-2.06.94zm-11 1L8.5 8.5l.94-2.06 2.06-.94-2.06-.94L8.5 2.5l-.94 2.06-2.06.94zm10 10l.94 2.06.94-2.06 2.06-.94-2.06-.94-.94-2.06-.94 2.06-2.06.94z\"/><path d=\"M17.41 7.96l-1.37-1.37c-.4-.4-.92-.59-1.43-.59-.52 0-1.04.2-1.43.59L10.3 9.45l-7.72 7.72c-.78.78-.78 2.05 0 2.83L4 21.41c.39.39.9.59 1.41.59.51 0 1.02-.2 1.41-.59l7.78-7.78 2.81-2.81c.8-.78.8-2.07 0-2.86zM5.41 20L4 18.59l7.72-7.72 1.47 1.35L5.41 20z\"/>\n",
              "  </svg>\n",
              "      </button>\n",
              "      \n",
              "  <style>\n",
              "    .colab-df-container {\n",
              "      display:flex;\n",
              "      flex-wrap:wrap;\n",
              "      gap: 12px;\n",
              "    }\n",
              "\n",
              "    .colab-df-convert {\n",
              "      background-color: #E8F0FE;\n",
              "      border: none;\n",
              "      border-radius: 50%;\n",
              "      cursor: pointer;\n",
              "      display: none;\n",
              "      fill: #1967D2;\n",
              "      height: 32px;\n",
              "      padding: 0 0 0 0;\n",
              "      width: 32px;\n",
              "    }\n",
              "\n",
              "    .colab-df-convert:hover {\n",
              "      background-color: #E2EBFA;\n",
              "      box-shadow: 0px 1px 2px rgba(60, 64, 67, 0.3), 0px 1px 3px 1px rgba(60, 64, 67, 0.15);\n",
              "      fill: #174EA6;\n",
              "    }\n",
              "\n",
              "    [theme=dark] .colab-df-convert {\n",
              "      background-color: #3B4455;\n",
              "      fill: #D2E3FC;\n",
              "    }\n",
              "\n",
              "    [theme=dark] .colab-df-convert:hover {\n",
              "      background-color: #434B5C;\n",
              "      box-shadow: 0px 1px 3px 1px rgba(0, 0, 0, 0.15);\n",
              "      filter: drop-shadow(0px 1px 2px rgba(0, 0, 0, 0.3));\n",
              "      fill: #FFFFFF;\n",
              "    }\n",
              "  </style>\n",
              "\n",
              "      <script>\n",
              "        const buttonEl =\n",
              "          document.querySelector('#df-0de9de54-e638-405a-9abd-84eb3453de57 button.colab-df-convert');\n",
              "        buttonEl.style.display =\n",
              "          google.colab.kernel.accessAllowed ? 'block' : 'none';\n",
              "\n",
              "        async function convertToInteractive(key) {\n",
              "          const element = document.querySelector('#df-0de9de54-e638-405a-9abd-84eb3453de57');\n",
              "          const dataTable =\n",
              "            await google.colab.kernel.invokeFunction('convertToInteractive',\n",
              "                                                     [key], {});\n",
              "          if (!dataTable) return;\n",
              "\n",
              "          const docLinkHtml = 'Like what you see? Visit the ' +\n",
              "            '<a target=\"_blank\" href=https://colab.research.google.com/notebooks/data_table.ipynb>data table notebook</a>'\n",
              "            + ' to learn more about interactive tables.';\n",
              "          element.innerHTML = '';\n",
              "          dataTable['output_type'] = 'display_data';\n",
              "          await google.colab.output.renderOutput(dataTable, element);\n",
              "          const docLink = document.createElement('div');\n",
              "          docLink.innerHTML = docLinkHtml;\n",
              "          element.appendChild(docLink);\n",
              "        }\n",
              "      </script>\n",
              "    </div>\n",
              "  </div>\n",
              "  "
            ]
          },
          "metadata": {},
          "execution_count": 2
        }
      ],
      "source": [
        "data_set = pd.read_csv('/content/sample_data/Flipkart_Mobiles.csv')\n",
        "data_set.head()"
      ]
    },
    {
      "cell_type": "code",
      "execution_count": 3,
      "metadata": {
        "colab": {
          "base_uri": "https://localhost:8080/",
          "height": 206
        },
        "id": "acpEBhbN1sA2",
        "outputId": "e5239084-0fc4-4ce5-d8ad-0f3c82b17196"
      },
      "outputs": [
        {
          "output_type": "execute_result",
          "data": {
            "text/plain": [
              "        Brand   Model          Color Memory Storage  Rating  Selling Price  \\\n",
              "3109  SAMSUNG  M52 5G  Blazing Black   6 GB  128 GB     4.3          25990   \n",
              "3110  SAMSUNG  M52 5G       Icy Blue   6 GB  128 GB     4.3          25489   \n",
              "3111  SAMSUNG  M52 5G       Icy Blue   8 GB  128 GB     4.3          27239   \n",
              "3112  SAMSUNG  M52 5G    Slate Black   8 GB  128 GB     4.2          22989   \n",
              "3113  SAMSUNG  M52 5G       Sky Blue   8 GB  128 GB     4.2          20350   \n",
              "\n",
              "      Original Price  \n",
              "3109           25990  \n",
              "3110           28449  \n",
              "3111           31489  \n",
              "3112           22989  \n",
              "3113           22595  "
            ],
            "text/html": [
              "\n",
              "  <div id=\"df-39d38ace-1df4-474e-9b93-fad144c7607f\">\n",
              "    <div class=\"colab-df-container\">\n",
              "      <div>\n",
              "<style scoped>\n",
              "    .dataframe tbody tr th:only-of-type {\n",
              "        vertical-align: middle;\n",
              "    }\n",
              "\n",
              "    .dataframe tbody tr th {\n",
              "        vertical-align: top;\n",
              "    }\n",
              "\n",
              "    .dataframe thead th {\n",
              "        text-align: right;\n",
              "    }\n",
              "</style>\n",
              "<table border=\"1\" class=\"dataframe\">\n",
              "  <thead>\n",
              "    <tr style=\"text-align: right;\">\n",
              "      <th></th>\n",
              "      <th>Brand</th>\n",
              "      <th>Model</th>\n",
              "      <th>Color</th>\n",
              "      <th>Memory</th>\n",
              "      <th>Storage</th>\n",
              "      <th>Rating</th>\n",
              "      <th>Selling Price</th>\n",
              "      <th>Original Price</th>\n",
              "    </tr>\n",
              "  </thead>\n",
              "  <tbody>\n",
              "    <tr>\n",
              "      <th>3109</th>\n",
              "      <td>SAMSUNG</td>\n",
              "      <td>M52 5G</td>\n",
              "      <td>Blazing Black</td>\n",
              "      <td>6 GB</td>\n",
              "      <td>128 GB</td>\n",
              "      <td>4.3</td>\n",
              "      <td>25990</td>\n",
              "      <td>25990</td>\n",
              "    </tr>\n",
              "    <tr>\n",
              "      <th>3110</th>\n",
              "      <td>SAMSUNG</td>\n",
              "      <td>M52 5G</td>\n",
              "      <td>Icy Blue</td>\n",
              "      <td>6 GB</td>\n",
              "      <td>128 GB</td>\n",
              "      <td>4.3</td>\n",
              "      <td>25489</td>\n",
              "      <td>28449</td>\n",
              "    </tr>\n",
              "    <tr>\n",
              "      <th>3111</th>\n",
              "      <td>SAMSUNG</td>\n",
              "      <td>M52 5G</td>\n",
              "      <td>Icy Blue</td>\n",
              "      <td>8 GB</td>\n",
              "      <td>128 GB</td>\n",
              "      <td>4.3</td>\n",
              "      <td>27239</td>\n",
              "      <td>31489</td>\n",
              "    </tr>\n",
              "    <tr>\n",
              "      <th>3112</th>\n",
              "      <td>SAMSUNG</td>\n",
              "      <td>M52 5G</td>\n",
              "      <td>Slate Black</td>\n",
              "      <td>8 GB</td>\n",
              "      <td>128 GB</td>\n",
              "      <td>4.2</td>\n",
              "      <td>22989</td>\n",
              "      <td>22989</td>\n",
              "    </tr>\n",
              "    <tr>\n",
              "      <th>3113</th>\n",
              "      <td>SAMSUNG</td>\n",
              "      <td>M52 5G</td>\n",
              "      <td>Sky Blue</td>\n",
              "      <td>8 GB</td>\n",
              "      <td>128 GB</td>\n",
              "      <td>4.2</td>\n",
              "      <td>20350</td>\n",
              "      <td>22595</td>\n",
              "    </tr>\n",
              "  </tbody>\n",
              "</table>\n",
              "</div>\n",
              "      <button class=\"colab-df-convert\" onclick=\"convertToInteractive('df-39d38ace-1df4-474e-9b93-fad144c7607f')\"\n",
              "              title=\"Convert this dataframe to an interactive table.\"\n",
              "              style=\"display:none;\">\n",
              "        \n",
              "  <svg xmlns=\"http://www.w3.org/2000/svg\" height=\"24px\"viewBox=\"0 0 24 24\"\n",
              "       width=\"24px\">\n",
              "    <path d=\"M0 0h24v24H0V0z\" fill=\"none\"/>\n",
              "    <path d=\"M18.56 5.44l.94 2.06.94-2.06 2.06-.94-2.06-.94-.94-2.06-.94 2.06-2.06.94zm-11 1L8.5 8.5l.94-2.06 2.06-.94-2.06-.94L8.5 2.5l-.94 2.06-2.06.94zm10 10l.94 2.06.94-2.06 2.06-.94-2.06-.94-.94-2.06-.94 2.06-2.06.94z\"/><path d=\"M17.41 7.96l-1.37-1.37c-.4-.4-.92-.59-1.43-.59-.52 0-1.04.2-1.43.59L10.3 9.45l-7.72 7.72c-.78.78-.78 2.05 0 2.83L4 21.41c.39.39.9.59 1.41.59.51 0 1.02-.2 1.41-.59l7.78-7.78 2.81-2.81c.8-.78.8-2.07 0-2.86zM5.41 20L4 18.59l7.72-7.72 1.47 1.35L5.41 20z\"/>\n",
              "  </svg>\n",
              "      </button>\n",
              "      \n",
              "  <style>\n",
              "    .colab-df-container {\n",
              "      display:flex;\n",
              "      flex-wrap:wrap;\n",
              "      gap: 12px;\n",
              "    }\n",
              "\n",
              "    .colab-df-convert {\n",
              "      background-color: #E8F0FE;\n",
              "      border: none;\n",
              "      border-radius: 50%;\n",
              "      cursor: pointer;\n",
              "      display: none;\n",
              "      fill: #1967D2;\n",
              "      height: 32px;\n",
              "      padding: 0 0 0 0;\n",
              "      width: 32px;\n",
              "    }\n",
              "\n",
              "    .colab-df-convert:hover {\n",
              "      background-color: #E2EBFA;\n",
              "      box-shadow: 0px 1px 2px rgba(60, 64, 67, 0.3), 0px 1px 3px 1px rgba(60, 64, 67, 0.15);\n",
              "      fill: #174EA6;\n",
              "    }\n",
              "\n",
              "    [theme=dark] .colab-df-convert {\n",
              "      background-color: #3B4455;\n",
              "      fill: #D2E3FC;\n",
              "    }\n",
              "\n",
              "    [theme=dark] .colab-df-convert:hover {\n",
              "      background-color: #434B5C;\n",
              "      box-shadow: 0px 1px 3px 1px rgba(0, 0, 0, 0.15);\n",
              "      filter: drop-shadow(0px 1px 2px rgba(0, 0, 0, 0.3));\n",
              "      fill: #FFFFFF;\n",
              "    }\n",
              "  </style>\n",
              "\n",
              "      <script>\n",
              "        const buttonEl =\n",
              "          document.querySelector('#df-39d38ace-1df4-474e-9b93-fad144c7607f button.colab-df-convert');\n",
              "        buttonEl.style.display =\n",
              "          google.colab.kernel.accessAllowed ? 'block' : 'none';\n",
              "\n",
              "        async function convertToInteractive(key) {\n",
              "          const element = document.querySelector('#df-39d38ace-1df4-474e-9b93-fad144c7607f');\n",
              "          const dataTable =\n",
              "            await google.colab.kernel.invokeFunction('convertToInteractive',\n",
              "                                                     [key], {});\n",
              "          if (!dataTable) return;\n",
              "\n",
              "          const docLinkHtml = 'Like what you see? Visit the ' +\n",
              "            '<a target=\"_blank\" href=https://colab.research.google.com/notebooks/data_table.ipynb>data table notebook</a>'\n",
              "            + ' to learn more about interactive tables.';\n",
              "          element.innerHTML = '';\n",
              "          dataTable['output_type'] = 'display_data';\n",
              "          await google.colab.output.renderOutput(dataTable, element);\n",
              "          const docLink = document.createElement('div');\n",
              "          docLink.innerHTML = docLinkHtml;\n",
              "          element.appendChild(docLink);\n",
              "        }\n",
              "      </script>\n",
              "    </div>\n",
              "  </div>\n",
              "  "
            ]
          },
          "metadata": {},
          "execution_count": 3
        }
      ],
      "source": [
        "data_set.tail()"
      ]
    },
    {
      "cell_type": "code",
      "execution_count": 4,
      "metadata": {
        "colab": {
          "base_uri": "https://localhost:8080/"
        },
        "id": "30g9UpfzzcZW",
        "outputId": "fd5b6bfa-ac28-4700-85df-81f3d34cfca8"
      },
      "outputs": [
        {
          "output_type": "stream",
          "name": "stdout",
          "text": [
            "<class 'pandas.core.frame.DataFrame'>\n",
            "RangeIndex: 3114 entries, 0 to 3113\n",
            "Data columns (total 8 columns):\n",
            " #   Column          Non-Null Count  Dtype  \n",
            "---  ------          --------------  -----  \n",
            " 0   Brand           3114 non-null   object \n",
            " 1   Model           3114 non-null   object \n",
            " 2   Color           3114 non-null   object \n",
            " 3   Memory          3071 non-null   object \n",
            " 4   Storage         3075 non-null   object \n",
            " 5   Rating          2970 non-null   float64\n",
            " 6   Selling Price   3114 non-null   int64  \n",
            " 7   Original Price  3114 non-null   int64  \n",
            "dtypes: float64(1), int64(2), object(5)\n",
            "memory usage: 194.8+ KB\n"
          ]
        }
      ],
      "source": [
        "data_set.info()"
      ]
    },
    {
      "cell_type": "code",
      "execution_count": 5,
      "metadata": {
        "colab": {
          "base_uri": "https://localhost:8080/"
        },
        "id": "C_u7C47r2vDZ",
        "outputId": "5d2cdf8e-fd38-43cd-8a1b-d258af32873d"
      },
      "outputs": [
        {
          "output_type": "stream",
          "name": "stdout",
          "text": [
            "144\n",
            "192\n",
            "193\n",
            "449\n",
            "631\n",
            "632\n",
            "633\n",
            "774\n",
            "777\n",
            "798\n",
            "935\n",
            "936\n",
            "959\n",
            "983\n",
            "1007\n",
            "1031\n",
            "1055\n",
            "1076\n",
            "1079\n",
            "1095\n",
            "1103\n",
            "1113\n",
            "1114\n",
            "1115\n",
            "1153\n",
            "1162\n",
            "1185\n",
            "1194\n",
            "1280\n",
            "1281\n",
            "1284\n",
            "1286\n",
            "1289\n",
            "1291\n",
            "1293\n",
            "1295\n",
            "1296\n",
            "1303\n",
            "1304\n",
            "1307\n",
            "1310\n",
            "1311\n",
            "1312\n",
            "1318\n",
            "1320\n",
            "1321\n",
            "1326\n",
            "1327\n",
            "1329\n",
            "1334\n",
            "1336\n",
            "1338\n",
            "1340\n",
            "1341\n",
            "1343\n",
            "1345\n",
            "1346\n",
            "1347\n",
            "1348\n",
            "1349\n",
            "1353\n",
            "1354\n",
            "1355\n",
            "1356\n",
            "1358\n",
            "1360\n",
            "1361\n",
            "1362\n",
            "1363\n",
            "1364\n",
            "1365\n",
            "1366\n",
            "1367\n",
            "1368\n",
            "1369\n",
            "1370\n",
            "1371\n",
            "1372\n",
            "1374\n",
            "1375\n",
            "1382\n",
            "1390\n",
            "1448\n",
            "1467\n",
            "1471\n",
            "1475\n",
            "1477\n",
            "1556\n",
            "1557\n",
            "1558\n",
            "1559\n",
            "1584\n",
            "1604\n",
            "1605\n",
            "1606\n",
            "1607\n",
            "1676\n",
            "1751\n",
            "1760\n",
            "1820\n",
            "1821\n",
            "1859\n",
            "2203\n",
            "2275\n",
            "2367\n",
            "2403\n",
            "2404\n",
            "2909\n"
          ]
        }
      ],
      "source": [
        "a = data_set.duplicated()\n",
        "for i in range (a.shape[0]):\n",
        "  if a[i] :\n",
        "    print (i)"
      ]
    },
    {
      "cell_type": "code",
      "execution_count": 6,
      "metadata": {
        "colab": {
          "base_uri": "https://localhost:8080/",
          "height": 206
        },
        "id": "cVdcjR2P5sNq",
        "outputId": "a11d39e6-2266-462c-b3d9-78868f82bb60"
      },
      "outputs": [
        {
          "output_type": "execute_result",
          "data": {
            "text/plain": [
              "        Brand   Model          Color Memory Storage  Rating  Selling Price  \\\n",
              "3109  SAMSUNG  M52 5G  Blazing Black   6 GB  128 GB     4.3          25990   \n",
              "3110  SAMSUNG  M52 5G       Icy Blue   6 GB  128 GB     4.3          25489   \n",
              "3111  SAMSUNG  M52 5G       Icy Blue   8 GB  128 GB     4.3          27239   \n",
              "3112  SAMSUNG  M52 5G    Slate Black   8 GB  128 GB     4.2          22989   \n",
              "3113  SAMSUNG  M52 5G       Sky Blue   8 GB  128 GB     4.2          20350   \n",
              "\n",
              "      Original Price  \n",
              "3109           25990  \n",
              "3110           28449  \n",
              "3111           31489  \n",
              "3112           22989  \n",
              "3113           22595  "
            ],
            "text/html": [
              "\n",
              "  <div id=\"df-a2a89e3f-af51-420d-bbe7-0e30dd965796\">\n",
              "    <div class=\"colab-df-container\">\n",
              "      <div>\n",
              "<style scoped>\n",
              "    .dataframe tbody tr th:only-of-type {\n",
              "        vertical-align: middle;\n",
              "    }\n",
              "\n",
              "    .dataframe tbody tr th {\n",
              "        vertical-align: top;\n",
              "    }\n",
              "\n",
              "    .dataframe thead th {\n",
              "        text-align: right;\n",
              "    }\n",
              "</style>\n",
              "<table border=\"1\" class=\"dataframe\">\n",
              "  <thead>\n",
              "    <tr style=\"text-align: right;\">\n",
              "      <th></th>\n",
              "      <th>Brand</th>\n",
              "      <th>Model</th>\n",
              "      <th>Color</th>\n",
              "      <th>Memory</th>\n",
              "      <th>Storage</th>\n",
              "      <th>Rating</th>\n",
              "      <th>Selling Price</th>\n",
              "      <th>Original Price</th>\n",
              "    </tr>\n",
              "  </thead>\n",
              "  <tbody>\n",
              "    <tr>\n",
              "      <th>3109</th>\n",
              "      <td>SAMSUNG</td>\n",
              "      <td>M52 5G</td>\n",
              "      <td>Blazing Black</td>\n",
              "      <td>6 GB</td>\n",
              "      <td>128 GB</td>\n",
              "      <td>4.3</td>\n",
              "      <td>25990</td>\n",
              "      <td>25990</td>\n",
              "    </tr>\n",
              "    <tr>\n",
              "      <th>3110</th>\n",
              "      <td>SAMSUNG</td>\n",
              "      <td>M52 5G</td>\n",
              "      <td>Icy Blue</td>\n",
              "      <td>6 GB</td>\n",
              "      <td>128 GB</td>\n",
              "      <td>4.3</td>\n",
              "      <td>25489</td>\n",
              "      <td>28449</td>\n",
              "    </tr>\n",
              "    <tr>\n",
              "      <th>3111</th>\n",
              "      <td>SAMSUNG</td>\n",
              "      <td>M52 5G</td>\n",
              "      <td>Icy Blue</td>\n",
              "      <td>8 GB</td>\n",
              "      <td>128 GB</td>\n",
              "      <td>4.3</td>\n",
              "      <td>27239</td>\n",
              "      <td>31489</td>\n",
              "    </tr>\n",
              "    <tr>\n",
              "      <th>3112</th>\n",
              "      <td>SAMSUNG</td>\n",
              "      <td>M52 5G</td>\n",
              "      <td>Slate Black</td>\n",
              "      <td>8 GB</td>\n",
              "      <td>128 GB</td>\n",
              "      <td>4.2</td>\n",
              "      <td>22989</td>\n",
              "      <td>22989</td>\n",
              "    </tr>\n",
              "    <tr>\n",
              "      <th>3113</th>\n",
              "      <td>SAMSUNG</td>\n",
              "      <td>M52 5G</td>\n",
              "      <td>Sky Blue</td>\n",
              "      <td>8 GB</td>\n",
              "      <td>128 GB</td>\n",
              "      <td>4.2</td>\n",
              "      <td>20350</td>\n",
              "      <td>22595</td>\n",
              "    </tr>\n",
              "  </tbody>\n",
              "</table>\n",
              "</div>\n",
              "      <button class=\"colab-df-convert\" onclick=\"convertToInteractive('df-a2a89e3f-af51-420d-bbe7-0e30dd965796')\"\n",
              "              title=\"Convert this dataframe to an interactive table.\"\n",
              "              style=\"display:none;\">\n",
              "        \n",
              "  <svg xmlns=\"http://www.w3.org/2000/svg\" height=\"24px\"viewBox=\"0 0 24 24\"\n",
              "       width=\"24px\">\n",
              "    <path d=\"M0 0h24v24H0V0z\" fill=\"none\"/>\n",
              "    <path d=\"M18.56 5.44l.94 2.06.94-2.06 2.06-.94-2.06-.94-.94-2.06-.94 2.06-2.06.94zm-11 1L8.5 8.5l.94-2.06 2.06-.94-2.06-.94L8.5 2.5l-.94 2.06-2.06.94zm10 10l.94 2.06.94-2.06 2.06-.94-2.06-.94-.94-2.06-.94 2.06-2.06.94z\"/><path d=\"M17.41 7.96l-1.37-1.37c-.4-.4-.92-.59-1.43-.59-.52 0-1.04.2-1.43.59L10.3 9.45l-7.72 7.72c-.78.78-.78 2.05 0 2.83L4 21.41c.39.39.9.59 1.41.59.51 0 1.02-.2 1.41-.59l7.78-7.78 2.81-2.81c.8-.78.8-2.07 0-2.86zM5.41 20L4 18.59l7.72-7.72 1.47 1.35L5.41 20z\"/>\n",
              "  </svg>\n",
              "      </button>\n",
              "      \n",
              "  <style>\n",
              "    .colab-df-container {\n",
              "      display:flex;\n",
              "      flex-wrap:wrap;\n",
              "      gap: 12px;\n",
              "    }\n",
              "\n",
              "    .colab-df-convert {\n",
              "      background-color: #E8F0FE;\n",
              "      border: none;\n",
              "      border-radius: 50%;\n",
              "      cursor: pointer;\n",
              "      display: none;\n",
              "      fill: #1967D2;\n",
              "      height: 32px;\n",
              "      padding: 0 0 0 0;\n",
              "      width: 32px;\n",
              "    }\n",
              "\n",
              "    .colab-df-convert:hover {\n",
              "      background-color: #E2EBFA;\n",
              "      box-shadow: 0px 1px 2px rgba(60, 64, 67, 0.3), 0px 1px 3px 1px rgba(60, 64, 67, 0.15);\n",
              "      fill: #174EA6;\n",
              "    }\n",
              "\n",
              "    [theme=dark] .colab-df-convert {\n",
              "      background-color: #3B4455;\n",
              "      fill: #D2E3FC;\n",
              "    }\n",
              "\n",
              "    [theme=dark] .colab-df-convert:hover {\n",
              "      background-color: #434B5C;\n",
              "      box-shadow: 0px 1px 3px 1px rgba(0, 0, 0, 0.15);\n",
              "      filter: drop-shadow(0px 1px 2px rgba(0, 0, 0, 0.3));\n",
              "      fill: #FFFFFF;\n",
              "    }\n",
              "  </style>\n",
              "\n",
              "      <script>\n",
              "        const buttonEl =\n",
              "          document.querySelector('#df-a2a89e3f-af51-420d-bbe7-0e30dd965796 button.colab-df-convert');\n",
              "        buttonEl.style.display =\n",
              "          google.colab.kernel.accessAllowed ? 'block' : 'none';\n",
              "\n",
              "        async function convertToInteractive(key) {\n",
              "          const element = document.querySelector('#df-a2a89e3f-af51-420d-bbe7-0e30dd965796');\n",
              "          const dataTable =\n",
              "            await google.colab.kernel.invokeFunction('convertToInteractive',\n",
              "                                                     [key], {});\n",
              "          if (!dataTable) return;\n",
              "\n",
              "          const docLinkHtml = 'Like what you see? Visit the ' +\n",
              "            '<a target=\"_blank\" href=https://colab.research.google.com/notebooks/data_table.ipynb>data table notebook</a>'\n",
              "            + ' to learn more about interactive tables.';\n",
              "          element.innerHTML = '';\n",
              "          dataTable['output_type'] = 'display_data';\n",
              "          await google.colab.output.renderOutput(dataTable, element);\n",
              "          const docLink = document.createElement('div');\n",
              "          docLink.innerHTML = docLinkHtml;\n",
              "          element.appendChild(docLink);\n",
              "        }\n",
              "      </script>\n",
              "    </div>\n",
              "  </div>\n",
              "  "
            ]
          },
          "metadata": {},
          "execution_count": 6
        }
      ],
      "source": [
        "data_set.drop_duplicates(inplace = True)\n",
        "data_set.shape\n",
        "data_set.tail()"
      ]
    },
    {
      "cell_type": "code",
      "execution_count": 7,
      "metadata": {
        "colab": {
          "base_uri": "https://localhost:8080/"
        },
        "id": "T-yEY7p57vvo",
        "outputId": "12372414-b901-456e-e882-cf52e679c161"
      },
      "outputs": [
        {
          "output_type": "execute_result",
          "data": {
            "text/plain": [
              "Brand               0\n",
              "Model               0\n",
              "Color               0\n",
              "Memory             40\n",
              "Storage            39\n",
              "Rating            130\n",
              "Selling Price       0\n",
              "Original Price      0\n",
              "dtype: int64"
            ]
          },
          "metadata": {},
          "execution_count": 7
        }
      ],
      "source": [
        "data_set.isnull().sum()"
      ]
    },
    {
      "cell_type": "code",
      "execution_count": 8,
      "metadata": {
        "id": "djSjYEtA8nob"
      },
      "outputs": [],
      "source": [
        "data_set1 = data_set.fillna(0)"
      ]
    },
    {
      "cell_type": "code",
      "execution_count": 9,
      "metadata": {
        "colab": {
          "base_uri": "https://localhost:8080/"
        },
        "id": "x2Rjekj__LwM",
        "outputId": "b91d481d-5228-4484-d5c6-56af92090b8f"
      },
      "outputs": [
        {
          "output_type": "execute_result",
          "data": {
            "text/plain": [
              "Brand             0\n",
              "Model             0\n",
              "Color             0\n",
              "Memory            0\n",
              "Storage           0\n",
              "Rating            0\n",
              "Selling Price     0\n",
              "Original Price    0\n",
              "dtype: int64"
            ]
          },
          "metadata": {},
          "execution_count": 9
        }
      ],
      "source": [
        "data_set1.isnull().sum()"
      ]
    },
    {
      "cell_type": "code",
      "execution_count": 10,
      "metadata": {
        "colab": {
          "base_uri": "https://localhost:8080/"
        },
        "id": "tqIpIHK8S6yb",
        "outputId": "ca127f9d-25d7-4b59-8154-66266a9d321e"
      },
      "outputs": [
        {
          "output_type": "execute_result",
          "data": {
            "text/plain": [
              "Brand              17\n",
              "Model             914\n",
              "Color             639\n",
              "Memory             27\n",
              "Storage            27\n",
              "Rating             26\n",
              "Selling Price     844\n",
              "Original Price    819\n",
              "dtype: int64"
            ]
          },
          "metadata": {},
          "execution_count": 10
        }
      ],
      "source": [
        "data_set1.nunique(axis=0, dropna=True)"
      ]
    },
    {
      "cell_type": "code",
      "execution_count": 11,
      "metadata": {
        "colab": {
          "base_uri": "https://localhost:8080/",
          "height": 300
        },
        "id": "BjO3J_hrbu7x",
        "outputId": "e6c31817-d531-4255-adb2-45f30314e529"
      },
      "outputs": [
        {
          "output_type": "execute_result",
          "data": {
            "text/plain": [
              "            Rating  Selling Price  Original Price\n",
              "count  2876.000000    3006.000000     3006.000000\n",
              "mean      4.236057   25842.448436    27722.581504\n",
              "std       0.270684   29658.810517    31117.486618\n",
              "min       2.300000    1000.000000     1000.000000\n",
              "25%       4.100000    9978.500000    10000.000000\n",
              "50%       4.300000   14999.000000    15999.000000\n",
              "75%       4.400000   27499.000000    29999.000000\n",
              "max       5.000000  179900.000000   189999.000000"
            ],
            "text/html": [
              "\n",
              "  <div id=\"df-6a0504bb-ccfd-4738-8cf1-ef81af46c28a\">\n",
              "    <div class=\"colab-df-container\">\n",
              "      <div>\n",
              "<style scoped>\n",
              "    .dataframe tbody tr th:only-of-type {\n",
              "        vertical-align: middle;\n",
              "    }\n",
              "\n",
              "    .dataframe tbody tr th {\n",
              "        vertical-align: top;\n",
              "    }\n",
              "\n",
              "    .dataframe thead th {\n",
              "        text-align: right;\n",
              "    }\n",
              "</style>\n",
              "<table border=\"1\" class=\"dataframe\">\n",
              "  <thead>\n",
              "    <tr style=\"text-align: right;\">\n",
              "      <th></th>\n",
              "      <th>Rating</th>\n",
              "      <th>Selling Price</th>\n",
              "      <th>Original Price</th>\n",
              "    </tr>\n",
              "  </thead>\n",
              "  <tbody>\n",
              "    <tr>\n",
              "      <th>count</th>\n",
              "      <td>2876.000000</td>\n",
              "      <td>3006.000000</td>\n",
              "      <td>3006.000000</td>\n",
              "    </tr>\n",
              "    <tr>\n",
              "      <th>mean</th>\n",
              "      <td>4.236057</td>\n",
              "      <td>25842.448436</td>\n",
              "      <td>27722.581504</td>\n",
              "    </tr>\n",
              "    <tr>\n",
              "      <th>std</th>\n",
              "      <td>0.270684</td>\n",
              "      <td>29658.810517</td>\n",
              "      <td>31117.486618</td>\n",
              "    </tr>\n",
              "    <tr>\n",
              "      <th>min</th>\n",
              "      <td>2.300000</td>\n",
              "      <td>1000.000000</td>\n",
              "      <td>1000.000000</td>\n",
              "    </tr>\n",
              "    <tr>\n",
              "      <th>25%</th>\n",
              "      <td>4.100000</td>\n",
              "      <td>9978.500000</td>\n",
              "      <td>10000.000000</td>\n",
              "    </tr>\n",
              "    <tr>\n",
              "      <th>50%</th>\n",
              "      <td>4.300000</td>\n",
              "      <td>14999.000000</td>\n",
              "      <td>15999.000000</td>\n",
              "    </tr>\n",
              "    <tr>\n",
              "      <th>75%</th>\n",
              "      <td>4.400000</td>\n",
              "      <td>27499.000000</td>\n",
              "      <td>29999.000000</td>\n",
              "    </tr>\n",
              "    <tr>\n",
              "      <th>max</th>\n",
              "      <td>5.000000</td>\n",
              "      <td>179900.000000</td>\n",
              "      <td>189999.000000</td>\n",
              "    </tr>\n",
              "  </tbody>\n",
              "</table>\n",
              "</div>\n",
              "      <button class=\"colab-df-convert\" onclick=\"convertToInteractive('df-6a0504bb-ccfd-4738-8cf1-ef81af46c28a')\"\n",
              "              title=\"Convert this dataframe to an interactive table.\"\n",
              "              style=\"display:none;\">\n",
              "        \n",
              "  <svg xmlns=\"http://www.w3.org/2000/svg\" height=\"24px\"viewBox=\"0 0 24 24\"\n",
              "       width=\"24px\">\n",
              "    <path d=\"M0 0h24v24H0V0z\" fill=\"none\"/>\n",
              "    <path d=\"M18.56 5.44l.94 2.06.94-2.06 2.06-.94-2.06-.94-.94-2.06-.94 2.06-2.06.94zm-11 1L8.5 8.5l.94-2.06 2.06-.94-2.06-.94L8.5 2.5l-.94 2.06-2.06.94zm10 10l.94 2.06.94-2.06 2.06-.94-2.06-.94-.94-2.06-.94 2.06-2.06.94z\"/><path d=\"M17.41 7.96l-1.37-1.37c-.4-.4-.92-.59-1.43-.59-.52 0-1.04.2-1.43.59L10.3 9.45l-7.72 7.72c-.78.78-.78 2.05 0 2.83L4 21.41c.39.39.9.59 1.41.59.51 0 1.02-.2 1.41-.59l7.78-7.78 2.81-2.81c.8-.78.8-2.07 0-2.86zM5.41 20L4 18.59l7.72-7.72 1.47 1.35L5.41 20z\"/>\n",
              "  </svg>\n",
              "      </button>\n",
              "      \n",
              "  <style>\n",
              "    .colab-df-container {\n",
              "      display:flex;\n",
              "      flex-wrap:wrap;\n",
              "      gap: 12px;\n",
              "    }\n",
              "\n",
              "    .colab-df-convert {\n",
              "      background-color: #E8F0FE;\n",
              "      border: none;\n",
              "      border-radius: 50%;\n",
              "      cursor: pointer;\n",
              "      display: none;\n",
              "      fill: #1967D2;\n",
              "      height: 32px;\n",
              "      padding: 0 0 0 0;\n",
              "      width: 32px;\n",
              "    }\n",
              "\n",
              "    .colab-df-convert:hover {\n",
              "      background-color: #E2EBFA;\n",
              "      box-shadow: 0px 1px 2px rgba(60, 64, 67, 0.3), 0px 1px 3px 1px rgba(60, 64, 67, 0.15);\n",
              "      fill: #174EA6;\n",
              "    }\n",
              "\n",
              "    [theme=dark] .colab-df-convert {\n",
              "      background-color: #3B4455;\n",
              "      fill: #D2E3FC;\n",
              "    }\n",
              "\n",
              "    [theme=dark] .colab-df-convert:hover {\n",
              "      background-color: #434B5C;\n",
              "      box-shadow: 0px 1px 3px 1px rgba(0, 0, 0, 0.15);\n",
              "      filter: drop-shadow(0px 1px 2px rgba(0, 0, 0, 0.3));\n",
              "      fill: #FFFFFF;\n",
              "    }\n",
              "  </style>\n",
              "\n",
              "      <script>\n",
              "        const buttonEl =\n",
              "          document.querySelector('#df-6a0504bb-ccfd-4738-8cf1-ef81af46c28a button.colab-df-convert');\n",
              "        buttonEl.style.display =\n",
              "          google.colab.kernel.accessAllowed ? 'block' : 'none';\n",
              "\n",
              "        async function convertToInteractive(key) {\n",
              "          const element = document.querySelector('#df-6a0504bb-ccfd-4738-8cf1-ef81af46c28a');\n",
              "          const dataTable =\n",
              "            await google.colab.kernel.invokeFunction('convertToInteractive',\n",
              "                                                     [key], {});\n",
              "          if (!dataTable) return;\n",
              "\n",
              "          const docLinkHtml = 'Like what you see? Visit the ' +\n",
              "            '<a target=\"_blank\" href=https://colab.research.google.com/notebooks/data_table.ipynb>data table notebook</a>'\n",
              "            + ' to learn more about interactive tables.';\n",
              "          element.innerHTML = '';\n",
              "          dataTable['output_type'] = 'display_data';\n",
              "          await google.colab.output.renderOutput(dataTable, element);\n",
              "          const docLink = document.createElement('div');\n",
              "          docLink.innerHTML = docLinkHtml;\n",
              "          element.appendChild(docLink);\n",
              "        }\n",
              "      </script>\n",
              "    </div>\n",
              "  </div>\n",
              "  "
            ]
          },
          "metadata": {},
          "execution_count": 11
        }
      ],
      "source": [
        "data_set.describe()"
      ]
    },
    {
      "cell_type": "code",
      "execution_count": 12,
      "metadata": {
        "colab": {
          "base_uri": "https://localhost:8080/",
          "height": 217
        },
        "id": "d2NQoYmRbu_G",
        "outputId": "3b1a42a4-b2f8-479b-d8f3-ca2605fded35"
      },
      "outputs": [
        {
          "output_type": "display_data",
          "data": {
            "text/plain": [
              "<Figure size 1080x216 with 1 Axes>"
            ],
            "image/png": "[encoded data removed]"
          },
          "metadata": {
            "needs_background": "light"
          }
        }
      ],
      "source": [
        "fig, ax = plt.subplots(figsize=(15,3))\n",
        "ax=sns.countplot(x=\"Brand\", data=data_set1)"
      ]
    },
    {
      "cell_type": "code",
      "execution_count": 13,
      "metadata": {
        "colab": {
          "base_uri": "https://localhost:8080/",
          "height": 215
        },
        "id": "As07-g96c2Lq",
        "outputId": "d1e74972-3849-43d9-c59c-8b58f6eacc4e"
      },
      "outputs": [
        {
          "output_type": "display_data",
          "data": {
            "text/plain": [
              "<Figure size 1080x216 with 1 Axes>"
            ],
            "image/png": "[encoded data removed]"
          },
          "metadata": {
            "needs_background": "light"
          }
        }
      ],
      "source": [
        "fig, ax = plt.subplots(figsize=(15,3))\n",
        "ax=sns.barplot(x=\"Brand\",y=\"Original Price\", data=data_set1)"
      ]
    },
    {
      "cell_type": "code",
      "execution_count": 14,
      "metadata": {
        "colab": {
          "base_uri": "https://localhost:8080/",
          "height": 387
        },
        "id": "b0HY-c6KdPKI",
        "outputId": "83270e86-28eb-4eec-8912-c01ed587283f"
      },
      "outputs": [
        {
          "output_type": "execute_result",
          "data": {
            "text/plain": [
              "<seaborn.axisgrid.FacetGrid at 0x7fbc4566b8d0>"
            ]
          },
          "metadata": {},
          "execution_count": 14
        },
        {
          "output_type": "display_data",
          "data": {
            "text/plain": [
              "<Figure size 601.5x360 with 1 Axes>"
            ],
            "image/png": "[encoded data removed]"
          },
          "metadata": {
            "needs_background": "light"
          }
        }
      ],
      "source": [
        "sns.displot(data_set1, x='Selling Price',bins=8, hue='Brand',aspect=1.4)"
      ]
    },
    {
      "cell_type": "code",
      "execution_count": 15,
      "metadata": {
        "colab": {
          "base_uri": "https://localhost:8080/",
          "height": 269
        },
        "id": "RbbpsN1JfSEO",
        "outputId": "945dda2e-cd75-4451-8bbe-e45252145d02"
      },
      "outputs": [
        {
          "output_type": "display_data",
          "data": {
            "text/plain": [
              "<Figure size 432x288 with 2 Axes>"
            ],
            "image/png": "[encoded data removed]"
          },
          "metadata": {
            "needs_background": "light"
          }
        }
      ],
      "source": [
        "ax = sns.heatmap(data_set1.corr(), annot=True)"
      ]
    },
    {
      "cell_type": "markdown",
      "metadata": {
        "id": "d94GN_wrmKI4"
      },
      "source": [
        "Remarks: We tried to look into the data set and found that the flipkart mobile dataset has limited no. of features (only 9 different fetures) and also the data set contains fetaure like details of brands and models etc. Major price bearing fetures like camera , screen sizes etc. are not the part of the data set. \n",
        "\n",
        "Going forward with this kind of data set, the model may not provide much accuracy when given with inputs hence, we considered data set with more features with relevance. The more relevant data for price prediction from Kaggle is hence considered. "
      ]
    },
    {
      "cell_type": "markdown",
      "metadata": {
        "id": "6_av3tv9mC42"
      },
      "source": [
        "# New_data_set (more_features)"
      ]
    },
    {
      "cell_type": "markdown",
      "metadata": {
        "id": "qIxt3vERpf01"
      },
      "source": [
        "## Reading of data set"
      ]
    },
    {
      "cell_type": "code",
      "execution_count": 16,
      "metadata": {
        "colab": {
          "base_uri": "https://localhost:8080/",
          "height": 299
        },
        "id": "7KoYBf_1mHrH",
        "outputId": "7b2b41c3-a6f0-4845-a077-5afa93b5f741"
      },
      "outputs": [
        {
          "output_type": "execute_result",
          "data": {
            "text/plain": [
              "   battery_power  blue  clock_speed  dual_sim  fc  four_g  int_memory  m_dep  \\\n",
              "0            842     0          2.2         0   1       0           7    0.6   \n",
              "1           1021     1          0.5         1   0       1          53    0.7   \n",
              "2            563     1          0.5         1   2       1          41    0.9   \n",
              "3            615     1          2.5         0   0       0          10    0.8   \n",
              "4           1821     1          1.2         0  13       1          44    0.6   \n",
              "\n",
              "   mobile_wt  n_cores  ...  px_height  px_width   ram  sc_h  sc_w  talk_time  \\\n",
              "0        188        2  ...         20       756  2549     9     7         19   \n",
              "1        136        3  ...        905      1988  2631    17     3          7   \n",
              "2        145        5  ...       1263      1716  2603    11     2          9   \n",
              "3        131        6  ...       1216      1786  2769    16     8         11   \n",
              "4        141        2  ...       1208      1212  1411     8     2         15   \n",
              "\n",
              "   three_g  touch_screen  wifi  price_range  \n",
              "0        0             0     1            1  \n",
              "1        1             1     0            2  \n",
              "2        1             1     0            2  \n",
              "3        1             0     0            2  \n",
              "4        1             1     0            1  \n",
              "\n",
              "[5 rows x 21 columns]"
            ],
            "text/html": [
              "\n",
              "  <div id=\"df-b595646a-392c-4f64-a7e2-b239f4051ff3\">\n",
              "    <div class=\"colab-df-container\">\n",
              "      <div>\n",
              "<style scoped>\n",
              "    .dataframe tbody tr th:only-of-type {\n",
              "        vertical-align: middle;\n",
              "    }\n",
              "\n",
              "    .dataframe tbody tr th {\n",
              "        vertical-align: top;\n",
              "    }\n",
              "\n",
              "    .dataframe thead th {\n",
              "        text-align: right;\n",
              "    }\n",
              "</style>\n",
              "<table border=\"1\" class=\"dataframe\">\n",
              "  <thead>\n",
              "    <tr style=\"text-align: right;\">\n",
              "      <th></th>\n",
              "      <th>battery_power</th>\n",
              "      <th>blue</th>\n",
              "      <th>clock_speed</th>\n",
              "      <th>dual_sim</th>\n",
              "      <th>fc</th>\n",
              "      <th>four_g</th>\n",
              "      <th>int_memory</th>\n",
              "      <th>m_dep</th>\n",
              "      <th>mobile_wt</th>\n",
              "      <th>n_cores</th>\n",
              "      <th>...</th>\n",
              "      <th>px_height</th>\n",
              "      <th>px_width</th>\n",
              "      <th>ram</th>\n",
              "      <th>sc_h</th>\n",
              "      <th>sc_w</th>\n",
              "      <th>talk_time</th>\n",
              "      <th>three_g</th>\n",
              "      <th>touch_screen</th>\n",
              "      <th>wifi</th>\n",
              "      <th>price_range</th>\n",
              "    </tr>\n",
              "  </thead>\n",
              "  <tbody>\n",
              "    <tr>\n",
              "      <th>0</th>\n",
              "      <td>842</td>\n",
              "      <td>0</td>\n",
              "      <td>2.2</td>\n",
              "      <td>0</td>\n",
              "      <td>1</td>\n",
              "      <td>0</td>\n",
              "      <td>7</td>\n",
              "      <td>0.6</td>\n",
              "      <td>188</td>\n",
              "      <td>2</td>\n",
              "      <td>...</td>\n",
              "      <td>20</td>\n",
              "      <td>756</td>\n",
              "      <td>2549</td>\n",
              "      <td>9</td>\n",
              "      <td>7</td>\n",
              "      <td>19</td>\n",
              "      <td>0</td>\n",
              "      <td>0</td>\n",
              "      <td>1</td>\n",
              "      <td>1</td>\n",
              "    </tr>\n",
              "    <tr>\n",
              "      <th>1</th>\n",
              "      <td>1021</td>\n",
              "      <td>1</td>\n",
              "      <td>0.5</td>\n",
              "      <td>1</td>\n",
              "      <td>0</td>\n",
              "      <td>1</td>\n",
              "      <td>53</td>\n",
              "      <td>0.7</td>\n",
              "      <td>136</td>\n",
              "      <td>3</td>\n",
              "      <td>...</td>\n",
              "      <td>905</td>\n",
              "      <td>1988</td>\n",
              "      <td>2631</td>\n",
              "      <td>17</td>\n",
              "      <td>3</td>\n",
              "      <td>7</td>\n",
              "      <td>1</td>\n",
              "      <td>1</td>\n",
              "      <td>0</td>\n",
              "      <td>2</td>\n",
              "    </tr>\n",
              "    <tr>\n",
              "      <th>2</th>\n",
              "      <td>563</td>\n",
              "      <td>1</td>\n",
              "      <td>0.5</td>\n",
              "      <td>1</td>\n",
              "      <td>2</td>\n",
              "      <td>1</td>\n",
              "      <td>41</td>\n",
              "      <td>0.9</td>\n",
              "      <td>145</td>\n",
              "      <td>5</td>\n",
              "      <td>...</td>\n",
              "      <td>1263</td>\n",
              "      <td>1716</td>\n",
              "      <td>2603</td>\n",
              "      <td>11</td>\n",
              "      <td>2</td>\n",
              "      <td>9</td>\n",
              "      <td>1</td>\n",
              "      <td>1</td>\n",
              "      <td>0</td>\n",
              "      <td>2</td>\n",
              "    </tr>\n",
              "    <tr>\n",
              "      <th>3</th>\n",
              "      <td>615</td>\n",
              "      <td>1</td>\n",
              "      <td>2.5</td>\n",
              "      <td>0</td>\n",
              "      <td>0</td>\n",
              "      <td>0</td>\n",
              "      <td>10</td>\n",
              "      <td>0.8</td>\n",
              "      <td>131</td>\n",
              "      <td>6</td>\n",
              "      <td>...</td>\n",
              "      <td>1216</td>\n",
              "      <td>1786</td>\n",
              "      <td>2769</td>\n",
              "      <td>16</td>\n",
              "      <td>8</td>\n",
              "      <td>11</td>\n",
              "      <td>1</td>\n",
              "      <td>0</td>\n",
              "      <td>0</td>\n",
              "      <td>2</td>\n",
              "    </tr>\n",
              "    <tr>\n",
              "      <th>4</th>\n",
              "      <td>1821</td>\n",
              "      <td>1</td>\n",
              "      <td>1.2</td>\n",
              "      <td>0</td>\n",
              "      <td>13</td>\n",
              "      <td>1</td>\n",
              "      <td>44</td>\n",
              "      <td>0.6</td>\n",
              "      <td>141</td>\n",
              "      <td>2</td>\n",
              "      <td>...</td>\n",
              "      <td>1208</td>\n",
              "      <td>1212</td>\n",
              "      <td>1411</td>\n",
              "      <td>8</td>\n",
              "      <td>2</td>\n",
              "      <td>15</td>\n",
              "      <td>1</td>\n",
              "      <td>1</td>\n",
              "      <td>0</td>\n",
              "      <td>1</td>\n",
              "    </tr>\n",
              "  </tbody>\n",
              "</table>\n",
              "<p>5 rows × 21 columns</p>\n",
              "</div>\n",
              "      <button class=\"colab-df-convert\" onclick=\"convertToInteractive('df-b595646a-392c-4f64-a7e2-b239f4051ff3')\"\n",
              "              title=\"Convert this dataframe to an interactive table.\"\n",
              "              style=\"display:none;\">\n",
              "        \n",
              "  <svg xmlns=\"http://www.w3.org/2000/svg\" height=\"24px\"viewBox=\"0 0 24 24\"\n",
              "       width=\"24px\">\n",
              "    <path d=\"M0 0h24v24H0V0z\" fill=\"none\"/>\n",
              "    <path d=\"M18.56 5.44l.94 2.06.94-2.06 2.06-.94-2.06-.94-.94-2.06-.94 2.06-2.06.94zm-11 1L8.5 8.5l.94-2.06 2.06-.94-2.06-.94L8.5 2.5l-.94 2.06-2.06.94zm10 10l.94 2.06.94-2.06 2.06-.94-2.06-.94-.94-2.06-.94 2.06-2.06.94z\"/><path d=\"M17.41 7.96l-1.37-1.37c-.4-.4-.92-.59-1.43-.59-.52 0-1.04.2-1.43.59L10.3 9.45l-7.72 7.72c-.78.78-.78 2.05 0 2.83L4 21.41c.39.39.9.59 1.41.59.51 0 1.02-.2 1.41-.59l7.78-7.78 2.81-2.81c.8-.78.8-2.07 0-2.86zM5.41 20L4 18.59l7.72-7.72 1.47 1.35L5.41 20z\"/>\n",
              "  </svg>\n",
              "      </button>\n",
              "      \n",
              "  <style>\n",
              "    .colab-df-container {\n",
              "      display:flex;\n",
              "      flex-wrap:wrap;\n",
              "      gap: 12px;\n",
              "    }\n",
              "\n",
              "    .colab-df-convert {\n",
              "      background-color: #E8F0FE;\n",
              "      border: none;\n",
              "      border-radius: 50%;\n",
              "      cursor: pointer;\n",
              "      display: none;\n",
              "      fill: #1967D2;\n",
              "      height: 32px;\n",
              "      padding: 0 0 0 0;\n",
              "      width: 32px;\n",
              "    }\n",
              "\n",
              "    .colab-df-convert:hover {\n",
              "      background-color: #E2EBFA;\n",
              "      box-shadow: 0px 1px 2px rgba(60, 64, 67, 0.3), 0px 1px 3px 1px rgba(60, 64, 67, 0.15);\n",
              "      fill: #174EA6;\n",
              "    }\n",
              "\n",
              "    [theme=dark] .colab-df-convert {\n",
              "      background-color: #3B4455;\n",
              "      fill: #D2E3FC;\n",
              "    }\n",
              "\n",
              "    [theme=dark] .colab-df-convert:hover {\n",
              "      background-color: #434B5C;\n",
              "      box-shadow: 0px 1px 3px 1px rgba(0, 0, 0, 0.15);\n",
              "      filter: drop-shadow(0px 1px 2px rgba(0, 0, 0, 0.3));\n",
              "      fill: #FFFFFF;\n",
              "    }\n",
              "  </style>\n",
              "\n",
              "      <script>\n",
              "        const buttonEl =\n",
              "          document.querySelector('#df-b595646a-392c-4f64-a7e2-b239f4051ff3 button.colab-df-convert');\n",
              "        buttonEl.style.display =\n",
              "          google.colab.kernel.accessAllowed ? 'block' : 'none';\n",
              "\n",
              "        async function convertToInteractive(key) {\n",
              "          const element = document.querySelector('#df-b595646a-392c-4f64-a7e2-b239f4051ff3');\n",
              "          const dataTable =\n",
              "            await google.colab.kernel.invokeFunction('convertToInteractive',\n",
              "                                                     [key], {});\n",
              "          if (!dataTable) return;\n",
              "\n",
              "          const docLinkHtml = 'Like what you see? Visit the ' +\n",
              "            '<a target=\"_blank\" href=https://colab.research.google.com/notebooks/data_table.ipynb>data table notebook</a>'\n",
              "            + ' to learn more about interactive tables.';\n",
              "          element.innerHTML = '';\n",
              "          dataTable['output_type'] = 'display_data';\n",
              "          await google.colab.output.renderOutput(dataTable, element);\n",
              "          const docLink = document.createElement('div');\n",
              "          docLink.innerHTML = docLinkHtml;\n",
              "          element.appendChild(docLink);\n",
              "        }\n",
              "      </script>\n",
              "    </div>\n",
              "  </div>\n",
              "  "
            ]
          },
          "metadata": {},
          "execution_count": 16
        }
      ],
      "source": [
        "data_new_features = pd.read_csv('/content/sample_data/train.csv')\n",
        "data_new_features.head()"
      ]
    },
    {
      "cell_type": "code",
      "execution_count": 17,
      "metadata": {
        "colab": {
          "base_uri": "https://localhost:8080/"
        },
        "id": "wfYllq2gsZf5",
        "outputId": "4c111c21-1533-42d3-8ff4-1e10b533b89d"
      },
      "outputs": [
        {
          "output_type": "stream",
          "name": "stdout",
          "text": [
            "<class 'pandas.core.frame.DataFrame'>\n",
            "RangeIndex: 2000 entries, 0 to 1999\n",
            "Data columns (total 21 columns):\n",
            " #   Column         Non-Null Count  Dtype  \n",
            "---  ------         --------------  -----  \n",
            " 0   battery_power  2000 non-null   int64  \n",
            " 1   blue           2000 non-null   int64  \n",
            " 2   clock_speed    2000 non-null   float64\n",
            " 3   dual_sim       2000 non-null   int64  \n",
            " 4   fc             2000 non-null   int64  \n",
            " 5   four_g         2000 non-null   int64  \n",
            " 6   int_memory     2000 non-null   int64  \n",
            " 7   m_dep          2000 non-null   float64\n",
            " 8   mobile_wt      2000 non-null   int64  \n",
            " 9   n_cores        2000 non-null   int64  \n",
            " 10  pc             2000 non-null   int64  \n",
            " 11  px_height      2000 non-null   int64  \n",
            " 12  px_width       2000 non-null   int64  \n",
            " 13  ram            2000 non-null   int64  \n",
            " 14  sc_h           2000 non-null   int64  \n",
            " 15  sc_w           2000 non-null   int64  \n",
            " 16  talk_time      2000 non-null   int64  \n",
            " 17  three_g        2000 non-null   int64  \n",
            " 18  touch_screen   2000 non-null   int64  \n",
            " 19  wifi           2000 non-null   int64  \n",
            " 20  price_range    2000 non-null   int64  \n",
            "dtypes: float64(2), int64(19)\n",
            "memory usage: 328.2 KB\n"
          ]
        }
      ],
      "source": [
        "data_new_features.info()"
      ]
    },
    {
      "cell_type": "markdown",
      "source": [
        "###Dependency of PRICE RANGE over RAM"
      ],
      "metadata": {
        "id": "12907rmqps5I"
      }
    },
    {
      "cell_type": "code",
      "source": [
        "sns.displot(data_new_features, x='ram', bins=8, hue='price_range',aspect=1.0)"
      ],
      "metadata": {
        "id": "Dbpxs9R52yrI",
        "colab": {
          "base_uri": "https://localhost:8080/",
          "height": 387
        },
        "outputId": "dac80acf-07d2-4675-aa8c-fcf95622df89"
      },
      "execution_count": 18,
      "outputs": [
        {
          "output_type": "execute_result",
          "data": {
            "text/plain": [
              "<seaborn.axisgrid.FacetGrid at 0x7fbc455a58d0>"
            ]
          },
          "metadata": {},
          "execution_count": 18
        },
        {
          "output_type": "display_data",
          "data": {
            "text/plain": [
              "<Figure size 427x360 with 1 Axes>"
            ],
            "image/png": "[encoded data removed]"
          },
          "metadata": {
            "needs_background": "light"
          }
        }
      ]
    },
    {
      "cell_type": "code",
      "execution_count": 19,
      "metadata": {
        "colab": {
          "base_uri": "https://localhost:8080/"
        },
        "id": "87fLXdCl_RXy",
        "outputId": "f83286f5-fb02-4140-aa26-cd173fd3c893"
      },
      "outputs": [
        {
          "output_type": "execute_result",
          "data": {
            "text/plain": [
              "battery_power    0\n",
              "blue             0\n",
              "clock_speed      0\n",
              "dual_sim         0\n",
              "fc               0\n",
              "four_g           0\n",
              "int_memory       0\n",
              "m_dep            0\n",
              "mobile_wt        0\n",
              "n_cores          0\n",
              "pc               0\n",
              "px_height        0\n",
              "px_width         0\n",
              "ram              0\n",
              "sc_h             0\n",
              "sc_w             0\n",
              "talk_time        0\n",
              "three_g          0\n",
              "touch_screen     0\n",
              "wifi             0\n",
              "price_range      0\n",
              "dtype: int64"
            ]
          },
          "metadata": {},
          "execution_count": 19
        }
      ],
      "source": [
        "data_new_features.isnull().sum()"
      ]
    },
    {
      "cell_type": "code",
      "execution_count": 20,
      "metadata": {
        "id": "n7LA6hVov8-H",
        "colab": {
          "base_uri": "https://localhost:8080/",
          "height": 393
        },
        "outputId": "ae83a26f-147b-44b7-dee9-7486b8f9570f"
      },
      "outputs": [
        {
          "output_type": "execute_result",
          "data": {
            "text/plain": [
              "       battery_power       blue  clock_speed     dual_sim           fc  \\\n",
              "count    2000.000000  2000.0000  2000.000000  2000.000000  2000.000000   \n",
              "mean     1238.518500     0.4950     1.522250     0.509500     4.309500   \n",
              "std       439.418206     0.5001     0.816004     0.500035     4.341444   \n",
              "min       501.000000     0.0000     0.500000     0.000000     0.000000   \n",
              "25%       851.750000     0.0000     0.700000     0.000000     1.000000   \n",
              "50%      1226.000000     0.0000     1.500000     1.000000     3.000000   \n",
              "75%      1615.250000     1.0000     2.200000     1.000000     7.000000   \n",
              "max      1998.000000     1.0000     3.000000     1.000000    19.000000   \n",
              "\n",
              "            four_g   int_memory        m_dep    mobile_wt      n_cores  ...  \\\n",
              "count  2000.000000  2000.000000  2000.000000  2000.000000  2000.000000  ...   \n",
              "mean      0.521500    32.046500     0.501750   140.249000     4.520500  ...   \n",
              "std       0.499662    18.145715     0.288416    35.399655     2.287837  ...   \n",
              "min       0.000000     2.000000     0.100000    80.000000     1.000000  ...   \n",
              "25%       0.000000    16.000000     0.200000   109.000000     3.000000  ...   \n",
              "50%       1.000000    32.000000     0.500000   141.000000     4.000000  ...   \n",
              "75%       1.000000    48.000000     0.800000   170.000000     7.000000  ...   \n",
              "max       1.000000    64.000000     1.000000   200.000000     8.000000  ...   \n",
              "\n",
              "         px_height     px_width          ram         sc_h         sc_w  \\\n",
              "count  2000.000000  2000.000000  2000.000000  2000.000000  2000.000000   \n",
              "mean    645.108000  1251.515500  2124.213000    12.306500     5.767000   \n",
              "std     443.780811   432.199447  1084.732044     4.213245     4.356398   \n",
              "min       0.000000   500.000000   256.000000     5.000000     0.000000   \n",
              "25%     282.750000   874.750000  1207.500000     9.000000     2.000000   \n",
              "50%     564.000000  1247.000000  2146.500000    12.000000     5.000000   \n",
              "75%     947.250000  1633.000000  3064.500000    16.000000     9.000000   \n",
              "max    1960.000000  1998.000000  3998.000000    19.000000    18.000000   \n",
              "\n",
              "         talk_time      three_g  touch_screen         wifi  price_range  \n",
              "count  2000.000000  2000.000000   2000.000000  2000.000000  2000.000000  \n",
              "mean     11.011000     0.761500      0.503000     0.507000     1.500000  \n",
              "std       5.463955     0.426273      0.500116     0.500076     1.118314  \n",
              "min       2.000000     0.000000      0.000000     0.000000     0.000000  \n",
              "25%       6.000000     1.000000      0.000000     0.000000     0.750000  \n",
              "50%      11.000000     1.000000      1.000000     1.000000     1.500000  \n",
              "75%      16.000000     1.000000      1.000000     1.000000     2.250000  \n",
              "max      20.000000     1.000000      1.000000     1.000000     3.000000  \n",
              "\n",
              "[8 rows x 21 columns]"
            ],
            "text/html": [
              "\n",
              "  <div id=\"df-019134ed-a210-4564-b8a1-d4d2b6e3a6e7\">\n",
              "    <div class=\"colab-df-container\">\n",
              "      <div>\n",
              "<style scoped>\n",
              "    .dataframe tbody tr th:only-of-type {\n",
              "        vertical-align: middle;\n",
              "    }\n",
              "\n",
              "    .dataframe tbody tr th {\n",
              "        vertical-align: top;\n",
              "    }\n",
              "\n",
              "    .dataframe thead th {\n",
              "        text-align: right;\n",
              "    }\n",
              "</style>\n",
              "<table border=\"1\" class=\"dataframe\">\n",
              "  <thead>\n",
              "    <tr style=\"text-align: right;\">\n",
              "      <th></th>\n",
              "      <th>battery_power</th>\n",
              "      <th>blue</th>\n",
              "      <th>clock_speed</th>\n",
              "      <th>dual_sim</th>\n",
              "      <th>fc</th>\n",
              "      <th>four_g</th>\n",
              "      <th>int_memory</th>\n",
              "      <th>m_dep</th>\n",
              "      <th>mobile_wt</th>\n",
              "      <th>n_cores</th>\n",
              "      <th>...</th>\n",
              "      <th>px_height</th>\n",
              "      <th>px_width</th>\n",
              "      <th>ram</th>\n",
              "      <th>sc_h</th>\n",
              "      <th>sc_w</th>\n",
              "      <th>talk_time</th>\n",
              "      <th>three_g</th>\n",
              "      <th>touch_screen</th>\n",
              "      <th>wifi</th>\n",
              "      <th>price_range</th>\n",
              "    </tr>\n",
              "  </thead>\n",
              "  <tbody>\n",
              "    <tr>\n",
              "      <th>count</th>\n",
              "      <td>2000.000000</td>\n",
              "      <td>2000.0000</td>\n",
              "      <td>2000.000000</td>\n",
              "      <td>2000.000000</td>\n",
              "      <td>2000.000000</td>\n",
              "      <td>2000.000000</td>\n",
              "      <td>2000.000000</td>\n",
              "      <td>2000.000000</td>\n",
              "      <td>2000.000000</td>\n",
              "      <td>2000.000000</td>\n",
              "      <td>...</td>\n",
              "      <td>2000.000000</td>\n",
              "      <td>2000.000000</td>\n",
              "      <td>2000.000000</td>\n",
              "      <td>2000.000000</td>\n",
              "      <td>2000.000000</td>\n",
              "      <td>2000.000000</td>\n",
              "      <td>2000.000000</td>\n",
              "      <td>2000.000000</td>\n",
              "      <td>2000.000000</td>\n",
              "      <td>2000.000000</td>\n",
              "    </tr>\n",
              "    <tr>\n",
              "      <th>mean</th>\n",
              "      <td>1238.518500</td>\n",
              "      <td>0.4950</td>\n",
              "      <td>1.522250</td>\n",
              "      <td>0.509500</td>\n",
              "      <td>4.309500</td>\n",
              "      <td>0.521500</td>\n",
              "      <td>32.046500</td>\n",
              "      <td>0.501750</td>\n",
              "      <td>140.249000</td>\n",
              "      <td>4.520500</td>\n",
              "      <td>...</td>\n",
              "      <td>645.108000</td>\n",
              "      <td>1251.515500</td>\n",
              "      <td>2124.213000</td>\n",
              "      <td>12.306500</td>\n",
              "      <td>5.767000</td>\n",
              "      <td>11.011000</td>\n",
              "      <td>0.761500</td>\n",
              "      <td>0.503000</td>\n",
              "      <td>0.507000</td>\n",
              "      <td>1.500000</td>\n",
              "    </tr>\n",
              "    <tr>\n",
              "      <th>std</th>\n",
              "      <td>439.418206</td>\n",
              "      <td>0.5001</td>\n",
              "      <td>0.816004</td>\n",
              "      <td>0.500035</td>\n",
              "      <td>4.341444</td>\n",
              "      <td>0.499662</td>\n",
              "      <td>18.145715</td>\n",
              "      <td>0.288416</td>\n",
              "      <td>35.399655</td>\n",
              "      <td>2.287837</td>\n",
              "      <td>...</td>\n",
              "      <td>443.780811</td>\n",
              "      <td>432.199447</td>\n",
              "      <td>1084.732044</td>\n",
              "      <td>4.213245</td>\n",
              "      <td>4.356398</td>\n",
              "      <td>5.463955</td>\n",
              "      <td>0.426273</td>\n",
              "      <td>0.500116</td>\n",
              "      <td>0.500076</td>\n",
              "      <td>1.118314</td>\n",
              "    </tr>\n",
              "    <tr>\n",
              "      <th>min</th>\n",
              "      <td>501.000000</td>\n",
              "      <td>0.0000</td>\n",
              "      <td>0.500000</td>\n",
              "      <td>0.000000</td>\n",
              "      <td>0.000000</td>\n",
              "      <td>0.000000</td>\n",
              "      <td>2.000000</td>\n",
              "      <td>0.100000</td>\n",
              "      <td>80.000000</td>\n",
              "      <td>1.000000</td>\n",
              "      <td>...</td>\n",
              "      <td>0.000000</td>\n",
              "      <td>500.000000</td>\n",
              "      <td>256.000000</td>\n",
              "      <td>5.000000</td>\n",
              "      <td>0.000000</td>\n",
              "      <td>2.000000</td>\n",
              "      <td>0.000000</td>\n",
              "      <td>0.000000</td>\n",
              "      <td>0.000000</td>\n",
              "      <td>0.000000</td>\n",
              "    </tr>\n",
              "    <tr>\n",
              "      <th>25%</th>\n",
              "      <td>851.750000</td>\n",
              "      <td>0.0000</td>\n",
              "      <td>0.700000</td>\n",
              "      <td>0.000000</td>\n",
              "      <td>1.000000</td>\n",
              "      <td>0.000000</td>\n",
              "      <td>16.000000</td>\n",
              "      <td>0.200000</td>\n",
              "      <td>109.000000</td>\n",
              "      <td>3.000000</td>\n",
              "      <td>...</td>\n",
              "      <td>282.750000</td>\n",
              "      <td>874.750000</td>\n",
              "      <td>1207.500000</td>\n",
              "      <td>9.000000</td>\n",
              "      <td>2.000000</td>\n",
              "      <td>6.000000</td>\n",
              "      <td>1.000000</td>\n",
              "      <td>0.000000</td>\n",
              "      <td>0.000000</td>\n",
              "      <td>0.750000</td>\n",
              "    </tr>\n",
              "    <tr>\n",
              "      <th>50%</th>\n",
              "      <td>1226.000000</td>\n",
              "      <td>0.0000</td>\n",
              "      <td>1.500000</td>\n",
              "      <td>1.000000</td>\n",
              "      <td>3.000000</td>\n",
              "      <td>1.000000</td>\n",
              "      <td>32.000000</td>\n",
              "      <td>0.500000</td>\n",
              "      <td>141.000000</td>\n",
              "      <td>4.000000</td>\n",
              "      <td>...</td>\n",
              "      <td>564.000000</td>\n",
              "      <td>1247.000000</td>\n",
              "      <td>2146.500000</td>\n",
              "      <td>12.000000</td>\n",
              "      <td>5.000000</td>\n",
              "      <td>11.000000</td>\n",
              "      <td>1.000000</td>\n",
              "      <td>1.000000</td>\n",
              "      <td>1.000000</td>\n",
              "      <td>1.500000</td>\n",
              "    </tr>\n",
              "    <tr>\n",
              "      <th>75%</th>\n",
              "      <td>1615.250000</td>\n",
              "      <td>1.0000</td>\n",
              "      <td>2.200000</td>\n",
              "      <td>1.000000</td>\n",
              "      <td>7.000000</td>\n",
              "      <td>1.000000</td>\n",
              "      <td>48.000000</td>\n",
              "      <td>0.800000</td>\n",
              "      <td>170.000000</td>\n",
              "      <td>7.000000</td>\n",
              "      <td>...</td>\n",
              "      <td>947.250000</td>\n",
              "      <td>1633.000000</td>\n",
              "      <td>3064.500000</td>\n",
              "      <td>16.000000</td>\n",
              "      <td>9.000000</td>\n",
              "      <td>16.000000</td>\n",
              "      <td>1.000000</td>\n",
              "      <td>1.000000</td>\n",
              "      <td>1.000000</td>\n",
              "      <td>2.250000</td>\n",
              "    </tr>\n",
              "    <tr>\n",
              "      <th>max</th>\n",
              "      <td>1998.000000</td>\n",
              "      <td>1.0000</td>\n",
              "      <td>3.000000</td>\n",
              "      <td>1.000000</td>\n",
              "      <td>19.000000</td>\n",
              "      <td>1.000000</td>\n",
              "      <td>64.000000</td>\n",
              "      <td>1.000000</td>\n",
              "      <td>200.000000</td>\n",
              "      <td>8.000000</td>\n",
              "      <td>...</td>\n",
              "      <td>1960.000000</td>\n",
              "      <td>1998.000000</td>\n",
              "      <td>3998.000000</td>\n",
              "      <td>19.000000</td>\n",
              "      <td>18.000000</td>\n",
              "      <td>20.000000</td>\n",
              "      <td>1.000000</td>\n",
              "      <td>1.000000</td>\n",
              "      <td>1.000000</td>\n",
              "      <td>3.000000</td>\n",
              "    </tr>\n",
              "  </tbody>\n",
              "</table>\n",
              "<p>8 rows × 21 columns</p>\n",
              "</div>\n",
              "      <button class=\"colab-df-convert\" onclick=\"convertToInteractive('df-019134ed-a210-4564-b8a1-d4d2b6e3a6e7')\"\n",
              "              title=\"Convert this dataframe to an interactive table.\"\n",
              "              style=\"display:none;\">\n",
              "        \n",
              "  <svg xmlns=\"http://www.w3.org/2000/svg\" height=\"24px\"viewBox=\"0 0 24 24\"\n",
              "       width=\"24px\">\n",
              "    <path d=\"M0 0h24v24H0V0z\" fill=\"none\"/>\n",
              "    <path d=\"M18.56 5.44l.94 2.06.94-2.06 2.06-.94-2.06-.94-.94-2.06-.94 2.06-2.06.94zm-11 1L8.5 8.5l.94-2.06 2.06-.94-2.06-.94L8.5 2.5l-.94 2.06-2.06.94zm10 10l.94 2.06.94-2.06 2.06-.94-2.06-.94-.94-2.06-.94 2.06-2.06.94z\"/><path d=\"M17.41 7.96l-1.37-1.37c-.4-.4-.92-.59-1.43-.59-.52 0-1.04.2-1.43.59L10.3 9.45l-7.72 7.72c-.78.78-.78 2.05 0 2.83L4 21.41c.39.39.9.59 1.41.59.51 0 1.02-.2 1.41-.59l7.78-7.78 2.81-2.81c.8-.78.8-2.07 0-2.86zM5.41 20L4 18.59l7.72-7.72 1.47 1.35L5.41 20z\"/>\n",
              "  </svg>\n",
              "      </button>\n",
              "      \n",
              "  <style>\n",
              "    .colab-df-container {\n",
              "      display:flex;\n",
              "      flex-wrap:wrap;\n",
              "      gap: 12px;\n",
              "    }\n",
              "\n",
              "    .colab-df-convert {\n",
              "      background-color: #E8F0FE;\n",
              "      border: none;\n",
              "      border-radius: 50%;\n",
              "      cursor: pointer;\n",
              "      display: none;\n",
              "      fill: #1967D2;\n",
              "      height: 32px;\n",
              "      padding: 0 0 0 0;\n",
              "      width: 32px;\n",
              "    }\n",
              "\n",
              "    .colab-df-convert:hover {\n",
              "      background-color: #E2EBFA;\n",
              "      box-shadow: 0px 1px 2px rgba(60, 64, 67, 0.3), 0px 1px 3px 1px rgba(60, 64, 67, 0.15);\n",
              "      fill: #174EA6;\n",
              "    }\n",
              "\n",
              "    [theme=dark] .colab-df-convert {\n",
              "      background-color: #3B4455;\n",
              "      fill: #D2E3FC;\n",
              "    }\n",
              "\n",
              "    [theme=dark] .colab-df-convert:hover {\n",
              "      background-color: #434B5C;\n",
              "      box-shadow: 0px 1px 3px 1px rgba(0, 0, 0, 0.15);\n",
              "      filter: drop-shadow(0px 1px 2px rgba(0, 0, 0, 0.3));\n",
              "      fill: #FFFFFF;\n",
              "    }\n",
              "  </style>\n",
              "\n",
              "      <script>\n",
              "        const buttonEl =\n",
              "          document.querySelector('#df-019134ed-a210-4564-b8a1-d4d2b6e3a6e7 button.colab-df-convert');\n",
              "        buttonEl.style.display =\n",
              "          google.colab.kernel.accessAllowed ? 'block' : 'none';\n",
              "\n",
              "        async function convertToInteractive(key) {\n",
              "          const element = document.querySelector('#df-019134ed-a210-4564-b8a1-d4d2b6e3a6e7');\n",
              "          const dataTable =\n",
              "            await google.colab.kernel.invokeFunction('convertToInteractive',\n",
              "                                                     [key], {});\n",
              "          if (!dataTable) return;\n",
              "\n",
              "          const docLinkHtml = 'Like what you see? Visit the ' +\n",
              "            '<a target=\"_blank\" href=https://colab.research.google.com/notebooks/data_table.ipynb>data table notebook</a>'\n",
              "            + ' to learn more about interactive tables.';\n",
              "          element.innerHTML = '';\n",
              "          dataTable['output_type'] = 'display_data';\n",
              "          await google.colab.output.renderOutput(dataTable, element);\n",
              "          const docLink = document.createElement('div');\n",
              "          docLink.innerHTML = docLinkHtml;\n",
              "          element.appendChild(docLink);\n",
              "        }\n",
              "      </script>\n",
              "    </div>\n",
              "  </div>\n",
              "  "
            ]
          },
          "metadata": {},
          "execution_count": 20
        }
      ],
      "source": [
        "data_new_features.describe ()"
      ]
    },
    {
      "cell_type": "markdown",
      "metadata": {
        "id": "Jcs719bKv-eC"
      },
      "source": [
        "## Correlation matrix"
      ]
    },
    {
      "cell_type": "code",
      "execution_count": 21,
      "metadata": {
        "id": "WsckEKaUzrmp",
        "colab": {
          "base_uri": "https://localhost:8080/",
          "height": 657
        },
        "outputId": "4c507151-c1e8-40d6-9fc1-196518973513"
      },
      "outputs": [
        {
          "output_type": "display_data",
          "data": {
            "text/plain": [
              "<Figure size 1080x720 with 2 Axes>"
            ],
            "image/png": "[encoded data removed]"
          },
          "metadata": {
            "needs_background": "light"
          }
        }
      ],
      "source": [
        "plt.figure(figsize=(15, 10))\n",
        "ax1 = sns.heatmap(data_new_features.corr(), annot=True,  linewidths = 0.5)\n",
        "plt.show()"
      ]
    },
    {
      "cell_type": "markdown",
      "metadata": {
        "id": "4wYx9NLcwEyV"
      },
      "source": [
        "Remarks: The features within the datasets are found not co-related and hence the data sets can be taken as it is."
      ]
    },
    {
      "cell_type": "markdown",
      "metadata": {
        "id": "kx_qs3S3-jby"
      },
      "source": [
        "## Splitting of Input and Output from data set"
      ]
    },
    {
      "cell_type": "code",
      "execution_count": 22,
      "metadata": {
        "id": "p1P4I1MC-m7u",
        "colab": {
          "base_uri": "https://localhost:8080/"
        },
        "outputId": "f30b26b5-2de6-4405-991c-b5d14d079385"
      },
      "outputs": [
        {
          "output_type": "stream",
          "name": "stdout",
          "text": [
            "(2000,)\n",
            "(2000, 20)\n"
          ]
        },
        {
          "output_type": "execute_result",
          "data": {
            "text/plain": [
              "array([1, 2, 3, 0])"
            ]
          },
          "metadata": {},
          "execution_count": 22
        }
      ],
      "source": [
        "y = data_new_features['price_range']\n",
        "x = data_new_features.drop('price_range', axis = 1)\n",
        "print(y.shape)\n",
        "print(x.shape)\n",
        "y.unique()"
      ]
    },
    {
      "cell_type": "markdown",
      "metadata": {
        "id": "IAFb0KUkJGBJ"
      },
      "source": [
        "## Distribution of price range"
      ]
    },
    {
      "cell_type": "code",
      "execution_count": 23,
      "metadata": {
        "id": "eceTiZlQEqOV",
        "colab": {
          "base_uri": "https://localhost:8080/",
          "height": 280
        },
        "outputId": "1aedfffb-f868-4831-db1d-9afc9ac35123"
      },
      "outputs": [
        {
          "output_type": "display_data",
          "data": {
            "text/plain": [
              "<Figure size 360x288 with 1 Axes>"
            ],
            "image/png": "[encoded data removed]"
          },
          "metadata": {
            "needs_background": "light"
          }
        }
      ],
      "source": [
        "plt.figure(figsize=(5, 4))\n",
        "ax2=sns.countplot(x=data_new_features['price_range'], data=data_new_features)\n",
        "plt.show()"
      ]
    },
    {
      "cell_type": "markdown",
      "metadata": {
        "id": "HCdPbnz3yB1j"
      },
      "source": [
        "Remarks: The distribution of data over all price range is equally distributed"
      ]
    },
    {
      "cell_type": "code",
      "execution_count": 24,
      "metadata": {
        "id": "RTLZHkuyJoU9",
        "colab": {
          "base_uri": "https://localhost:8080/"
        },
        "outputId": "448a0a6f-4111-46ff-a05f-c13a066657cd"
      },
      "outputs": [
        {
          "output_type": "stream",
          "name": "stdout",
          "text": [
            "(1600, 20)\n",
            "(400, 20)\n"
          ]
        }
      ],
      "source": [
        "x_train, x_test, y_train, y_test = train_test_split(x, y, test_size = 0.2, random_state = 91)\n",
        "print(x_train.shape)\n",
        "print(x_test.shape)"
      ]
    },
    {
      "cell_type": "markdown",
      "source": [
        "#Logistic Regression"
      ],
      "metadata": {
        "id": "A6g7YmDfgH6j"
      }
    },
    {
      "cell_type": "code",
      "execution_count": 25,
      "metadata": {
        "id": "DiiG26hIPZqL",
        "colab": {
          "base_uri": "https://localhost:8080/"
        },
        "outputId": "52863b87-3838-4d7f-bea5-a771c3f1321b"
      },
      "outputs": [
        {
          "output_type": "stream",
          "name": "stderr",
          "text": [
            "/usr/local/lib/python3.7/dist-packages/sklearn/linear_model/_sag.py:354: ConvergenceWarning: The max_iter was reached which means the coef_ did not converge\n",
            "  ConvergenceWarning,\n",
            "/usr/local/lib/python3.7/dist-packages/sklearn/linear_model/_sag.py:354: ConvergenceWarning: The max_iter was reached which means the coef_ did not converge\n",
            "  ConvergenceWarning,\n",
            "/usr/local/lib/python3.7/dist-packages/sklearn/linear_model/_sag.py:354: ConvergenceWarning: The max_iter was reached which means the coef_ did not converge\n",
            "  ConvergenceWarning,\n",
            "/usr/local/lib/python3.7/dist-packages/sklearn/linear_model/_sag.py:354: ConvergenceWarning: The max_iter was reached which means the coef_ did not converge\n",
            "  ConvergenceWarning,\n",
            "/usr/local/lib/python3.7/dist-packages/sklearn/linear_model/_sag.py:354: ConvergenceWarning: The max_iter was reached which means the coef_ did not converge\n",
            "  ConvergenceWarning,\n",
            "/usr/local/lib/python3.7/dist-packages/sklearn/linear_model/_sag.py:354: ConvergenceWarning: The max_iter was reached which means the coef_ did not converge\n",
            "  ConvergenceWarning,\n",
            "/usr/local/lib/python3.7/dist-packages/sklearn/linear_model/_sag.py:354: ConvergenceWarning: The max_iter was reached which means the coef_ did not converge\n",
            "  ConvergenceWarning,\n",
            "/usr/local/lib/python3.7/dist-packages/sklearn/linear_model/_sag.py:354: ConvergenceWarning: The max_iter was reached which means the coef_ did not converge\n",
            "  ConvergenceWarning,\n",
            "/usr/local/lib/python3.7/dist-packages/sklearn/linear_model/_sag.py:354: ConvergenceWarning: The max_iter was reached which means the coef_ did not converge\n",
            "  ConvergenceWarning,\n",
            "/usr/local/lib/python3.7/dist-packages/sklearn/linear_model/_sag.py:354: ConvergenceWarning: The max_iter was reached which means the coef_ did not converge\n",
            "  ConvergenceWarning,\n",
            "/usr/local/lib/python3.7/dist-packages/sklearn/linear_model/_sag.py:354: ConvergenceWarning: The max_iter was reached which means the coef_ did not converge\n",
            "  ConvergenceWarning,\n",
            "/usr/local/lib/python3.7/dist-packages/sklearn/linear_model/_sag.py:354: ConvergenceWarning: The max_iter was reached which means the coef_ did not converge\n",
            "  ConvergenceWarning,\n",
            "/usr/local/lib/python3.7/dist-packages/sklearn/linear_model/_sag.py:354: ConvergenceWarning: The max_iter was reached which means the coef_ did not converge\n",
            "  ConvergenceWarning,\n",
            "/usr/local/lib/python3.7/dist-packages/sklearn/linear_model/_sag.py:354: ConvergenceWarning: The max_iter was reached which means the coef_ did not converge\n",
            "  ConvergenceWarning,\n",
            "/usr/local/lib/python3.7/dist-packages/sklearn/linear_model/_sag.py:354: ConvergenceWarning: The max_iter was reached which means the coef_ did not converge\n",
            "  ConvergenceWarning,\n",
            "/usr/local/lib/python3.7/dist-packages/sklearn/linear_model/_sag.py:354: ConvergenceWarning: The max_iter was reached which means the coef_ did not converge\n",
            "  ConvergenceWarning,\n",
            "/usr/local/lib/python3.7/dist-packages/sklearn/linear_model/_sag.py:354: ConvergenceWarning: The max_iter was reached which means the coef_ did not converge\n",
            "  ConvergenceWarning,\n",
            "/usr/local/lib/python3.7/dist-packages/sklearn/linear_model/_sag.py:354: ConvergenceWarning: The max_iter was reached which means the coef_ did not converge\n",
            "  ConvergenceWarning,\n",
            "/usr/local/lib/python3.7/dist-packages/sklearn/linear_model/_sag.py:354: ConvergenceWarning: The max_iter was reached which means the coef_ did not converge\n",
            "  ConvergenceWarning,\n",
            "/usr/local/lib/python3.7/dist-packages/sklearn/linear_model/_sag.py:354: ConvergenceWarning: The max_iter was reached which means the coef_ did not converge\n",
            "  ConvergenceWarning,\n",
            "/usr/local/lib/python3.7/dist-packages/sklearn/linear_model/_sag.py:354: ConvergenceWarning: The max_iter was reached which means the coef_ did not converge\n",
            "  ConvergenceWarning,\n",
            "/usr/local/lib/python3.7/dist-packages/sklearn/linear_model/_sag.py:354: ConvergenceWarning: The max_iter was reached which means the coef_ did not converge\n",
            "  ConvergenceWarning,\n",
            "/usr/local/lib/python3.7/dist-packages/sklearn/linear_model/_sag.py:354: ConvergenceWarning: The max_iter was reached which means the coef_ did not converge\n",
            "  ConvergenceWarning,\n",
            "/usr/local/lib/python3.7/dist-packages/sklearn/linear_model/_sag.py:354: ConvergenceWarning: The max_iter was reached which means the coef_ did not converge\n",
            "  ConvergenceWarning,\n",
            "/usr/local/lib/python3.7/dist-packages/sklearn/linear_model/_sag.py:354: ConvergenceWarning: The max_iter was reached which means the coef_ did not converge\n",
            "  ConvergenceWarning,\n",
            "/usr/local/lib/python3.7/dist-packages/sklearn/linear_model/_sag.py:354: ConvergenceWarning: The max_iter was reached which means the coef_ did not converge\n",
            "  ConvergenceWarning,\n",
            "/usr/local/lib/python3.7/dist-packages/sklearn/linear_model/_sag.py:354: ConvergenceWarning: The max_iter was reached which means the coef_ did not converge\n",
            "  ConvergenceWarning,\n",
            "/usr/local/lib/python3.7/dist-packages/sklearn/linear_model/_sag.py:354: ConvergenceWarning: The max_iter was reached which means the coef_ did not converge\n",
            "  ConvergenceWarning,\n",
            "/usr/local/lib/python3.7/dist-packages/sklearn/linear_model/_sag.py:354: ConvergenceWarning: The max_iter was reached which means the coef_ did not converge\n",
            "  ConvergenceWarning,\n",
            "/usr/local/lib/python3.7/dist-packages/sklearn/linear_model/_sag.py:354: ConvergenceWarning: The max_iter was reached which means the coef_ did not converge\n",
            "  ConvergenceWarning,\n",
            "/usr/local/lib/python3.7/dist-packages/sklearn/linear_model/_sag.py:354: ConvergenceWarning: The max_iter was reached which means the coef_ did not converge\n",
            "  ConvergenceWarning,\n",
            "/usr/local/lib/python3.7/dist-packages/sklearn/linear_model/_sag.py:354: ConvergenceWarning: The max_iter was reached which means the coef_ did not converge\n",
            "  ConvergenceWarning,\n",
            "/usr/local/lib/python3.7/dist-packages/sklearn/linear_model/_sag.py:354: ConvergenceWarning: The max_iter was reached which means the coef_ did not converge\n",
            "  ConvergenceWarning,\n",
            "/usr/local/lib/python3.7/dist-packages/sklearn/linear_model/_sag.py:354: ConvergenceWarning: The max_iter was reached which means the coef_ did not converge\n",
            "  ConvergenceWarning,\n",
            "/usr/local/lib/python3.7/dist-packages/sklearn/linear_model/_sag.py:354: ConvergenceWarning: The max_iter was reached which means the coef_ did not converge\n",
            "  ConvergenceWarning,\n",
            "/usr/local/lib/python3.7/dist-packages/sklearn/linear_model/_sag.py:354: ConvergenceWarning: The max_iter was reached which means the coef_ did not converge\n",
            "  ConvergenceWarning,\n",
            "/usr/local/lib/python3.7/dist-packages/sklearn/linear_model/_sag.py:354: ConvergenceWarning: The max_iter was reached which means the coef_ did not converge\n",
            "  ConvergenceWarning,\n",
            "/usr/local/lib/python3.7/dist-packages/sklearn/linear_model/_sag.py:354: ConvergenceWarning: The max_iter was reached which means the coef_ did not converge\n",
            "  ConvergenceWarning,\n",
            "/usr/local/lib/python3.7/dist-packages/sklearn/linear_model/_sag.py:354: ConvergenceWarning: The max_iter was reached which means the coef_ did not converge\n",
            "  ConvergenceWarning,\n",
            "/usr/local/lib/python3.7/dist-packages/sklearn/linear_model/_sag.py:354: ConvergenceWarning: The max_iter was reached which means the coef_ did not converge\n",
            "  ConvergenceWarning,\n",
            "/usr/local/lib/python3.7/dist-packages/sklearn/linear_model/_sag.py:354: ConvergenceWarning: The max_iter was reached which means the coef_ did not converge\n",
            "  ConvergenceWarning,\n",
            "/usr/local/lib/python3.7/dist-packages/sklearn/linear_model/_sag.py:354: ConvergenceWarning: The max_iter was reached which means the coef_ did not converge\n",
            "  ConvergenceWarning,\n",
            "/usr/local/lib/python3.7/dist-packages/sklearn/linear_model/_sag.py:354: ConvergenceWarning: The max_iter was reached which means the coef_ did not converge\n",
            "  ConvergenceWarning,\n",
            "/usr/local/lib/python3.7/dist-packages/sklearn/linear_model/_sag.py:354: ConvergenceWarning: The max_iter was reached which means the coef_ did not converge\n",
            "  ConvergenceWarning,\n",
            "/usr/local/lib/python3.7/dist-packages/sklearn/linear_model/_sag.py:354: ConvergenceWarning: The max_iter was reached which means the coef_ did not converge\n",
            "  ConvergenceWarning,\n",
            "/usr/local/lib/python3.7/dist-packages/sklearn/linear_model/_sag.py:354: ConvergenceWarning: The max_iter was reached which means the coef_ did not converge\n",
            "  ConvergenceWarning,\n",
            "/usr/local/lib/python3.7/dist-packages/sklearn/linear_model/_sag.py:354: ConvergenceWarning: The max_iter was reached which means the coef_ did not converge\n",
            "  ConvergenceWarning,\n",
            "/usr/local/lib/python3.7/dist-packages/sklearn/linear_model/_sag.py:354: ConvergenceWarning: The max_iter was reached which means the coef_ did not converge\n",
            "  ConvergenceWarning,\n",
            "/usr/local/lib/python3.7/dist-packages/sklearn/linear_model/_sag.py:354: ConvergenceWarning: The max_iter was reached which means the coef_ did not converge\n",
            "  ConvergenceWarning,\n"
          ]
        },
        {
          "output_type": "stream",
          "name": "stdout",
          "text": [
            "Training accuracy for Logistic regression model 0.71125\n",
            "Test accuracy for Logistic regression model 0.6625\n",
            "<class 'list'>\n"
          ]
        },
        {
          "output_type": "stream",
          "name": "stderr",
          "text": [
            "/usr/local/lib/python3.7/dist-packages/sklearn/linear_model/_sag.py:354: ConvergenceWarning: The max_iter was reached which means the coef_ did not converge\n",
            "  ConvergenceWarning,\n"
          ]
        }
      ],
      "source": [
        "epoc = 100\n",
        "train_score = []\n",
        "test_score = []\n",
        "epoc_value = []\n",
        "\n",
        "for epoc in range (100, 5001, 100): \n",
        "    logreg = LogisticRegression(multi_class = 'multinomial', solver = 'sag',  max_iter = epoc)\n",
        "    logreg.fit(x_train, y_train)\n",
        "    y_train_pred_logreg = logreg.predict(x_train)\n",
        "    y_test_pred_logreg = logreg.predict(x_test)\n",
        "    train_score.append (logreg.score(x_train, y_train))\n",
        "    test_score.append (logreg.score(x_test, y_test))\n",
        "    epoc_value.append (epoc)\n",
        "\n",
        "\n",
        "print('Training accuracy for Logistic regression model', logreg.score(x_train, y_train))\n",
        "print('Test accuracy for Logistic regression model', logreg.score(x_test, y_test))\n",
        "print (type(train_score))"
      ]
    },
    {
      "cell_type": "code",
      "source": [
        "plt.figure (figsize = (8,4))\n",
        "plt.plot(epoc_value, train_score, marker = 'o')\n",
        "plt.title ('LogisticRegression: Score vs Epochs')\n",
        "plt.xlabel('Epochs')\n",
        "plt.ylabel('Score')"
      ],
      "metadata": {
        "id": "Ve7hWRig_rxC",
        "colab": {
          "base_uri": "https://localhost:8080/",
          "height": 313
        },
        "outputId": "2c0497a4-38b3-4fe5-da4b-0c024459f79f"
      },
      "execution_count": 26,
      "outputs": [
        {
          "output_type": "execute_result",
          "data": {
            "text/plain": [
              "Text(0, 0.5, 'Score')"
            ]
          },
          "metadata": {},
          "execution_count": 26
        },
        {
          "output_type": "display_data",
          "data": {
            "text/plain": [
              "<Figure size 576x288 with 1 Axes>"
            ],
            "image/png": "[encoded data removed]"
          },
          "metadata": {
            "needs_background": "light"
          }
        }
      ]
    },
    {
      "cell_type": "code",
      "source": [
        "logreg = LogisticRegression(multi_class = 'multinomial', solver = 'sag',  max_iter = 5000)\n",
        "logreg.fit(x_train, y_train)\n",
        "y_train_pred_logreg = logreg.predict(x_train)\n",
        "y_test_pred_logreg = logreg.predict(x_test)"
      ],
      "metadata": {
        "colab": {
          "base_uri": "https://localhost:8080/"
        },
        "id": "Q3PabACuufGe",
        "outputId": "01aee8ae-5610-4f16-f2b0-ba4c032f440b"
      },
      "execution_count": 27,
      "outputs": [
        {
          "output_type": "stream",
          "name": "stderr",
          "text": [
            "/usr/local/lib/python3.7/dist-packages/sklearn/linear_model/_sag.py:354: ConvergenceWarning: The max_iter was reached which means the coef_ did not converge\n",
            "  ConvergenceWarning,\n"
          ]
        }
      ]
    },
    {
      "cell_type": "markdown",
      "metadata": {
        "id": "dAa8Q87ashss"
      },
      "source": [
        "## Confusion Matrix for preditions for Logistic Regression model"
      ]
    },
    {
      "cell_type": "code",
      "execution_count": 28,
      "metadata": {
        "id": "36JStZeYsIa-",
        "colab": {
          "base_uri": "https://localhost:8080/",
          "height": 334
        },
        "outputId": "31dc1ba6-5bb6-4be0-93ac-3aea607d4e47"
      },
      "outputs": [
        {
          "output_type": "stream",
          "name": "stderr",
          "text": [
            "/usr/local/lib/python3.7/dist-packages/sklearn/utils/deprecation.py:87: FutureWarning: Function plot_confusion_matrix is deprecated; Function `plot_confusion_matrix` is deprecated in 1.0 and will be removed in 1.2. Use one of the class methods: ConfusionMatrixDisplay.from_predictions or ConfusionMatrixDisplay.from_estimator.\n",
            "  warnings.warn(msg, category=FutureWarning)\n"
          ]
        },
        {
          "output_type": "display_data",
          "data": {
            "text/plain": [
              "<Figure size 432x288 with 2 Axes>"
            ],
            "image/png": "[encoded data removed]"
          },
          "metadata": {
            "needs_background": "light"
          }
        }
      ],
      "source": [
        "plot_confusion_matrix(logreg, x_test, y_test)  \n",
        "plt.show()"
      ]
    },
    {
      "cell_type": "code",
      "execution_count": 29,
      "metadata": {
        "id": "A6zg_XmITwjC",
        "colab": {
          "base_uri": "https://localhost:8080/"
        },
        "outputId": "b815ac71-a170-41af-82d3-328869a72345"
      },
      "outputs": [
        {
          "output_type": "stream",
          "name": "stdout",
          "text": [
            "Training accuracy 71.125 %\n",
            "Test accuracy 66.25 %\n"
          ]
        }
      ],
      "source": [
        "accuracy_logreg_train = metrics.accuracy_score(y_train, y_train_pred_logreg)\n",
        "accuracy_logreg_test = metrics.accuracy_score(y_test, y_test_pred_logreg)\n",
        "print ('Training accuracy', accuracy_logreg_train * 100, '%')\n",
        "print ('Test accuracy', accuracy_logreg_test * 100, '%')"
      ]
    },
    {
      "cell_type": "markdown",
      "metadata": {
        "id": "UVR46-Boy2dL"
      },
      "source": [
        "Remarks: The training accuracy found 71% (aaprox)  which is very less in case of logistic regression model. The test accuracy is found to be 66% (approx) is even lesser than the training accuracy"
      ]
    },
    {
      "cell_type": "code",
      "execution_count": 30,
      "metadata": {
        "id": "UN-LQPwtoPDu",
        "colab": {
          "base_uri": "https://localhost:8080/",
          "height": 299
        },
        "outputId": "da52f9d2-02bc-4ec3-b925-6fa96d10a2b2"
      },
      "outputs": [
        {
          "output_type": "execute_result",
          "data": {
            "text/plain": [
              "   id  battery_power  blue  clock_speed  dual_sim  fc  four_g  int_memory  \\\n",
              "0   1           1043     1          1.8         1  14       0           5   \n",
              "1   2            841     1          0.5         1   4       1          61   \n",
              "2   3           1807     1          2.8         0   1       0          27   \n",
              "3   4           1546     0          0.5         1  18       1          25   \n",
              "4   5           1434     0          1.4         0  11       1          49   \n",
              "\n",
              "   m_dep  mobile_wt  ...  pc  px_height  px_width   ram  sc_h  sc_w  \\\n",
              "0    0.1        193  ...  16        226      1412  3476    12     7   \n",
              "1    0.8        191  ...  12        746       857  3895     6     0   \n",
              "2    0.9        186  ...   4       1270      1366  2396    17    10   \n",
              "3    0.5         96  ...  20        295      1752  3893    10     0   \n",
              "4    0.5        108  ...  18        749       810  1773    15     8   \n",
              "\n",
              "   talk_time  three_g  touch_screen  wifi  \n",
              "0          2        0             1     0  \n",
              "1          7        1             0     0  \n",
              "2         10        0             1     1  \n",
              "3          7        1             1     0  \n",
              "4          7        1             0     1  \n",
              "\n",
              "[5 rows x 21 columns]"
            ],
            "text/html": [
              "\n",
              "  <div id=\"df-b2a3ea7d-a037-4508-ad7f-a09d6e6890af\">\n",
              "    <div class=\"colab-df-container\">\n",
              "      <div>\n",
              "<style scoped>\n",
              "    .dataframe tbody tr th:only-of-type {\n",
              "        vertical-align: middle;\n",
              "    }\n",
              "\n",
              "    .dataframe tbody tr th {\n",
              "        vertical-align: top;\n",
              "    }\n",
              "\n",
              "    .dataframe thead th {\n",
              "        text-align: right;\n",
              "    }\n",
              "</style>\n",
              "<table border=\"1\" class=\"dataframe\">\n",
              "  <thead>\n",
              "    <tr style=\"text-align: right;\">\n",
              "      <th></th>\n",
              "      <th>id</th>\n",
              "      <th>battery_power</th>\n",
              "      <th>blue</th>\n",
              "      <th>clock_speed</th>\n",
              "      <th>dual_sim</th>\n",
              "      <th>fc</th>\n",
              "      <th>four_g</th>\n",
              "      <th>int_memory</th>\n",
              "      <th>m_dep</th>\n",
              "      <th>mobile_wt</th>\n",
              "      <th>...</th>\n",
              "      <th>pc</th>\n",
              "      <th>px_height</th>\n",
              "      <th>px_width</th>\n",
              "      <th>ram</th>\n",
              "      <th>sc_h</th>\n",
              "      <th>sc_w</th>\n",
              "      <th>talk_time</th>\n",
              "      <th>three_g</th>\n",
              "      <th>touch_screen</th>\n",
              "      <th>wifi</th>\n",
              "    </tr>\n",
              "  </thead>\n",
              "  <tbody>\n",
              "    <tr>\n",
              "      <th>0</th>\n",
              "      <td>1</td>\n",
              "      <td>1043</td>\n",
              "      <td>1</td>\n",
              "      <td>1.8</td>\n",
              "      <td>1</td>\n",
              "      <td>14</td>\n",
              "      <td>0</td>\n",
              "      <td>5</td>\n",
              "      <td>0.1</td>\n",
              "      <td>193</td>\n",
              "      <td>...</td>\n",
              "      <td>16</td>\n",
              "      <td>226</td>\n",
              "      <td>1412</td>\n",
              "      <td>3476</td>\n",
              "      <td>12</td>\n",
              "      <td>7</td>\n",
              "      <td>2</td>\n",
              "      <td>0</td>\n",
              "      <td>1</td>\n",
              "      <td>0</td>\n",
              "    </tr>\n",
              "    <tr>\n",
              "      <th>1</th>\n",
              "      <td>2</td>\n",
              "      <td>841</td>\n",
              "      <td>1</td>\n",
              "      <td>0.5</td>\n",
              "      <td>1</td>\n",
              "      <td>4</td>\n",
              "      <td>1</td>\n",
              "      <td>61</td>\n",
              "      <td>0.8</td>\n",
              "      <td>191</td>\n",
              "      <td>...</td>\n",
              "      <td>12</td>\n",
              "      <td>746</td>\n",
              "      <td>857</td>\n",
              "      <td>3895</td>\n",
              "      <td>6</td>\n",
              "      <td>0</td>\n",
              "      <td>7</td>\n",
              "      <td>1</td>\n",
              "      <td>0</td>\n",
              "      <td>0</td>\n",
              "    </tr>\n",
              "    <tr>\n",
              "      <th>2</th>\n",
              "      <td>3</td>\n",
              "      <td>1807</td>\n",
              "      <td>1</td>\n",
              "      <td>2.8</td>\n",
              "      <td>0</td>\n",
              "      <td>1</td>\n",
              "      <td>0</td>\n",
              "      <td>27</td>\n",
              "      <td>0.9</td>\n",
              "      <td>186</td>\n",
              "      <td>...</td>\n",
              "      <td>4</td>\n",
              "      <td>1270</td>\n",
              "      <td>1366</td>\n",
              "      <td>2396</td>\n",
              "      <td>17</td>\n",
              "      <td>10</td>\n",
              "      <td>10</td>\n",
              "      <td>0</td>\n",
              "      <td>1</td>\n",
              "      <td>1</td>\n",
              "    </tr>\n",
              "    <tr>\n",
              "      <th>3</th>\n",
              "      <td>4</td>\n",
              "      <td>1546</td>\n",
              "      <td>0</td>\n",
              "      <td>0.5</td>\n",
              "      <td>1</td>\n",
              "      <td>18</td>\n",
              "      <td>1</td>\n",
              "      <td>25</td>\n",
              "      <td>0.5</td>\n",
              "      <td>96</td>\n",
              "      <td>...</td>\n",
              "      <td>20</td>\n",
              "      <td>295</td>\n",
              "      <td>1752</td>\n",
              "      <td>3893</td>\n",
              "      <td>10</td>\n",
              "      <td>0</td>\n",
              "      <td>7</td>\n",
              "      <td>1</td>\n",
              "      <td>1</td>\n",
              "      <td>0</td>\n",
              "    </tr>\n",
              "    <tr>\n",
              "      <th>4</th>\n",
              "      <td>5</td>\n",
              "      <td>1434</td>\n",
              "      <td>0</td>\n",
              "      <td>1.4</td>\n",
              "      <td>0</td>\n",
              "      <td>11</td>\n",
              "      <td>1</td>\n",
              "      <td>49</td>\n",
              "      <td>0.5</td>\n",
              "      <td>108</td>\n",
              "      <td>...</td>\n",
              "      <td>18</td>\n",
              "      <td>749</td>\n",
              "      <td>810</td>\n",
              "      <td>1773</td>\n",
              "      <td>15</td>\n",
              "      <td>8</td>\n",
              "      <td>7</td>\n",
              "      <td>1</td>\n",
              "      <td>0</td>\n",
              "      <td>1</td>\n",
              "    </tr>\n",
              "  </tbody>\n",
              "</table>\n",
              "<p>5 rows × 21 columns</p>\n",
              "</div>\n",
              "      <button class=\"colab-df-convert\" onclick=\"convertToInteractive('df-b2a3ea7d-a037-4508-ad7f-a09d6e6890af')\"\n",
              "              title=\"Convert this dataframe to an interactive table.\"\n",
              "              style=\"display:none;\">\n",
              "        \n",
              "  <svg xmlns=\"http://www.w3.org/2000/svg\" height=\"24px\"viewBox=\"0 0 24 24\"\n",
              "       width=\"24px\">\n",
              "    <path d=\"M0 0h24v24H0V0z\" fill=\"none\"/>\n",
              "    <path d=\"M18.56 5.44l.94 2.06.94-2.06 2.06-.94-2.06-.94-.94-2.06-.94 2.06-2.06.94zm-11 1L8.5 8.5l.94-2.06 2.06-.94-2.06-.94L8.5 2.5l-.94 2.06-2.06.94zm10 10l.94 2.06.94-2.06 2.06-.94-2.06-.94-.94-2.06-.94 2.06-2.06.94z\"/><path d=\"M17.41 7.96l-1.37-1.37c-.4-.4-.92-.59-1.43-.59-.52 0-1.04.2-1.43.59L10.3 9.45l-7.72 7.72c-.78.78-.78 2.05 0 2.83L4 21.41c.39.39.9.59 1.41.59.51 0 1.02-.2 1.41-.59l7.78-7.78 2.81-2.81c.8-.78.8-2.07 0-2.86zM5.41 20L4 18.59l7.72-7.72 1.47 1.35L5.41 20z\"/>\n",
              "  </svg>\n",
              "      </button>\n",
              "      \n",
              "  <style>\n",
              "    .colab-df-container {\n",
              "      display:flex;\n",
              "      flex-wrap:wrap;\n",
              "      gap: 12px;\n",
              "    }\n",
              "\n",
              "    .colab-df-convert {\n",
              "      background-color: #E8F0FE;\n",
              "      border: none;\n",
              "      border-radius: 50%;\n",
              "      cursor: pointer;\n",
              "      display: none;\n",
              "      fill: #1967D2;\n",
              "      height: 32px;\n",
              "      padding: 0 0 0 0;\n",
              "      width: 32px;\n",
              "    }\n",
              "\n",
              "    .colab-df-convert:hover {\n",
              "      background-color: #E2EBFA;\n",
              "      box-shadow: 0px 1px 2px rgba(60, 64, 67, 0.3), 0px 1px 3px 1px rgba(60, 64, 67, 0.15);\n",
              "      fill: #174EA6;\n",
              "    }\n",
              "\n",
              "    [theme=dark] .colab-df-convert {\n",
              "      background-color: #3B4455;\n",
              "      fill: #D2E3FC;\n",
              "    }\n",
              "\n",
              "    [theme=dark] .colab-df-convert:hover {\n",
              "      background-color: #434B5C;\n",
              "      box-shadow: 0px 1px 3px 1px rgba(0, 0, 0, 0.15);\n",
              "      filter: drop-shadow(0px 1px 2px rgba(0, 0, 0, 0.3));\n",
              "      fill: #FFFFFF;\n",
              "    }\n",
              "  </style>\n",
              "\n",
              "      <script>\n",
              "        const buttonEl =\n",
              "          document.querySelector('#df-b2a3ea7d-a037-4508-ad7f-a09d6e6890af button.colab-df-convert');\n",
              "        buttonEl.style.display =\n",
              "          google.colab.kernel.accessAllowed ? 'block' : 'none';\n",
              "\n",
              "        async function convertToInteractive(key) {\n",
              "          const element = document.querySelector('#df-b2a3ea7d-a037-4508-ad7f-a09d6e6890af');\n",
              "          const dataTable =\n",
              "            await google.colab.kernel.invokeFunction('convertToInteractive',\n",
              "                                                     [key], {});\n",
              "          if (!dataTable) return;\n",
              "\n",
              "          const docLinkHtml = 'Like what you see? Visit the ' +\n",
              "            '<a target=\"_blank\" href=https://colab.research.google.com/notebooks/data_table.ipynb>data table notebook</a>'\n",
              "            + ' to learn more about interactive tables.';\n",
              "          element.innerHTML = '';\n",
              "          dataTable['output_type'] = 'display_data';\n",
              "          await google.colab.output.renderOutput(dataTable, element);\n",
              "          const docLink = document.createElement('div');\n",
              "          docLink.innerHTML = docLinkHtml;\n",
              "          element.appendChild(docLink);\n",
              "        }\n",
              "      </script>\n",
              "    </div>\n",
              "  </div>\n",
              "  "
            ]
          },
          "metadata": {},
          "execution_count": 30
        }
      ],
      "source": [
        "data_test = pd.read_csv('/content/sample_data/test.csv')\n",
        "data_test.head()"
      ]
    },
    {
      "cell_type": "markdown",
      "metadata": {
        "id": "aRrI_Nf3yRY5"
      },
      "source": [
        "## Final test data prediction"
      ]
    },
    {
      "cell_type": "code",
      "execution_count": 31,
      "metadata": {
        "id": "BMwExCvXohFj",
        "colab": {
          "base_uri": "https://localhost:8080/"
        },
        "outputId": "7e3b89d5-7891-43db-ce90-a0c711c97f1e"
      },
      "outputs": [
        {
          "output_type": "stream",
          "name": "stdout",
          "text": [
            "[3 2 0 0 3 1 2 3 1 1 3 1 1 3 3 1 3 0 0 3 3 3 2 0 2 1 3 2 2 2 0 2 0 3 2 3 0\n",
            " 3 2 0 0 3 3 3 2 1 0 2 0 3 3 3 3 2 0 3 2 3 2 3 2 3 3 0 1 2 0 0 2 3 0 3 3 2\n",
            " 1 1 3 2 3 1 3 1 1 2 0 0 1 3 1 2 2 3 3 3 2 1 1 3 0 3 3 0 3 2 0 1 3 0 2 1 0\n",
            " 0 1 3 2 1 2 0 3 0 1 2 0 3 3 3 0 2 3 0 3 0 0 2 0 3 3 3 0 0 2 0 1 1 1 2 3 3\n",
            " 2 0 3 2 3 0 2 1 3 0 0 3 2 0 2 3 0 2 1 0 3 2 0 3 0 0 0 0 3 2 0 1 1 1 1 0 0\n",
            " 3 3 0 0 1 2 1 1 0 1 1 2 2 0 2 2 1 3 1 1 1 3 0 1 2 2 3 3 2 3 3 3 3 3 1 2 3\n",
            " 2 1 1 1 1 3 3 3 0 2 1 1 1 1 3 1 2 1 3 0 0 0 2 3 3 3 0 1 1 3 0 1 0 2 2 3 2\n",
            " 3 2 1 0 2 3 2 3 0 2 1 2 1 3 3 3 0 1 3 2 2 3 2 3 3 3 0 1 3 2 3 2 1 1 1 1 1\n",
            " 2 0 3 3 0 2 1 2 3 2 2 3 0 0 3 1 2 1 0 0 1 2 2 2 2 1 3 2 3 2 0 0 0 1 2 2 3\n",
            " 2 2 1 1 2 3 3 2 3 3 3 1 0 1 0 3 1 2 2 2 2 2 3 2 0 2 2 3 0 0 0 1 0 0 2 3 1\n",
            " 2 0 3 3 0 1 3 3 2 1 3 2 2 0 1 1 1 3 1 2 2 1 1 1 2 0 1 2 1 1]\n"
          ]
        }
      ],
      "source": [
        "final_x_test = data_test.drop('id', axis = 1)\n",
        "final_y_pred_test = logreg.predict(x_test)\n",
        "print (final_y_pred_test)"
      ]
    },
    {
      "cell_type": "markdown",
      "metadata": {
        "id": "AXRXVBLCLcXo"
      },
      "source": [
        "# Decision Tree"
      ]
    },
    {
      "cell_type": "code",
      "execution_count": 32,
      "metadata": {
        "id": "H_tVXcd49PGT"
      },
      "outputs": [],
      "source": [
        "d_tree = DecisionTreeClassifier ( random_state=91)\n",
        "d_tree.fit(x_train, y_train)\n",
        "y_pred_d_tree_train = d_tree.predict (x_train)\n",
        "y_pred_d_tree_test = d_tree.predict(x_test)"
      ]
    },
    {
      "cell_type": "code",
      "execution_count": 33,
      "metadata": {
        "colab": {
          "base_uri": "https://localhost:8080/",
          "height": 334
        },
        "id": "awruhkIoEmpn",
        "outputId": "df2f9c06-cc54-4787-ded6-215d8cba9d50"
      },
      "outputs": [
        {
          "output_type": "stream",
          "name": "stderr",
          "text": [
            "/usr/local/lib/python3.7/dist-packages/sklearn/utils/deprecation.py:87: FutureWarning: Function plot_confusion_matrix is deprecated; Function `plot_confusion_matrix` is deprecated in 1.0 and will be removed in 1.2. Use one of the class methods: ConfusionMatrixDisplay.from_predictions or ConfusionMatrixDisplay.from_estimator.\n",
            "  warnings.warn(msg, category=FutureWarning)\n"
          ]
        },
        {
          "output_type": "display_data",
          "data": {
            "text/plain": [
              "<Figure size 432x288 with 2 Axes>"
            ],
            "image/png": "[encoded data removed]"
          },
          "metadata": {
            "needs_background": "light"
          }
        }
      ],
      "source": [
        "plot_confusion_matrix (d_tree, x_test, y_test)  \n",
        "plt.show()"
      ]
    },
    {
      "cell_type": "code",
      "execution_count": 34,
      "metadata": {
        "colab": {
          "base_uri": "https://localhost:8080/"
        },
        "id": "-yvGzQLZrCnh",
        "outputId": "cd871dd3-e517-41d3-83ef-f300d052efbd"
      },
      "outputs": [
        {
          "output_type": "stream",
          "name": "stdout",
          "text": [
            "Training accuracy 100.0 %\n",
            "Test accuracy 80.75 %\n"
          ]
        }
      ],
      "source": [
        "accuracy_d_tree_train = metrics.accuracy_score(y_train, y_pred_d_tree_train)\n",
        "accuracy_d_tree_test = metrics.accuracy_score(y_test, y_pred_d_tree_test)\n",
        "print ('Training accuracy', accuracy_d_tree_train * 100, '%')\n",
        "print ('Test accuracy', accuracy_d_tree_test * 100, '%')"
      ]
    },
    {
      "cell_type": "code",
      "execution_count": 35,
      "metadata": {
        "colab": {
          "base_uri": "https://localhost:8080/"
        },
        "id": "43oFYl3eqyDq",
        "outputId": "f95e0ecf-70e4-4c8a-dfa6-ec18eb5bcf75"
      },
      "outputs": [
        {
          "output_type": "stream",
          "name": "stdout",
          "text": [
            "              precision    recall  f1-score   support\n",
            "\n",
            "           0       0.90      0.90      0.90        99\n",
            "           1       0.75      0.78      0.77        82\n",
            "           2       0.71      0.75      0.73       102\n",
            "           3       0.87      0.79      0.83       117\n",
            "\n",
            "    accuracy                           0.81       400\n",
            "   macro avg       0.81      0.81      0.81       400\n",
            "weighted avg       0.81      0.81      0.81       400\n",
            "\n"
          ]
        }
      ],
      "source": [
        "print(metrics.classification_report(y_test, y_pred_d_tree_test)) "
      ]
    },
    {
      "cell_type": "markdown",
      "metadata": {
        "id": "RtlEoEI0Lk6v"
      },
      "source": [
        "#Random Forest"
      ]
    },
    {
      "cell_type": "code",
      "source": [
        "train_score = []\n",
        "test_score = []\n",
        "estimate_value = []\n",
        "\n",
        "for estimate in range (1, 31, 1): \n",
        "    rand_forest = RandomForestClassifier(n_estimators = estimate, random_state=91, criterion = 'entropy', oob_score = True) \n",
        "    rand_forest.fit(x_train, y_train)\n",
        "    y_pred_rand_forest_train = rand_forest.predict (x_train)\n",
        "    y_pred_rand_forest_test = rand_forest.predict(x_test)\n",
        "    train_score.append (rand_forest.score(x_train, y_train))\n",
        "    test_score.append (rand_forest.score(x_test, y_test))\n",
        "    estimate_value.append (estimate)"
      ],
      "metadata": {
        "colab": {
          "base_uri": "https://localhost:8080/"
        },
        "id": "HaAOE783t_tq",
        "outputId": "c46a5335-46ab-455a-ae5a-05f28d2be368"
      },
      "execution_count": 36,
      "outputs": [
        {
          "output_type": "stream",
          "name": "stderr",
          "text": [
            "/usr/local/lib/python3.7/dist-packages/sklearn/ensemble/_forest.py:564: UserWarning: Some inputs do not have OOB scores. This probably means too few trees were used to compute any reliable OOB estimates.\n",
            "  UserWarning,\n",
            "/usr/local/lib/python3.7/dist-packages/sklearn/ensemble/_forest.py:564: UserWarning: Some inputs do not have OOB scores. This probably means too few trees were used to compute any reliable OOB estimates.\n",
            "  UserWarning,\n",
            "/usr/local/lib/python3.7/dist-packages/sklearn/ensemble/_forest.py:564: UserWarning: Some inputs do not have OOB scores. This probably means too few trees were used to compute any reliable OOB estimates.\n",
            "  UserWarning,\n",
            "/usr/local/lib/python3.7/dist-packages/sklearn/ensemble/_forest.py:564: UserWarning: Some inputs do not have OOB scores. This probably means too few trees were used to compute any reliable OOB estimates.\n",
            "  UserWarning,\n",
            "/usr/local/lib/python3.7/dist-packages/sklearn/ensemble/_forest.py:564: UserWarning: Some inputs do not have OOB scores. This probably means too few trees were used to compute any reliable OOB estimates.\n",
            "  UserWarning,\n",
            "/usr/local/lib/python3.7/dist-packages/sklearn/ensemble/_forest.py:564: UserWarning: Some inputs do not have OOB scores. This probably means too few trees were used to compute any reliable OOB estimates.\n",
            "  UserWarning,\n",
            "/usr/local/lib/python3.7/dist-packages/sklearn/ensemble/_forest.py:564: UserWarning: Some inputs do not have OOB scores. This probably means too few trees were used to compute any reliable OOB estimates.\n",
            "  UserWarning,\n",
            "/usr/local/lib/python3.7/dist-packages/sklearn/ensemble/_forest.py:564: UserWarning: Some inputs do not have OOB scores. This probably means too few trees were used to compute any reliable OOB estimates.\n",
            "  UserWarning,\n",
            "/usr/local/lib/python3.7/dist-packages/sklearn/ensemble/_forest.py:564: UserWarning: Some inputs do not have OOB scores. This probably means too few trees were used to compute any reliable OOB estimates.\n",
            "  UserWarning,\n",
            "/usr/local/lib/python3.7/dist-packages/sklearn/ensemble/_forest.py:564: UserWarning: Some inputs do not have OOB scores. This probably means too few trees were used to compute any reliable OOB estimates.\n",
            "  UserWarning,\n",
            "/usr/local/lib/python3.7/dist-packages/sklearn/ensemble/_forest.py:564: UserWarning: Some inputs do not have OOB scores. This probably means too few trees were used to compute any reliable OOB estimates.\n",
            "  UserWarning,\n",
            "/usr/local/lib/python3.7/dist-packages/sklearn/ensemble/_forest.py:564: UserWarning: Some inputs do not have OOB scores. This probably means too few trees were used to compute any reliable OOB estimates.\n",
            "  UserWarning,\n",
            "/usr/local/lib/python3.7/dist-packages/sklearn/ensemble/_forest.py:564: UserWarning: Some inputs do not have OOB scores. This probably means too few trees were used to compute any reliable OOB estimates.\n",
            "  UserWarning,\n",
            "/usr/local/lib/python3.7/dist-packages/sklearn/ensemble/_forest.py:564: UserWarning: Some inputs do not have OOB scores. This probably means too few trees were used to compute any reliable OOB estimates.\n",
            "  UserWarning,\n",
            "/usr/local/lib/python3.7/dist-packages/sklearn/ensemble/_forest.py:564: UserWarning: Some inputs do not have OOB scores. This probably means too few trees were used to compute any reliable OOB estimates.\n",
            "  UserWarning,\n",
            "/usr/local/lib/python3.7/dist-packages/sklearn/ensemble/_forest.py:564: UserWarning: Some inputs do not have OOB scores. This probably means too few trees were used to compute any reliable OOB estimates.\n",
            "  UserWarning,\n",
            "/usr/local/lib/python3.7/dist-packages/sklearn/ensemble/_forest.py:564: UserWarning: Some inputs do not have OOB scores. This probably means too few trees were used to compute any reliable OOB estimates.\n",
            "  UserWarning,\n",
            "/usr/local/lib/python3.7/dist-packages/sklearn/ensemble/_forest.py:564: UserWarning: Some inputs do not have OOB scores. This probably means too few trees were used to compute any reliable OOB estimates.\n",
            "  UserWarning,\n",
            "/usr/local/lib/python3.7/dist-packages/sklearn/ensemble/_forest.py:564: UserWarning: Some inputs do not have OOB scores. This probably means too few trees were used to compute any reliable OOB estimates.\n",
            "  UserWarning,\n",
            "/usr/local/lib/python3.7/dist-packages/sklearn/ensemble/_forest.py:564: UserWarning: Some inputs do not have OOB scores. This probably means too few trees were used to compute any reliable OOB estimates.\n",
            "  UserWarning,\n",
            "/usr/local/lib/python3.7/dist-packages/sklearn/ensemble/_forest.py:564: UserWarning: Some inputs do not have OOB scores. This probably means too few trees were used to compute any reliable OOB estimates.\n",
            "  UserWarning,\n",
            "/usr/local/lib/python3.7/dist-packages/sklearn/ensemble/_forest.py:564: UserWarning: Some inputs do not have OOB scores. This probably means too few trees were used to compute any reliable OOB estimates.\n",
            "  UserWarning,\n",
            "/usr/local/lib/python3.7/dist-packages/sklearn/ensemble/_forest.py:564: UserWarning: Some inputs do not have OOB scores. This probably means too few trees were used to compute any reliable OOB estimates.\n",
            "  UserWarning,\n",
            "/usr/local/lib/python3.7/dist-packages/sklearn/ensemble/_forest.py:564: UserWarning: Some inputs do not have OOB scores. This probably means too few trees were used to compute any reliable OOB estimates.\n",
            "  UserWarning,\n"
          ]
        }
      ]
    },
    {
      "cell_type": "code",
      "source": [
        "plt.figure (figsize = (8,4))\n",
        "plt.plot(estimate_value, test_score, marker = 'o')\n",
        "plt.title ('RandomForest: Score vs Estimate')\n",
        "plt.xlabel('Estimate')\n",
        "plt.ylabel('Test Score')"
      ],
      "metadata": {
        "colab": {
          "base_uri": "https://localhost:8080/",
          "height": 313
        },
        "id": "t42pYdvDwpHM",
        "outputId": "43aac875-dd0b-4559-e931-27296417452b"
      },
      "execution_count": 37,
      "outputs": [
        {
          "output_type": "execute_result",
          "data": {
            "text/plain": [
              "Text(0, 0.5, 'Test Score')"
            ]
          },
          "metadata": {},
          "execution_count": 37
        },
        {
          "output_type": "display_data",
          "data": {
            "text/plain": [
              "<Figure size 576x288 with 1 Axes>"
            ],
            "image/png": "[encoded data removed]"
          },
          "metadata": {
            "needs_background": "light"
          }
        }
      ]
    },
    {
      "cell_type": "code",
      "source": [
        "rand_forest = RandomForestClassifier(n_estimators = 30, random_state=91, criterion = 'entropy', oob_score = True) \n",
        "rand_forest.fit(x_train, y_train)\n",
        "y_pred_rand_forest_train = rand_forest.predict (x_train)\n",
        "y_pred_rand_forest_test = rand_forest.predict(x_test)"
      ],
      "metadata": {
        "id": "XGzkm4vh0CPe"
      },
      "execution_count": 38,
      "outputs": []
    },
    {
      "cell_type": "code",
      "execution_count": 39,
      "metadata": {
        "colab": {
          "base_uri": "https://localhost:8080/",
          "height": 334
        },
        "id": "UABV5p5X1wBm",
        "outputId": "63b4d7fc-a2de-4dc0-a629-79e6c1792dd2"
      },
      "outputs": [
        {
          "output_type": "stream",
          "name": "stderr",
          "text": [
            "/usr/local/lib/python3.7/dist-packages/sklearn/utils/deprecation.py:87: FutureWarning: Function plot_confusion_matrix is deprecated; Function `plot_confusion_matrix` is deprecated in 1.0 and will be removed in 1.2. Use one of the class methods: ConfusionMatrixDisplay.from_predictions or ConfusionMatrixDisplay.from_estimator.\n",
            "  warnings.warn(msg, category=FutureWarning)\n"
          ]
        },
        {
          "output_type": "display_data",
          "data": {
            "text/plain": [
              "<Figure size 432x288 with 2 Axes>"
            ],
            "image/png": "[encoded data removed]"
          },
          "metadata": {
            "needs_background": "light"
          }
        }
      ],
      "source": [
        "plot_confusion_matrix(rand_forest, x_test, y_test)  \n",
        "plt.show()"
      ]
    },
    {
      "cell_type": "code",
      "execution_count": 40,
      "metadata": {
        "colab": {
          "base_uri": "https://localhost:8080/"
        },
        "id": "Pe8Kz2RsNbeT",
        "outputId": "8d492380-d85b-482c-df3d-c82e9292664b"
      },
      "outputs": [
        {
          "output_type": "stream",
          "name": "stdout",
          "text": [
            "Training accuracy 100.0 %\n",
            "Test accuracy 84.25 %\n"
          ]
        }
      ],
      "source": [
        "accuracy_rand_forest_train = metrics.accuracy_score(y_train, y_pred_rand_forest_train)\n",
        "accuracy_rand_forest_test = metrics.accuracy_score(y_test, y_pred_rand_forest_test)\n",
        "print ('Training accuracy', accuracy_rand_forest_train * 100, '%')\n",
        "print ('Test accuracy', accuracy_rand_forest_test * 100, '%')"
      ]
    },
    {
      "cell_type": "code",
      "execution_count": 41,
      "metadata": {
        "colab": {
          "base_uri": "https://localhost:8080/"
        },
        "id": "z2SSaMzEbq0-",
        "outputId": "385d7f2d-5855-4c66-ed63-6282a517a8b4"
      },
      "outputs": [
        {
          "output_type": "stream",
          "name": "stdout",
          "text": [
            "              precision    recall  f1-score   support\n",
            "\n",
            "           0       0.92      0.94      0.93        99\n",
            "           1       0.80      0.78      0.79        82\n",
            "           2       0.74      0.80      0.77       102\n",
            "           3       0.91      0.84      0.87       117\n",
            "\n",
            "    accuracy                           0.84       400\n",
            "   macro avg       0.84      0.84      0.84       400\n",
            "weighted avg       0.85      0.84      0.84       400\n",
            "\n"
          ]
        }
      ],
      "source": [
        "print(metrics.classification_report(y_test, y_pred_rand_forest_test)) "
      ]
    },
    {
      "cell_type": "markdown",
      "metadata": {
        "id": "mgf5fEDwZ08u"
      },
      "source": [
        "#KNN Classifier"
      ]
    },
    {
      "cell_type": "markdown",
      "metadata": {
        "id": "EAO8miMRp-cN"
      },
      "source": [
        "##Choosing K-Value"
      ]
    },
    {
      "cell_type": "code",
      "execution_count": 42,
      "metadata": {
        "id": "5U9DbfOKp8h_"
      },
      "outputs": [],
      "source": [
        "error_rate = []\n",
        "for i in range (1, 80):\n",
        "  knn = KNeighborsClassifier(n_neighbors = i)\n",
        "  knn.fit (x_train, y_train)\n",
        "  predict_n_neighbour = knn.predict(x_test)\n",
        "  error_rate.append(np.mean(predict_n_neighbour != y_test))"
      ]
    },
    {
      "cell_type": "code",
      "execution_count": 43,
      "metadata": {
        "colab": {
          "base_uri": "https://localhost:8080/",
          "height": 313
        },
        "id": "jOzkpRuqsp8h",
        "outputId": "d3ef4694-08fb-45df-fcf8-cfecc91f5c53"
      },
      "outputs": [
        {
          "output_type": "execute_result",
          "data": {
            "text/plain": [
              "Text(0, 0.5, 'Error Rate')"
            ]
          },
          "metadata": {},
          "execution_count": 43
        },
        {
          "output_type": "display_data",
          "data": {
            "text/plain": [
              "<Figure size 576x288 with 1 Axes>"
            ],
            "image/png": "[encoded data removed]"
          },
          "metadata": {
            "needs_background": "light"
          }
        }
      ],
      "source": [
        "plt.figure (figsize = (8,4))\n",
        "plt.plot(range(1,80), error_rate, marker = 'o')\n",
        "plt.title ('Error_Rate vs K-neighbours')\n",
        "plt.xlabel('k')\n",
        "plt.ylabel('Error Rate')"
      ]
    },
    {
      "cell_type": "markdown",
      "metadata": {
        "id": "TVQ2IEQS1xLO"
      },
      "source": [
        "Optimum value of K can be 9 or 29.\n",
        "\n",
        "Chosing 29 may result into overfitting of model. \n",
        "\n",
        "We proceed to choose the value of K as 9"
      ]
    },
    {
      "cell_type": "code",
      "execution_count": 44,
      "metadata": {
        "id": "1xPuNEpFZ0Xy"
      },
      "outputs": [],
      "source": [
        "knn = KNeighborsClassifier(n_neighbors = 9)\n",
        "knn.fit (x_train, y_train)\n",
        "y_pred_knn_train = knn.predict (x_train)\n",
        "y_pred_knn_test = knn.predict(x_test)"
      ]
    },
    {
      "cell_type": "code",
      "execution_count": 45,
      "metadata": {
        "colab": {
          "base_uri": "https://localhost:8080/",
          "height": 334
        },
        "id": "9foKN-C6mr8s",
        "outputId": "f6de9628-6374-4075-be41-3869df51d5a7"
      },
      "outputs": [
        {
          "output_type": "stream",
          "name": "stderr",
          "text": [
            "/usr/local/lib/python3.7/dist-packages/sklearn/utils/deprecation.py:87: FutureWarning: Function plot_confusion_matrix is deprecated; Function `plot_confusion_matrix` is deprecated in 1.0 and will be removed in 1.2. Use one of the class methods: ConfusionMatrixDisplay.from_predictions or ConfusionMatrixDisplay.from_estimator.\n",
            "  warnings.warn(msg, category=FutureWarning)\n"
          ]
        },
        {
          "output_type": "display_data",
          "data": {
            "text/plain": [
              "<Figure size 432x288 with 2 Axes>"
            ],
            "image/png": "[encoded data removed]"
          },
          "metadata": {
            "needs_background": "light"
          }
        }
      ],
      "source": [
        "plot_confusion_matrix(knn, x_test, y_test)  \n",
        "plt.show()"
      ]
    },
    {
      "cell_type": "code",
      "execution_count": 46,
      "metadata": {
        "colab": {
          "base_uri": "https://localhost:8080/"
        },
        "id": "S8gdgZwem6do",
        "outputId": "b3db0292-2310-4d8f-fa93-25eb39cbe312"
      },
      "outputs": [
        {
          "output_type": "stream",
          "name": "stdout",
          "text": [
            "Training accuracy 94.625 %\n",
            "Test accuracy 92.25 %\n"
          ]
        }
      ],
      "source": [
        "accuracy_knn_train = metrics.accuracy_score(y_train, y_pred_knn_train)\n",
        "accuracy_knn_test = metrics.accuracy_score(y_test, y_pred_knn_test)\n",
        "print ('Training accuracy', accuracy_knn_train * 100, '%')\n",
        "print ('Test accuracy', accuracy_knn_test * 100, '%')"
      ]
    },
    {
      "cell_type": "code",
      "execution_count": 47,
      "metadata": {
        "colab": {
          "base_uri": "https://localhost:8080/",
          "height": 281
        },
        "id": "40QnKDGQm6qr",
        "outputId": "a8ece25c-2281-49f2-b809-a477888319ba"
      },
      "outputs": [
        {
          "output_type": "display_data",
          "data": {
            "text/plain": [
              "<Figure size 432x288 with 1 Axes>"
            ],
            "image/png": "[encoded data removed]"
          },
          "metadata": {
            "needs_background": "light"
          }
        }
      ],
      "source": [
        "models = ['decision tree', 'knn', 'logistic regression', 'random forest']\n",
        "acc_scores = [accuracy_d_tree_test, accuracy_knn_test, accuracy_logreg_test,  accuracy_rand_forest_test]\n",
        "\n",
        "plt.bar(models, acc_scores, color = ['orange', 'green', 'y', 'skyblue'])\n",
        "plt.ylabel(\"F1 scores\")\n",
        "plt.title(\"Model accuracy\")\n",
        "plt.show()"
      ]
    },
    {
      "cell_type": "markdown",
      "metadata": {
        "id": "C8up9wrwVdYI"
      },
      "source": [
        "##Artificial Neural Network Implementation"
      ]
    },
    {
      "cell_type": "code",
      "execution_count": 48,
      "metadata": {
        "id": "BC9nyavjrgjR"
      },
      "outputs": [],
      "source": [
        "import keras\n",
        "from keras.models import Sequential\n",
        "from keras.layers import *\n",
        "import matplotlib.pyplot as plt\n",
        "from sklearn.preprocessing import MinMaxScaler\n",
        "from sklearn.preprocessing import OneHotEncoder\n",
        "from sklearn.model_selection import train_test_split\n",
        "from sklearn.metrics import accuracy_score\n",
        "from sklearn.metrics import confusion_matrix"
      ]
    },
    {
      "cell_type": "code",
      "execution_count": 49,
      "metadata": {
        "colab": {
          "base_uri": "https://localhost:8080/",
          "height": 299
        },
        "id": "RLhozrdmxZPp",
        "outputId": "7d1b22d2-40ba-4c54-c729-c3d2fadd6aef"
      },
      "outputs": [
        {
          "output_type": "execute_result",
          "data": {
            "text/plain": [
              "   battery_power  blue  clock_speed  dual_sim  fc  four_g  int_memory  m_dep  \\\n",
              "0            842     0          2.2         0   1       0           7    0.6   \n",
              "1           1021     1          0.5         1   0       1          53    0.7   \n",
              "2            563     1          0.5         1   2       1          41    0.9   \n",
              "3            615     1          2.5         0   0       0          10    0.8   \n",
              "4           1821     1          1.2         0  13       1          44    0.6   \n",
              "\n",
              "   mobile_wt  n_cores  ...  px_height  px_width   ram  sc_h  sc_w  talk_time  \\\n",
              "0        188        2  ...         20       756  2549     9     7         19   \n",
              "1        136        3  ...        905      1988  2631    17     3          7   \n",
              "2        145        5  ...       1263      1716  2603    11     2          9   \n",
              "3        131        6  ...       1216      1786  2769    16     8         11   \n",
              "4        141        2  ...       1208      1212  1411     8     2         15   \n",
              "\n",
              "   three_g  touch_screen  wifi  price_range  \n",
              "0        0             0     1            1  \n",
              "1        1             1     0            2  \n",
              "2        1             1     0            2  \n",
              "3        1             0     0            2  \n",
              "4        1             1     0            1  \n",
              "\n",
              "[5 rows x 21 columns]"
            ],
            "text/html": [
              "\n",
              "  <div id=\"df-3705074d-3ad9-45d7-b3e0-f8e74c877378\">\n",
              "    <div class=\"colab-df-container\">\n",
              "      <div>\n",
              "<style scoped>\n",
              "    .dataframe tbody tr th:only-of-type {\n",
              "        vertical-align: middle;\n",
              "    }\n",
              "\n",
              "    .dataframe tbody tr th {\n",
              "        vertical-align: top;\n",
              "    }\n",
              "\n",
              "    .dataframe thead th {\n",
              "        text-align: right;\n",
              "    }\n",
              "</style>\n",
              "<table border=\"1\" class=\"dataframe\">\n",
              "  <thead>\n",
              "    <tr style=\"text-align: right;\">\n",
              "      <th></th>\n",
              "      <th>battery_power</th>\n",
              "      <th>blue</th>\n",
              "      <th>clock_speed</th>\n",
              "      <th>dual_sim</th>\n",
              "      <th>fc</th>\n",
              "      <th>four_g</th>\n",
              "      <th>int_memory</th>\n",
              "      <th>m_dep</th>\n",
              "      <th>mobile_wt</th>\n",
              "      <th>n_cores</th>\n",
              "      <th>...</th>\n",
              "      <th>px_height</th>\n",
              "      <th>px_width</th>\n",
              "      <th>ram</th>\n",
              "      <th>sc_h</th>\n",
              "      <th>sc_w</th>\n",
              "      <th>talk_time</th>\n",
              "      <th>three_g</th>\n",
              "      <th>touch_screen</th>\n",
              "      <th>wifi</th>\n",
              "      <th>price_range</th>\n",
              "    </tr>\n",
              "  </thead>\n",
              "  <tbody>\n",
              "    <tr>\n",
              "      <th>0</th>\n",
              "      <td>842</td>\n",
              "      <td>0</td>\n",
              "      <td>2.2</td>\n",
              "      <td>0</td>\n",
              "      <td>1</td>\n",
              "      <td>0</td>\n",
              "      <td>7</td>\n",
              "      <td>0.6</td>\n",
              "      <td>188</td>\n",
              "      <td>2</td>\n",
              "      <td>...</td>\n",
              "      <td>20</td>\n",
              "      <td>756</td>\n",
              "      <td>2549</td>\n",
              "      <td>9</td>\n",
              "      <td>7</td>\n",
              "      <td>19</td>\n",
              "      <td>0</td>\n",
              "      <td>0</td>\n",
              "      <td>1</td>\n",
              "      <td>1</td>\n",
              "    </tr>\n",
              "    <tr>\n",
              "      <th>1</th>\n",
              "      <td>1021</td>\n",
              "      <td>1</td>\n",
              "      <td>0.5</td>\n",
              "      <td>1</td>\n",
              "      <td>0</td>\n",
              "      <td>1</td>\n",
              "      <td>53</td>\n",
              "      <td>0.7</td>\n",
              "      <td>136</td>\n",
              "      <td>3</td>\n",
              "      <td>...</td>\n",
              "      <td>905</td>\n",
              "      <td>1988</td>\n",
              "      <td>2631</td>\n",
              "      <td>17</td>\n",
              "      <td>3</td>\n",
              "      <td>7</td>\n",
              "      <td>1</td>\n",
              "      <td>1</td>\n",
              "      <td>0</td>\n",
              "      <td>2</td>\n",
              "    </tr>\n",
              "    <tr>\n",
              "      <th>2</th>\n",
              "      <td>563</td>\n",
              "      <td>1</td>\n",
              "      <td>0.5</td>\n",
              "      <td>1</td>\n",
              "      <td>2</td>\n",
              "      <td>1</td>\n",
              "      <td>41</td>\n",
              "      <td>0.9</td>\n",
              "      <td>145</td>\n",
              "      <td>5</td>\n",
              "      <td>...</td>\n",
              "      <td>1263</td>\n",
              "      <td>1716</td>\n",
              "      <td>2603</td>\n",
              "      <td>11</td>\n",
              "      <td>2</td>\n",
              "      <td>9</td>\n",
              "      <td>1</td>\n",
              "      <td>1</td>\n",
              "      <td>0</td>\n",
              "      <td>2</td>\n",
              "    </tr>\n",
              "    <tr>\n",
              "      <th>3</th>\n",
              "      <td>615</td>\n",
              "      <td>1</td>\n",
              "      <td>2.5</td>\n",
              "      <td>0</td>\n",
              "      <td>0</td>\n",
              "      <td>0</td>\n",
              "      <td>10</td>\n",
              "      <td>0.8</td>\n",
              "      <td>131</td>\n",
              "      <td>6</td>\n",
              "      <td>...</td>\n",
              "      <td>1216</td>\n",
              "      <td>1786</td>\n",
              "      <td>2769</td>\n",
              "      <td>16</td>\n",
              "      <td>8</td>\n",
              "      <td>11</td>\n",
              "      <td>1</td>\n",
              "      <td>0</td>\n",
              "      <td>0</td>\n",
              "      <td>2</td>\n",
              "    </tr>\n",
              "    <tr>\n",
              "      <th>4</th>\n",
              "      <td>1821</td>\n",
              "      <td>1</td>\n",
              "      <td>1.2</td>\n",
              "      <td>0</td>\n",
              "      <td>13</td>\n",
              "      <td>1</td>\n",
              "      <td>44</td>\n",
              "      <td>0.6</td>\n",
              "      <td>141</td>\n",
              "      <td>2</td>\n",
              "      <td>...</td>\n",
              "      <td>1208</td>\n",
              "      <td>1212</td>\n",
              "      <td>1411</td>\n",
              "      <td>8</td>\n",
              "      <td>2</td>\n",
              "      <td>15</td>\n",
              "      <td>1</td>\n",
              "      <td>1</td>\n",
              "      <td>0</td>\n",
              "      <td>1</td>\n",
              "    </tr>\n",
              "  </tbody>\n",
              "</table>\n",
              "<p>5 rows × 21 columns</p>\n",
              "</div>\n",
              "      <button class=\"colab-df-convert\" onclick=\"convertToInteractive('df-3705074d-3ad9-45d7-b3e0-f8e74c877378')\"\n",
              "              title=\"Convert this dataframe to an interactive table.\"\n",
              "              style=\"display:none;\">\n",
              "        \n",
              "  <svg xmlns=\"http://www.w3.org/2000/svg\" height=\"24px\"viewBox=\"0 0 24 24\"\n",
              "       width=\"24px\">\n",
              "    <path d=\"M0 0h24v24H0V0z\" fill=\"none\"/>\n",
              "    <path d=\"M18.56 5.44l.94 2.06.94-2.06 2.06-.94-2.06-.94-.94-2.06-.94 2.06-2.06.94zm-11 1L8.5 8.5l.94-2.06 2.06-.94-2.06-.94L8.5 2.5l-.94 2.06-2.06.94zm10 10l.94 2.06.94-2.06 2.06-.94-2.06-.94-.94-2.06-.94 2.06-2.06.94z\"/><path d=\"M17.41 7.96l-1.37-1.37c-.4-.4-.92-.59-1.43-.59-.52 0-1.04.2-1.43.59L10.3 9.45l-7.72 7.72c-.78.78-.78 2.05 0 2.83L4 21.41c.39.39.9.59 1.41.59.51 0 1.02-.2 1.41-.59l7.78-7.78 2.81-2.81c.8-.78.8-2.07 0-2.86zM5.41 20L4 18.59l7.72-7.72 1.47 1.35L5.41 20z\"/>\n",
              "  </svg>\n",
              "      </button>\n",
              "      \n",
              "  <style>\n",
              "    .colab-df-container {\n",
              "      display:flex;\n",
              "      flex-wrap:wrap;\n",
              "      gap: 12px;\n",
              "    }\n",
              "\n",
              "    .colab-df-convert {\n",
              "      background-color: #E8F0FE;\n",
              "      border: none;\n",
              "      border-radius: 50%;\n",
              "      cursor: pointer;\n",
              "      display: none;\n",
              "      fill: #1967D2;\n",
              "      height: 32px;\n",
              "      padding: 0 0 0 0;\n",
              "      width: 32px;\n",
              "    }\n",
              "\n",
              "    .colab-df-convert:hover {\n",
              "      background-color: #E2EBFA;\n",
              "      box-shadow: 0px 1px 2px rgba(60, 64, 67, 0.3), 0px 1px 3px 1px rgba(60, 64, 67, 0.15);\n",
              "      fill: #174EA6;\n",
              "    }\n",
              "\n",
              "    [theme=dark] .colab-df-convert {\n",
              "      background-color: #3B4455;\n",
              "      fill: #D2E3FC;\n",
              "    }\n",
              "\n",
              "    [theme=dark] .colab-df-convert:hover {\n",
              "      background-color: #434B5C;\n",
              "      box-shadow: 0px 1px 3px 1px rgba(0, 0, 0, 0.15);\n",
              "      filter: drop-shadow(0px 1px 2px rgba(0, 0, 0, 0.3));\n",
              "      fill: #FFFFFF;\n",
              "    }\n",
              "  </style>\n",
              "\n",
              "      <script>\n",
              "        const buttonEl =\n",
              "          document.querySelector('#df-3705074d-3ad9-45d7-b3e0-f8e74c877378 button.colab-df-convert');\n",
              "        buttonEl.style.display =\n",
              "          google.colab.kernel.accessAllowed ? 'block' : 'none';\n",
              "\n",
              "        async function convertToInteractive(key) {\n",
              "          const element = document.querySelector('#df-3705074d-3ad9-45d7-b3e0-f8e74c877378');\n",
              "          const dataTable =\n",
              "            await google.colab.kernel.invokeFunction('convertToInteractive',\n",
              "                                                     [key], {});\n",
              "          if (!dataTable) return;\n",
              "\n",
              "          const docLinkHtml = 'Like what you see? Visit the ' +\n",
              "            '<a target=\"_blank\" href=https://colab.research.google.com/notebooks/data_table.ipynb>data table notebook</a>'\n",
              "            + ' to learn more about interactive tables.';\n",
              "          element.innerHTML = '';\n",
              "          dataTable['output_type'] = 'display_data';\n",
              "          await google.colab.output.renderOutput(dataTable, element);\n",
              "          const docLink = document.createElement('div');\n",
              "          docLink.innerHTML = docLinkHtml;\n",
              "          element.appendChild(docLink);\n",
              "        }\n",
              "      </script>\n",
              "    </div>\n",
              "  </div>\n",
              "  "
            ]
          },
          "metadata": {},
          "execution_count": 49
        }
      ],
      "source": [
        "data_set = pd.read_csv('/content/sample_data/train.csv')\n",
        "data_set.head()"
      ]
    },
    {
      "cell_type": "code",
      "execution_count": 50,
      "metadata": {
        "id": "qK5YJEoCxgM6"
      },
      "outputs": [],
      "source": [
        "x_extract = data_set.iloc [:, 0:20]\n",
        "y_extract = data_set.iloc [:, -1]"
      ]
    },
    {
      "cell_type": "markdown",
      "metadata": {
        "id": "3QfRPPmB4rzt"
      },
      "source": [
        "##Normalisation and scaling of data points"
      ]
    },
    {
      "cell_type": "code",
      "execution_count": 51,
      "metadata": {
        "id": "Cq6snay0pXmb",
        "colab": {
          "base_uri": "https://localhost:8080/"
        },
        "outputId": "f2a773e0-c2d5-47af-abe8-93e6be752483"
      },
      "outputs": [
        {
          "output_type": "stream",
          "name": "stdout",
          "text": [
            "[1.021e+03 1.000e+00 5.000e-01 1.000e+00 0.000e+00 1.000e+00 5.300e+01\n",
            " 7.000e-01 1.360e+02 3.000e+00 6.000e+00 9.050e+02 1.988e+03 2.631e+03\n",
            " 1.700e+01 3.000e+00 7.000e+00 1.000e+00 1.000e+00 0.000e+00]\n"
          ]
        }
      ],
      "source": [
        "min_max = MinMaxScaler()\n",
        "x = x_extract.values\n",
        "print (x[1, :]) \n",
        "y = y_extract.values\n",
        "x = min_max.fit_transform(x)\n",
        "y = y.reshape(-1,1)"
      ]
    },
    {
      "cell_type": "markdown",
      "metadata": {
        "id": "5HU7GQ-4D3s0"
      },
      "source": [
        "##Converting output labels to one hot encoder"
      ]
    },
    {
      "cell_type": "code",
      "execution_count": 52,
      "metadata": {
        "id": "vk5vI_Dppdyr",
        "colab": {
          "base_uri": "https://localhost:8080/"
        },
        "outputId": "0bf3982c-d492-4504-d583-8daa6fe32f07"
      },
      "outputs": [
        {
          "output_type": "stream",
          "name": "stdout",
          "text": [
            "  (0, 2)\t1.0\n",
            "(2000, 4)\n",
            "<class 'scipy.sparse.csr.csr_matrix'>\n",
            "<class 'numpy.ndarray'>\n",
            "(2000, 20) (2000, 4)\n",
            "[0. 0. 1. 0.]\n"
          ]
        }
      ],
      "source": [
        "onehot = OneHotEncoder()\n",
        "y = onehot.fit_transform(y)\n",
        "print (y[1,:])\n",
        "print (y.shape)\n",
        "print (type(y))\n",
        "y = y.toarray()\n",
        "print (type(y))\n",
        "print (x.shape, y.shape)\n",
        "print (y[1, :])"
      ]
    },
    {
      "cell_type": "markdown",
      "metadata": {
        "id": "I8EdLA4oEN3l"
      },
      "source": [
        "##Splitting of Training and testing data for ANN"
      ]
    },
    {
      "cell_type": "markdown",
      "source": [
        "### 80% training and 20% test data"
      ],
      "metadata": {
        "id": "9MwLSA5mINAE"
      }
    },
    {
      "cell_type": "code",
      "execution_count": 53,
      "metadata": {
        "id": "NOEB5ih-p9vb"
      },
      "outputs": [],
      "source": [
        "x_train, x_test, y_train, y_test = train_test_split(x, y, test_size=0.20, random_state=101)"
      ]
    },
    {
      "cell_type": "markdown",
      "source": [
        "##Model Hyper-Parameters"
      ],
      "metadata": {
        "id": "a1dZjFrfIiq7"
      }
    },
    {
      "cell_type": "code",
      "execution_count": 54,
      "metadata": {
        "id": "jOP_RG-kqKPs",
        "colab": {
          "base_uri": "https://localhost:8080/"
        },
        "outputId": "11e1df81-102f-485e-cc55-7d3bb5983f4e"
      },
      "outputs": [
        {
          "output_type": "stream",
          "name": "stdout",
          "text": [
            "Model: \"sequential\"\n",
            "_________________________________________________________________\n",
            " Layer (type)                Output Shape              Param #   \n",
            "=================================================================\n",
            " dense (Dense)               (None, 20)                420       \n",
            "                                                                 \n",
            " dense_1 (Dense)             (None, 10)                210       \n",
            "                                                                 \n",
            " dense_2 (Dense)             (None, 4)                 44        \n",
            "                                                                 \n",
            "=================================================================\n",
            "Total params: 674\n",
            "Trainable params: 674\n",
            "Non-trainable params: 0\n",
            "_________________________________________________________________\n"
          ]
        }
      ],
      "source": [
        "model = Sequential()\n",
        "model.add(Dense(20, activation='tanh', input_dim = 20))\n",
        "model.add(Dense(10, activation='tanh'))\n",
        "model.add(Dense(4,  activation='softmax'))\n",
        "model.summary()"
      ]
    },
    {
      "cell_type": "code",
      "execution_count": 55,
      "metadata": {
        "id": "hh8VoZwJqNsm"
      },
      "outputs": [],
      "source": [
        "model.compile(loss='categorical_crossentropy',optimizer='Adam',metrics=['accuracy'])"
      ]
    },
    {
      "cell_type": "code",
      "execution_count": 56,
      "metadata": {
        "id": "XPBYBYvJqSRV",
        "colab": {
          "base_uri": "https://localhost:8080/"
        },
        "outputId": "ecd9e89b-1651-4ad9-85d6-be8397fa15c8"
      },
      "outputs": [
        {
          "output_type": "stream",
          "name": "stdout",
          "text": [
            "Epoch 1/200\n",
            "25/25 [==============================] - 1s 12ms/step - loss: 1.4452 - accuracy: 0.2581 - val_loss: 1.3935 - val_accuracy: 0.2475\n",
            "Epoch 2/200\n",
            "25/25 [==============================] - 0s 3ms/step - loss: 1.3666 - accuracy: 0.3006 - val_loss: 1.3560 - val_accuracy: 0.3150\n",
            "Epoch 3/200\n",
            "25/25 [==============================] - 0s 3ms/step - loss: 1.3294 - accuracy: 0.3644 - val_loss: 1.3247 - val_accuracy: 0.3675\n",
            "Epoch 4/200\n",
            "25/25 [==============================] - 0s 3ms/step - loss: 1.2898 - accuracy: 0.4269 - val_loss: 1.2830 - val_accuracy: 0.4050\n",
            "Epoch 5/200\n",
            "25/25 [==============================] - 0s 3ms/step - loss: 1.2426 - accuracy: 0.4737 - val_loss: 1.2389 - val_accuracy: 0.4575\n",
            "Epoch 6/200\n",
            "25/25 [==============================] - 0s 3ms/step - loss: 1.1876 - accuracy: 0.5281 - val_loss: 1.1816 - val_accuracy: 0.5100\n",
            "Epoch 7/200\n",
            "25/25 [==============================] - 0s 3ms/step - loss: 1.1265 - accuracy: 0.5663 - val_loss: 1.1283 - val_accuracy: 0.5175\n",
            "Epoch 8/200\n",
            "25/25 [==============================] - 0s 3ms/step - loss: 1.0631 - accuracy: 0.6019 - val_loss: 1.0644 - val_accuracy: 0.5650\n",
            "Epoch 9/200\n",
            "25/25 [==============================] - 0s 3ms/step - loss: 0.9988 - accuracy: 0.6263 - val_loss: 1.0130 - val_accuracy: 0.5650\n",
            "Epoch 10/200\n",
            "25/25 [==============================] - 0s 5ms/step - loss: 0.9411 - accuracy: 0.6531 - val_loss: 0.9540 - val_accuracy: 0.6250\n",
            "Epoch 11/200\n",
            "25/25 [==============================] - 0s 4ms/step - loss: 0.8857 - accuracy: 0.6769 - val_loss: 0.9059 - val_accuracy: 0.6500\n",
            "Epoch 12/200\n",
            "25/25 [==============================] - 0s 3ms/step - loss: 0.8358 - accuracy: 0.7094 - val_loss: 0.8615 - val_accuracy: 0.6650\n",
            "Epoch 13/200\n",
            "25/25 [==============================] - 0s 3ms/step - loss: 0.7914 - accuracy: 0.7250 - val_loss: 0.8145 - val_accuracy: 0.7050\n",
            "Epoch 14/200\n",
            "25/25 [==============================] - 0s 3ms/step - loss: 0.7513 - accuracy: 0.7450 - val_loss: 0.7788 - val_accuracy: 0.7125\n",
            "Epoch 15/200\n",
            "25/25 [==============================] - 0s 3ms/step - loss: 0.7148 - accuracy: 0.7719 - val_loss: 0.7403 - val_accuracy: 0.7400\n",
            "Epoch 16/200\n",
            "25/25 [==============================] - 0s 3ms/step - loss: 0.6802 - accuracy: 0.7844 - val_loss: 0.7080 - val_accuracy: 0.7550\n",
            "Epoch 17/200\n",
            "25/25 [==============================] - 0s 3ms/step - loss: 0.6486 - accuracy: 0.8056 - val_loss: 0.6781 - val_accuracy: 0.7650\n",
            "Epoch 18/200\n",
            "25/25 [==============================] - 0s 3ms/step - loss: 0.6182 - accuracy: 0.8244 - val_loss: 0.6455 - val_accuracy: 0.8000\n",
            "Epoch 19/200\n",
            "25/25 [==============================] - 0s 4ms/step - loss: 0.5903 - accuracy: 0.8281 - val_loss: 0.6164 - val_accuracy: 0.8225\n",
            "Epoch 20/200\n",
            "25/25 [==============================] - 0s 3ms/step - loss: 0.5623 - accuracy: 0.8475 - val_loss: 0.5900 - val_accuracy: 0.8150\n",
            "Epoch 21/200\n",
            "25/25 [==============================] - 0s 3ms/step - loss: 0.5376 - accuracy: 0.8625 - val_loss: 0.5638 - val_accuracy: 0.8350\n",
            "Epoch 22/200\n",
            "25/25 [==============================] - 0s 3ms/step - loss: 0.5133 - accuracy: 0.8750 - val_loss: 0.5381 - val_accuracy: 0.8550\n",
            "Epoch 23/200\n",
            "25/25 [==============================] - 0s 3ms/step - loss: 0.4911 - accuracy: 0.8819 - val_loss: 0.5152 - val_accuracy: 0.8675\n",
            "Epoch 24/200\n",
            "25/25 [==============================] - 0s 4ms/step - loss: 0.4702 - accuracy: 0.8813 - val_loss: 0.4969 - val_accuracy: 0.8700\n",
            "Epoch 25/200\n",
            "25/25 [==============================] - 0s 3ms/step - loss: 0.4504 - accuracy: 0.8850 - val_loss: 0.4746 - val_accuracy: 0.8825\n",
            "Epoch 26/200\n",
            "25/25 [==============================] - 0s 4ms/step - loss: 0.4290 - accuracy: 0.8969 - val_loss: 0.4536 - val_accuracy: 0.8925\n",
            "Epoch 27/200\n",
            "25/25 [==============================] - 0s 3ms/step - loss: 0.4107 - accuracy: 0.9100 - val_loss: 0.4425 - val_accuracy: 0.8825\n",
            "Epoch 28/200\n",
            "25/25 [==============================] - 0s 3ms/step - loss: 0.3949 - accuracy: 0.9044 - val_loss: 0.4183 - val_accuracy: 0.9025\n",
            "Epoch 29/200\n",
            "25/25 [==============================] - 0s 3ms/step - loss: 0.3833 - accuracy: 0.9062 - val_loss: 0.4060 - val_accuracy: 0.9050\n",
            "Epoch 30/200\n",
            "25/25 [==============================] - 0s 3ms/step - loss: 0.3636 - accuracy: 0.9137 - val_loss: 0.3909 - val_accuracy: 0.9100\n",
            "Epoch 31/200\n",
            "25/25 [==============================] - 0s 3ms/step - loss: 0.3505 - accuracy: 0.9206 - val_loss: 0.3783 - val_accuracy: 0.9025\n",
            "Epoch 32/200\n",
            "25/25 [==============================] - 0s 3ms/step - loss: 0.3402 - accuracy: 0.9250 - val_loss: 0.3649 - val_accuracy: 0.9200\n",
            "Epoch 33/200\n",
            "25/25 [==============================] - 0s 3ms/step - loss: 0.3265 - accuracy: 0.9244 - val_loss: 0.3493 - val_accuracy: 0.9225\n",
            "Epoch 34/200\n",
            "25/25 [==============================] - 0s 3ms/step - loss: 0.3150 - accuracy: 0.9394 - val_loss: 0.3394 - val_accuracy: 0.9175\n",
            "Epoch 35/200\n",
            "25/25 [==============================] - 0s 3ms/step - loss: 0.3020 - accuracy: 0.9350 - val_loss: 0.3286 - val_accuracy: 0.9100\n",
            "Epoch 36/200\n",
            "25/25 [==============================] - 0s 3ms/step - loss: 0.2940 - accuracy: 0.9369 - val_loss: 0.3210 - val_accuracy: 0.9100\n",
            "Epoch 37/200\n",
            "25/25 [==============================] - 0s 4ms/step - loss: 0.2835 - accuracy: 0.9463 - val_loss: 0.3123 - val_accuracy: 0.9275\n",
            "Epoch 38/200\n",
            "25/25 [==============================] - 0s 3ms/step - loss: 0.2740 - accuracy: 0.9494 - val_loss: 0.3019 - val_accuracy: 0.9300\n",
            "Epoch 39/200\n",
            "25/25 [==============================] - 0s 3ms/step - loss: 0.2655 - accuracy: 0.9488 - val_loss: 0.2941 - val_accuracy: 0.9350\n",
            "Epoch 40/200\n",
            "25/25 [==============================] - 0s 3ms/step - loss: 0.2586 - accuracy: 0.9531 - val_loss: 0.2901 - val_accuracy: 0.9150\n",
            "Epoch 41/200\n",
            "25/25 [==============================] - 0s 3ms/step - loss: 0.2508 - accuracy: 0.9481 - val_loss: 0.2769 - val_accuracy: 0.9275\n",
            "Epoch 42/200\n",
            "25/25 [==============================] - 0s 3ms/step - loss: 0.2427 - accuracy: 0.9556 - val_loss: 0.2755 - val_accuracy: 0.9350\n",
            "Epoch 43/200\n",
            "25/25 [==============================] - 0s 4ms/step - loss: 0.2379 - accuracy: 0.9525 - val_loss: 0.2628 - val_accuracy: 0.9250\n",
            "Epoch 44/200\n",
            "25/25 [==============================] - 0s 3ms/step - loss: 0.2299 - accuracy: 0.9575 - val_loss: 0.2597 - val_accuracy: 0.9175\n",
            "Epoch 45/200\n",
            "25/25 [==============================] - 0s 4ms/step - loss: 0.2258 - accuracy: 0.9550 - val_loss: 0.2528 - val_accuracy: 0.9250\n",
            "Epoch 46/200\n",
            "25/25 [==============================] - 0s 3ms/step - loss: 0.2213 - accuracy: 0.9531 - val_loss: 0.2463 - val_accuracy: 0.9225\n",
            "Epoch 47/200\n",
            "25/25 [==============================] - 0s 3ms/step - loss: 0.2121 - accuracy: 0.9631 - val_loss: 0.2411 - val_accuracy: 0.9275\n",
            "Epoch 48/200\n",
            "25/25 [==============================] - 0s 4ms/step - loss: 0.2061 - accuracy: 0.9669 - val_loss: 0.2379 - val_accuracy: 0.9350\n",
            "Epoch 49/200\n",
            "25/25 [==============================] - 0s 3ms/step - loss: 0.1999 - accuracy: 0.9744 - val_loss: 0.2301 - val_accuracy: 0.9300\n",
            "Epoch 50/200\n",
            "25/25 [==============================] - 0s 3ms/step - loss: 0.1957 - accuracy: 0.9700 - val_loss: 0.2393 - val_accuracy: 0.9300\n",
            "Epoch 51/200\n",
            "25/25 [==============================] - 0s 3ms/step - loss: 0.1968 - accuracy: 0.9613 - val_loss: 0.2248 - val_accuracy: 0.9375\n",
            "Epoch 52/200\n",
            "25/25 [==============================] - 0s 3ms/step - loss: 0.1876 - accuracy: 0.9731 - val_loss: 0.2200 - val_accuracy: 0.9375\n",
            "Epoch 53/200\n",
            "25/25 [==============================] - 0s 4ms/step - loss: 0.1841 - accuracy: 0.9712 - val_loss: 0.2173 - val_accuracy: 0.9125\n",
            "Epoch 54/200\n",
            "25/25 [==============================] - 0s 3ms/step - loss: 0.1793 - accuracy: 0.9762 - val_loss: 0.2127 - val_accuracy: 0.9350\n",
            "Epoch 55/200\n",
            "25/25 [==============================] - 0s 4ms/step - loss: 0.1762 - accuracy: 0.9731 - val_loss: 0.2105 - val_accuracy: 0.9175\n",
            "Epoch 56/200\n",
            "25/25 [==============================] - 0s 4ms/step - loss: 0.1718 - accuracy: 0.9762 - val_loss: 0.2071 - val_accuracy: 0.9375\n",
            "Epoch 57/200\n",
            "25/25 [==============================] - 0s 3ms/step - loss: 0.1693 - accuracy: 0.9712 - val_loss: 0.2044 - val_accuracy: 0.9225\n",
            "Epoch 58/200\n",
            "25/25 [==============================] - 0s 4ms/step - loss: 0.1641 - accuracy: 0.9775 - val_loss: 0.2010 - val_accuracy: 0.9425\n",
            "Epoch 59/200\n",
            "25/25 [==============================] - 0s 3ms/step - loss: 0.1619 - accuracy: 0.9781 - val_loss: 0.1947 - val_accuracy: 0.9350\n",
            "Epoch 60/200\n",
            "25/25 [==============================] - 0s 3ms/step - loss: 0.1598 - accuracy: 0.9719 - val_loss: 0.2029 - val_accuracy: 0.9200\n",
            "Epoch 61/200\n",
            "25/25 [==============================] - 0s 3ms/step - loss: 0.1565 - accuracy: 0.9756 - val_loss: 0.1912 - val_accuracy: 0.9325\n",
            "Epoch 62/200\n",
            "25/25 [==============================] - 0s 3ms/step - loss: 0.1514 - accuracy: 0.9800 - val_loss: 0.1899 - val_accuracy: 0.9425\n",
            "Epoch 63/200\n",
            "25/25 [==============================] - 0s 3ms/step - loss: 0.1488 - accuracy: 0.9794 - val_loss: 0.1856 - val_accuracy: 0.9350\n",
            "Epoch 64/200\n",
            "25/25 [==============================] - 0s 4ms/step - loss: 0.1465 - accuracy: 0.9794 - val_loss: 0.1834 - val_accuracy: 0.9425\n",
            "Epoch 65/200\n",
            "25/25 [==============================] - 0s 3ms/step - loss: 0.1443 - accuracy: 0.9787 - val_loss: 0.1818 - val_accuracy: 0.9375\n",
            "Epoch 66/200\n",
            "25/25 [==============================] - 0s 3ms/step - loss: 0.1415 - accuracy: 0.9794 - val_loss: 0.1798 - val_accuracy: 0.9350\n",
            "Epoch 67/200\n",
            "25/25 [==============================] - 0s 3ms/step - loss: 0.1399 - accuracy: 0.9781 - val_loss: 0.1830 - val_accuracy: 0.9400\n",
            "Epoch 68/200\n",
            "25/25 [==============================] - 0s 3ms/step - loss: 0.1428 - accuracy: 0.9700 - val_loss: 0.1808 - val_accuracy: 0.9300\n",
            "Epoch 69/200\n",
            "25/25 [==============================] - 0s 3ms/step - loss: 0.1405 - accuracy: 0.9706 - val_loss: 0.1730 - val_accuracy: 0.9450\n",
            "Epoch 70/200\n",
            "25/25 [==============================] - 0s 3ms/step - loss: 0.1325 - accuracy: 0.9812 - val_loss: 0.1717 - val_accuracy: 0.9400\n",
            "Epoch 71/200\n",
            "25/25 [==============================] - 0s 3ms/step - loss: 0.1289 - accuracy: 0.9794 - val_loss: 0.1692 - val_accuracy: 0.9375\n",
            "Epoch 72/200\n",
            "25/25 [==============================] - 0s 3ms/step - loss: 0.1299 - accuracy: 0.9819 - val_loss: 0.1679 - val_accuracy: 0.9350\n",
            "Epoch 73/200\n",
            "25/25 [==============================] - 0s 4ms/step - loss: 0.1260 - accuracy: 0.9800 - val_loss: 0.1655 - val_accuracy: 0.9350\n",
            "Epoch 74/200\n",
            "25/25 [==============================] - 0s 3ms/step - loss: 0.1240 - accuracy: 0.9825 - val_loss: 0.1650 - val_accuracy: 0.9400\n",
            "Epoch 75/200\n",
            "25/25 [==============================] - 0s 3ms/step - loss: 0.1251 - accuracy: 0.9762 - val_loss: 0.1654 - val_accuracy: 0.9300\n",
            "Epoch 76/200\n",
            "25/25 [==============================] - 0s 3ms/step - loss: 0.1216 - accuracy: 0.9800 - val_loss: 0.1595 - val_accuracy: 0.9375\n",
            "Epoch 77/200\n",
            "25/25 [==============================] - 0s 4ms/step - loss: 0.1183 - accuracy: 0.9781 - val_loss: 0.1592 - val_accuracy: 0.9350\n",
            "Epoch 78/200\n",
            "25/25 [==============================] - 0s 4ms/step - loss: 0.1155 - accuracy: 0.9831 - val_loss: 0.1617 - val_accuracy: 0.9350\n",
            "Epoch 79/200\n",
            "25/25 [==============================] - 0s 4ms/step - loss: 0.1149 - accuracy: 0.9819 - val_loss: 0.1561 - val_accuracy: 0.9425\n",
            "Epoch 80/200\n",
            "25/25 [==============================] - 0s 3ms/step - loss: 0.1115 - accuracy: 0.9831 - val_loss: 0.1530 - val_accuracy: 0.9425\n",
            "Epoch 81/200\n",
            "25/25 [==============================] - 0s 3ms/step - loss: 0.1108 - accuracy: 0.9825 - val_loss: 0.1537 - val_accuracy: 0.9350\n",
            "Epoch 82/200\n",
            "25/25 [==============================] - 0s 4ms/step - loss: 0.1145 - accuracy: 0.9762 - val_loss: 0.1646 - val_accuracy: 0.9450\n",
            "Epoch 83/200\n",
            "25/25 [==============================] - 0s 3ms/step - loss: 0.1155 - accuracy: 0.9756 - val_loss: 0.1678 - val_accuracy: 0.9200\n",
            "Epoch 84/200\n",
            "25/25 [==============================] - 0s 3ms/step - loss: 0.1152 - accuracy: 0.9731 - val_loss: 0.1537 - val_accuracy: 0.9400\n",
            "Epoch 85/200\n",
            "25/25 [==============================] - 0s 3ms/step - loss: 0.1113 - accuracy: 0.9775 - val_loss: 0.1469 - val_accuracy: 0.9400\n",
            "Epoch 86/200\n",
            "25/25 [==============================] - 0s 3ms/step - loss: 0.1040 - accuracy: 0.9837 - val_loss: 0.1504 - val_accuracy: 0.9400\n",
            "Epoch 87/200\n",
            "25/25 [==============================] - 0s 3ms/step - loss: 0.1025 - accuracy: 0.9844 - val_loss: 0.1447 - val_accuracy: 0.9400\n",
            "Epoch 88/200\n",
            "25/25 [==============================] - 0s 4ms/step - loss: 0.1048 - accuracy: 0.9812 - val_loss: 0.1505 - val_accuracy: 0.9375\n",
            "Epoch 89/200\n",
            "25/25 [==============================] - 0s 3ms/step - loss: 0.1003 - accuracy: 0.9831 - val_loss: 0.1421 - val_accuracy: 0.9375\n",
            "Epoch 90/200\n",
            "25/25 [==============================] - 0s 4ms/step - loss: 0.0999 - accuracy: 0.9837 - val_loss: 0.1460 - val_accuracy: 0.9400\n",
            "Epoch 91/200\n",
            "25/25 [==============================] - 0s 4ms/step - loss: 0.0991 - accuracy: 0.9837 - val_loss: 0.1457 - val_accuracy: 0.9400\n",
            "Epoch 92/200\n",
            "25/25 [==============================] - 0s 3ms/step - loss: 0.0968 - accuracy: 0.9800 - val_loss: 0.1404 - val_accuracy: 0.9450\n",
            "Epoch 93/200\n",
            "25/25 [==============================] - 0s 4ms/step - loss: 0.0951 - accuracy: 0.9856 - val_loss: 0.1402 - val_accuracy: 0.9375\n",
            "Epoch 94/200\n",
            "25/25 [==============================] - 0s 4ms/step - loss: 0.0940 - accuracy: 0.9875 - val_loss: 0.1443 - val_accuracy: 0.9375\n",
            "Epoch 95/200\n",
            "25/25 [==============================] - 0s 3ms/step - loss: 0.0931 - accuracy: 0.9831 - val_loss: 0.1373 - val_accuracy: 0.9450\n",
            "Epoch 96/200\n",
            "25/25 [==============================] - 0s 3ms/step - loss: 0.0926 - accuracy: 0.9825 - val_loss: 0.1425 - val_accuracy: 0.9425\n",
            "Epoch 97/200\n",
            "25/25 [==============================] - 0s 3ms/step - loss: 0.0947 - accuracy: 0.9812 - val_loss: 0.1387 - val_accuracy: 0.9425\n",
            "Epoch 98/200\n",
            "25/25 [==============================] - 0s 3ms/step - loss: 0.0895 - accuracy: 0.9856 - val_loss: 0.1344 - val_accuracy: 0.9425\n",
            "Epoch 99/200\n",
            "25/25 [==============================] - 0s 4ms/step - loss: 0.0894 - accuracy: 0.9837 - val_loss: 0.1345 - val_accuracy: 0.9425\n",
            "Epoch 100/200\n",
            "25/25 [==============================] - 0s 3ms/step - loss: 0.0890 - accuracy: 0.9837 - val_loss: 0.1357 - val_accuracy: 0.9475\n",
            "Epoch 101/200\n",
            "25/25 [==============================] - 0s 4ms/step - loss: 0.0874 - accuracy: 0.9831 - val_loss: 0.1375 - val_accuracy: 0.9400\n",
            "Epoch 102/200\n",
            "25/25 [==============================] - 0s 3ms/step - loss: 0.0882 - accuracy: 0.9831 - val_loss: 0.1341 - val_accuracy: 0.9475\n",
            "Epoch 103/200\n",
            "25/25 [==============================] - 0s 4ms/step - loss: 0.0896 - accuracy: 0.9787 - val_loss: 0.1338 - val_accuracy: 0.9450\n",
            "Epoch 104/200\n",
            "25/25 [==============================] - 0s 4ms/step - loss: 0.0837 - accuracy: 0.9881 - val_loss: 0.1318 - val_accuracy: 0.9425\n",
            "Epoch 105/200\n",
            "25/25 [==============================] - 0s 4ms/step - loss: 0.0829 - accuracy: 0.9837 - val_loss: 0.1322 - val_accuracy: 0.9450\n",
            "Epoch 106/200\n",
            "25/25 [==============================] - 0s 3ms/step - loss: 0.0820 - accuracy: 0.9837 - val_loss: 0.1284 - val_accuracy: 0.9425\n",
            "Epoch 107/200\n",
            "25/25 [==============================] - 0s 3ms/step - loss: 0.0842 - accuracy: 0.9837 - val_loss: 0.1319 - val_accuracy: 0.9425\n",
            "Epoch 108/200\n",
            "25/25 [==============================] - 0s 3ms/step - loss: 0.0835 - accuracy: 0.9850 - val_loss: 0.1264 - val_accuracy: 0.9400\n",
            "Epoch 109/200\n",
            "25/25 [==============================] - 0s 3ms/step - loss: 0.0813 - accuracy: 0.9837 - val_loss: 0.1308 - val_accuracy: 0.9500\n",
            "Epoch 110/200\n",
            "25/25 [==============================] - 0s 4ms/step - loss: 0.0798 - accuracy: 0.9825 - val_loss: 0.1252 - val_accuracy: 0.9425\n",
            "Epoch 111/200\n",
            "25/25 [==============================] - 0s 3ms/step - loss: 0.0806 - accuracy: 0.9850 - val_loss: 0.1282 - val_accuracy: 0.9425\n",
            "Epoch 112/200\n",
            "25/25 [==============================] - 0s 4ms/step - loss: 0.0767 - accuracy: 0.9850 - val_loss: 0.1219 - val_accuracy: 0.9450\n",
            "Epoch 113/200\n",
            "25/25 [==============================] - 0s 3ms/step - loss: 0.0764 - accuracy: 0.9819 - val_loss: 0.1303 - val_accuracy: 0.9450\n",
            "Epoch 114/200\n",
            "25/25 [==============================] - 0s 3ms/step - loss: 0.0776 - accuracy: 0.9819 - val_loss: 0.1273 - val_accuracy: 0.9500\n",
            "Epoch 115/200\n",
            "25/25 [==============================] - 0s 4ms/step - loss: 0.0774 - accuracy: 0.9856 - val_loss: 0.1300 - val_accuracy: 0.9400\n",
            "Epoch 116/200\n",
            "25/25 [==============================] - 0s 3ms/step - loss: 0.0757 - accuracy: 0.9844 - val_loss: 0.1217 - val_accuracy: 0.9450\n",
            "Epoch 117/200\n",
            "25/25 [==============================] - 0s 3ms/step - loss: 0.0737 - accuracy: 0.9844 - val_loss: 0.1216 - val_accuracy: 0.9475\n",
            "Epoch 118/200\n",
            "25/25 [==============================] - 0s 3ms/step - loss: 0.0752 - accuracy: 0.9837 - val_loss: 0.1255 - val_accuracy: 0.9475\n",
            "Epoch 119/200\n",
            "25/25 [==============================] - 0s 3ms/step - loss: 0.0739 - accuracy: 0.9837 - val_loss: 0.1236 - val_accuracy: 0.9475\n",
            "Epoch 120/200\n",
            "25/25 [==============================] - 0s 3ms/step - loss: 0.0716 - accuracy: 0.9856 - val_loss: 0.1196 - val_accuracy: 0.9375\n",
            "Epoch 121/200\n",
            "25/25 [==============================] - 0s 3ms/step - loss: 0.0734 - accuracy: 0.9831 - val_loss: 0.1226 - val_accuracy: 0.9425\n",
            "Epoch 122/200\n",
            "25/25 [==============================] - 0s 3ms/step - loss: 0.0720 - accuracy: 0.9869 - val_loss: 0.1271 - val_accuracy: 0.9425\n",
            "Epoch 123/200\n",
            "25/25 [==============================] - 0s 3ms/step - loss: 0.0708 - accuracy: 0.9850 - val_loss: 0.1207 - val_accuracy: 0.9450\n",
            "Epoch 124/200\n",
            "25/25 [==============================] - 0s 3ms/step - loss: 0.0710 - accuracy: 0.9819 - val_loss: 0.1280 - val_accuracy: 0.9400\n",
            "Epoch 125/200\n",
            "25/25 [==============================] - 0s 3ms/step - loss: 0.0729 - accuracy: 0.9787 - val_loss: 0.1182 - val_accuracy: 0.9475\n",
            "Epoch 126/200\n",
            "25/25 [==============================] - 0s 3ms/step - loss: 0.0725 - accuracy: 0.9837 - val_loss: 0.1247 - val_accuracy: 0.9400\n",
            "Epoch 127/200\n",
            "25/25 [==============================] - 0s 3ms/step - loss: 0.0676 - accuracy: 0.9869 - val_loss: 0.1183 - val_accuracy: 0.9450\n",
            "Epoch 128/200\n",
            "25/25 [==============================] - 0s 3ms/step - loss: 0.0695 - accuracy: 0.9856 - val_loss: 0.1206 - val_accuracy: 0.9500\n",
            "Epoch 129/200\n",
            "25/25 [==============================] - 0s 3ms/step - loss: 0.0678 - accuracy: 0.9850 - val_loss: 0.1168 - val_accuracy: 0.9400\n",
            "Epoch 130/200\n",
            "25/25 [==============================] - 0s 4ms/step - loss: 0.0657 - accuracy: 0.9869 - val_loss: 0.1167 - val_accuracy: 0.9450\n",
            "Epoch 131/200\n",
            "25/25 [==============================] - 0s 3ms/step - loss: 0.0647 - accuracy: 0.9881 - val_loss: 0.1193 - val_accuracy: 0.9450\n",
            "Epoch 132/200\n",
            "25/25 [==============================] - 0s 3ms/step - loss: 0.0646 - accuracy: 0.9862 - val_loss: 0.1185 - val_accuracy: 0.9425\n",
            "Epoch 133/200\n",
            "25/25 [==============================] - 0s 3ms/step - loss: 0.0657 - accuracy: 0.9875 - val_loss: 0.1187 - val_accuracy: 0.9450\n",
            "Epoch 134/200\n",
            "25/25 [==============================] - 0s 4ms/step - loss: 0.0654 - accuracy: 0.9869 - val_loss: 0.1207 - val_accuracy: 0.9450\n",
            "Epoch 135/200\n",
            "25/25 [==============================] - 0s 3ms/step - loss: 0.0695 - accuracy: 0.9837 - val_loss: 0.1171 - val_accuracy: 0.9500\n",
            "Epoch 136/200\n",
            "25/25 [==============================] - 0s 3ms/step - loss: 0.0745 - accuracy: 0.9756 - val_loss: 0.1243 - val_accuracy: 0.9500\n",
            "Epoch 137/200\n",
            "25/25 [==============================] - 0s 3ms/step - loss: 0.0694 - accuracy: 0.9787 - val_loss: 0.1253 - val_accuracy: 0.9375\n",
            "Epoch 138/200\n",
            "25/25 [==============================] - 0s 3ms/step - loss: 0.0656 - accuracy: 0.9844 - val_loss: 0.1140 - val_accuracy: 0.9450\n",
            "Epoch 139/200\n",
            "25/25 [==============================] - 0s 3ms/step - loss: 0.0638 - accuracy: 0.9844 - val_loss: 0.1160 - val_accuracy: 0.9450\n",
            "Epoch 140/200\n",
            "25/25 [==============================] - 0s 3ms/step - loss: 0.0609 - accuracy: 0.9887 - val_loss: 0.1136 - val_accuracy: 0.9475\n",
            "Epoch 141/200\n",
            "25/25 [==============================] - 0s 3ms/step - loss: 0.0617 - accuracy: 0.9881 - val_loss: 0.1130 - val_accuracy: 0.9475\n",
            "Epoch 142/200\n",
            "25/25 [==============================] - 0s 3ms/step - loss: 0.0630 - accuracy: 0.9850 - val_loss: 0.1251 - val_accuracy: 0.9400\n",
            "Epoch 143/200\n",
            "25/25 [==============================] - 0s 3ms/step - loss: 0.0625 - accuracy: 0.9862 - val_loss: 0.1128 - val_accuracy: 0.9475\n",
            "Epoch 144/200\n",
            "25/25 [==============================] - 0s 3ms/step - loss: 0.0604 - accuracy: 0.9869 - val_loss: 0.1177 - val_accuracy: 0.9475\n",
            "Epoch 145/200\n",
            "25/25 [==============================] - 0s 3ms/step - loss: 0.0571 - accuracy: 0.9887 - val_loss: 0.1213 - val_accuracy: 0.9400\n",
            "Epoch 146/200\n",
            "25/25 [==============================] - 0s 4ms/step - loss: 0.0587 - accuracy: 0.9887 - val_loss: 0.1167 - val_accuracy: 0.9425\n",
            "Epoch 147/200\n",
            "25/25 [==============================] - 0s 3ms/step - loss: 0.0578 - accuracy: 0.9881 - val_loss: 0.1109 - val_accuracy: 0.9475\n",
            "Epoch 148/200\n",
            "25/25 [==============================] - 0s 3ms/step - loss: 0.0586 - accuracy: 0.9850 - val_loss: 0.1162 - val_accuracy: 0.9450\n",
            "Epoch 149/200\n",
            "25/25 [==============================] - 0s 3ms/step - loss: 0.0587 - accuracy: 0.9881 - val_loss: 0.1153 - val_accuracy: 0.9475\n",
            "Epoch 150/200\n",
            "25/25 [==============================] - 0s 3ms/step - loss: 0.0571 - accuracy: 0.9887 - val_loss: 0.1100 - val_accuracy: 0.9450\n",
            "Epoch 151/200\n",
            "25/25 [==============================] - 0s 3ms/step - loss: 0.0562 - accuracy: 0.9894 - val_loss: 0.1130 - val_accuracy: 0.9475\n",
            "Epoch 152/200\n",
            "25/25 [==============================] - 0s 3ms/step - loss: 0.0576 - accuracy: 0.9881 - val_loss: 0.1194 - val_accuracy: 0.9500\n",
            "Epoch 153/200\n",
            "25/25 [==============================] - 0s 3ms/step - loss: 0.0558 - accuracy: 0.9894 - val_loss: 0.1087 - val_accuracy: 0.9450\n",
            "Epoch 154/200\n",
            "25/25 [==============================] - 0s 3ms/step - loss: 0.0557 - accuracy: 0.9875 - val_loss: 0.1157 - val_accuracy: 0.9500\n",
            "Epoch 155/200\n",
            "25/25 [==============================] - 0s 3ms/step - loss: 0.0564 - accuracy: 0.9850 - val_loss: 0.1107 - val_accuracy: 0.9425\n",
            "Epoch 156/200\n",
            "25/25 [==============================] - 0s 3ms/step - loss: 0.0571 - accuracy: 0.9856 - val_loss: 0.1123 - val_accuracy: 0.9450\n",
            "Epoch 157/200\n",
            "25/25 [==============================] - 0s 3ms/step - loss: 0.0554 - accuracy: 0.9862 - val_loss: 0.1188 - val_accuracy: 0.9425\n",
            "Epoch 158/200\n",
            "25/25 [==============================] - 0s 3ms/step - loss: 0.0534 - accuracy: 0.9881 - val_loss: 0.1160 - val_accuracy: 0.9475\n",
            "Epoch 159/200\n",
            "25/25 [==============================] - 0s 3ms/step - loss: 0.0538 - accuracy: 0.9869 - val_loss: 0.1202 - val_accuracy: 0.9425\n",
            "Epoch 160/200\n",
            "25/25 [==============================] - 0s 3ms/step - loss: 0.0552 - accuracy: 0.9862 - val_loss: 0.1122 - val_accuracy: 0.9475\n",
            "Epoch 161/200\n",
            "25/25 [==============================] - 0s 3ms/step - loss: 0.0514 - accuracy: 0.9887 - val_loss: 0.1129 - val_accuracy: 0.9475\n",
            "Epoch 162/200\n",
            "25/25 [==============================] - 0s 3ms/step - loss: 0.0519 - accuracy: 0.9906 - val_loss: 0.1099 - val_accuracy: 0.9450\n",
            "Epoch 163/200\n",
            "25/25 [==============================] - 0s 3ms/step - loss: 0.0523 - accuracy: 0.9881 - val_loss: 0.1092 - val_accuracy: 0.9425\n",
            "Epoch 164/200\n",
            "25/25 [==============================] - 0s 3ms/step - loss: 0.0511 - accuracy: 0.9900 - val_loss: 0.1189 - val_accuracy: 0.9425\n",
            "Epoch 165/200\n",
            "25/25 [==============================] - 0s 3ms/step - loss: 0.0507 - accuracy: 0.9881 - val_loss: 0.1122 - val_accuracy: 0.9450\n",
            "Epoch 166/200\n",
            "25/25 [==============================] - 0s 3ms/step - loss: 0.0516 - accuracy: 0.9894 - val_loss: 0.1115 - val_accuracy: 0.9475\n",
            "Epoch 167/200\n",
            "25/25 [==============================] - 0s 3ms/step - loss: 0.0514 - accuracy: 0.9881 - val_loss: 0.1134 - val_accuracy: 0.9450\n",
            "Epoch 168/200\n",
            "25/25 [==============================] - 0s 3ms/step - loss: 0.0513 - accuracy: 0.9887 - val_loss: 0.1099 - val_accuracy: 0.9525\n",
            "Epoch 169/200\n",
            "25/25 [==============================] - 0s 4ms/step - loss: 0.0516 - accuracy: 0.9869 - val_loss: 0.1127 - val_accuracy: 0.9475\n",
            "Epoch 170/200\n",
            "25/25 [==============================] - 0s 3ms/step - loss: 0.0484 - accuracy: 0.9906 - val_loss: 0.1138 - val_accuracy: 0.9450\n",
            "Epoch 171/200\n",
            "25/25 [==============================] - 0s 3ms/step - loss: 0.0495 - accuracy: 0.9887 - val_loss: 0.1123 - val_accuracy: 0.9425\n",
            "Epoch 172/200\n",
            "25/25 [==============================] - 0s 3ms/step - loss: 0.0479 - accuracy: 0.9900 - val_loss: 0.1117 - val_accuracy: 0.9475\n",
            "Epoch 173/200\n",
            "25/25 [==============================] - 0s 4ms/step - loss: 0.0477 - accuracy: 0.9912 - val_loss: 0.1067 - val_accuracy: 0.9450\n",
            "Epoch 174/200\n",
            "25/25 [==============================] - 0s 3ms/step - loss: 0.0468 - accuracy: 0.9919 - val_loss: 0.1085 - val_accuracy: 0.9450\n",
            "Epoch 175/200\n",
            "25/25 [==============================] - 0s 3ms/step - loss: 0.0519 - accuracy: 0.9850 - val_loss: 0.1100 - val_accuracy: 0.9450\n",
            "Epoch 176/200\n",
            "25/25 [==============================] - 0s 3ms/step - loss: 0.0481 - accuracy: 0.9894 - val_loss: 0.1213 - val_accuracy: 0.9400\n",
            "Epoch 177/200\n",
            "25/25 [==============================] - 0s 3ms/step - loss: 0.0526 - accuracy: 0.9850 - val_loss: 0.1060 - val_accuracy: 0.9475\n",
            "Epoch 178/200\n",
            "25/25 [==============================] - 0s 3ms/step - loss: 0.0488 - accuracy: 0.9906 - val_loss: 0.1182 - val_accuracy: 0.9400\n",
            "Epoch 179/200\n",
            "25/25 [==============================] - 0s 3ms/step - loss: 0.0493 - accuracy: 0.9900 - val_loss: 0.1089 - val_accuracy: 0.9450\n",
            "Epoch 180/200\n",
            "25/25 [==============================] - 0s 3ms/step - loss: 0.0480 - accuracy: 0.9887 - val_loss: 0.1191 - val_accuracy: 0.9450\n",
            "Epoch 181/200\n",
            "25/25 [==============================] - 0s 4ms/step - loss: 0.0461 - accuracy: 0.9912 - val_loss: 0.1148 - val_accuracy: 0.9475\n",
            "Epoch 182/200\n",
            "25/25 [==============================] - 0s 3ms/step - loss: 0.0471 - accuracy: 0.9887 - val_loss: 0.1113 - val_accuracy: 0.9400\n",
            "Epoch 183/200\n",
            "25/25 [==============================] - 0s 3ms/step - loss: 0.0499 - accuracy: 0.9869 - val_loss: 0.1340 - val_accuracy: 0.9450\n",
            "Epoch 184/200\n",
            "25/25 [==============================] - 0s 3ms/step - loss: 0.0492 - accuracy: 0.9869 - val_loss: 0.1078 - val_accuracy: 0.9550\n",
            "Epoch 185/200\n",
            "25/25 [==============================] - 0s 3ms/step - loss: 0.0463 - accuracy: 0.9881 - val_loss: 0.1169 - val_accuracy: 0.9450\n",
            "Epoch 186/200\n",
            "25/25 [==============================] - 0s 3ms/step - loss: 0.0492 - accuracy: 0.9900 - val_loss: 0.1105 - val_accuracy: 0.9475\n",
            "Epoch 187/200\n",
            "25/25 [==============================] - 0s 3ms/step - loss: 0.0483 - accuracy: 0.9862 - val_loss: 0.1142 - val_accuracy: 0.9450\n",
            "Epoch 188/200\n",
            "25/25 [==============================] - 0s 3ms/step - loss: 0.0467 - accuracy: 0.9869 - val_loss: 0.1087 - val_accuracy: 0.9450\n",
            "Epoch 189/200\n",
            "25/25 [==============================] - 0s 3ms/step - loss: 0.0430 - accuracy: 0.9894 - val_loss: 0.1077 - val_accuracy: 0.9400\n",
            "Epoch 190/200\n",
            "25/25 [==============================] - 0s 3ms/step - loss: 0.0438 - accuracy: 0.9894 - val_loss: 0.1078 - val_accuracy: 0.9425\n",
            "Epoch 191/200\n",
            "25/25 [==============================] - 0s 3ms/step - loss: 0.0424 - accuracy: 0.9912 - val_loss: 0.1070 - val_accuracy: 0.9425\n",
            "Epoch 192/200\n",
            "25/25 [==============================] - 0s 4ms/step - loss: 0.0455 - accuracy: 0.9900 - val_loss: 0.1131 - val_accuracy: 0.9400\n",
            "Epoch 193/200\n",
            "25/25 [==============================] - 0s 3ms/step - loss: 0.0424 - accuracy: 0.9894 - val_loss: 0.1060 - val_accuracy: 0.9425\n",
            "Epoch 194/200\n",
            "25/25 [==============================] - 0s 3ms/step - loss: 0.0429 - accuracy: 0.9919 - val_loss: 0.1106 - val_accuracy: 0.9425\n",
            "Epoch 195/200\n",
            "25/25 [==============================] - 0s 3ms/step - loss: 0.0411 - accuracy: 0.9925 - val_loss: 0.1088 - val_accuracy: 0.9475\n",
            "Epoch 196/200\n",
            "25/25 [==============================] - 0s 3ms/step - loss: 0.0418 - accuracy: 0.9937 - val_loss: 0.1115 - val_accuracy: 0.9425\n",
            "Epoch 197/200\n",
            "25/25 [==============================] - 0s 3ms/step - loss: 0.0420 - accuracy: 0.9912 - val_loss: 0.1121 - val_accuracy: 0.9475\n",
            "Epoch 198/200\n",
            "25/25 [==============================] - 0s 3ms/step - loss: 0.0443 - accuracy: 0.9900 - val_loss: 0.1178 - val_accuracy: 0.9450\n",
            "Epoch 199/200\n",
            "25/25 [==============================] - 0s 3ms/step - loss: 0.0413 - accuracy: 0.9894 - val_loss: 0.1064 - val_accuracy: 0.9500\n",
            "Epoch 200/200\n",
            "25/25 [==============================] - 0s 3ms/step - loss: 0.0433 - accuracy: 0.9894 - val_loss: 0.1209 - val_accuracy: 0.9500\n"
          ]
        }
      ],
      "source": [
        "callback_history = model.fit(x_train, y_train, epochs=200, validation_data=(x_test, y_test), batch_size=64)"
      ]
    },
    {
      "cell_type": "markdown",
      "source": [
        "###Reconversion from 1-hot to multi-class"
      ],
      "metadata": {
        "id": "bp0Yrc25REYK"
      }
    },
    {
      "cell_type": "code",
      "execution_count": 57,
      "metadata": {
        "id": "GarwwWPNqgQL",
        "colab": {
          "base_uri": "https://localhost:8080/"
        },
        "outputId": "04e8550b-194b-4a66-ceeb-b04dcb155812"
      },
      "outputs": [
        {
          "output_type": "stream",
          "name": "stdout",
          "text": [
            "13/13 [==============================] - 0s 2ms/step\n",
            "[1.0012906e-04 9.9946749e-01 4.3255070e-04 1.7123933e-09]\n"
          ]
        }
      ],
      "source": [
        "y_predicted = model.predict(x_test)\n",
        "print (y_predicted [1, :])\n",
        "\n",
        "predicted = []\n",
        "for i in range(len(y_predicted)):\n",
        "    predicted.append(np.argmax(y_predicted[i]))\n",
        "\n",
        "\n",
        "test = []\n",
        "for i in range(len(y_test)):\n",
        "    test.append(np.argmax(y_test[i]))"
      ]
    },
    {
      "cell_type": "markdown",
      "source": [
        "##Accuracy Calculation "
      ],
      "metadata": {
        "id": "H-7R7yFzS-jV"
      }
    },
    {
      "cell_type": "code",
      "execution_count": 58,
      "metadata": {
        "id": "7VVgU2h1qsLN",
        "colab": {
          "base_uri": "https://localhost:8080/"
        },
        "outputId": "c309c163-6c16-4898-c51f-0028d215e981"
      },
      "outputs": [
        {
          "output_type": "stream",
          "name": "stdout",
          "text": [
            "Test accuracy of model is = 95.0\n"
          ]
        }
      ],
      "source": [
        "test_accuracy_NN = accuracy_score(predicted,test)\n",
        "print(\"Test accuracy of model is = \" + str(test_accuracy_NN*100))"
      ]
    },
    {
      "cell_type": "code",
      "execution_count": 59,
      "metadata": {
        "id": "KB7pHggRqzl6",
        "colab": {
          "base_uri": "https://localhost:8080/",
          "height": 295
        },
        "outputId": "bd8ba3ac-c1fd-4703-f593-9ae5253066e6"
      },
      "outputs": [
        {
          "output_type": "display_data",
          "data": {
            "text/plain": [
              "<Figure size 432x288 with 1 Axes>"
            ],
            "image/png": "[encoded data removed]"
          },
          "metadata": {
            "needs_background": "light"
          }
        }
      ],
      "source": [
        "plt.plot(callback_history.history['accuracy'])\n",
        "plt.plot(callback_history.history['val_accuracy'])\n",
        "plt.xlabel('No. of.Epochs')\n",
        "plt.ylabel('Accuracy')\n",
        "plt.title ('NN perfromance with Tanh activation & Adam optimiser')\n",
        "plt.legend(['Training accuracy','Test Accuracy'],loc='center right')\n",
        "plt.show()"
      ]
    },
    {
      "cell_type": "code",
      "execution_count": 60,
      "metadata": {
        "colab": {
          "base_uri": "https://localhost:8080/",
          "height": 295
        },
        "id": "UpoC8aNarCo4",
        "outputId": "a26b8cf4-2c99-4280-bf17-f2cf0dc67b52"
      },
      "outputs": [
        {
          "output_type": "display_data",
          "data": {
            "text/plain": [
              "<Figure size 432x288 with 1 Axes>"
            ],
            "image/png": "[encoded data removed]"
          },
          "metadata": {
            "needs_background": "light"
          }
        }
      ],
      "source": [
        "plt.plot(callback_history.history['loss'])\n",
        "plt.plot(callback_history.history['val_loss'])\n",
        "plt.xlabel('No. of Epochs')\n",
        "plt.ylabel('Loss')\n",
        "plt.title ('NN perfromance with Tanh activation & Adam optimiser')\n",
        "plt.legend(['Training Loss','Test Loss'],loc='center right')\n",
        "plt.show()"
      ]
    },
    {
      "cell_type": "code",
      "source": [
        "models = ['decision_tree', 'knn', 'logi_reg', 'random_forest', 'FCNN']\n",
        "acc_scores = [accuracy_d_tree_test, accuracy_knn_test, accuracy_logreg_test,  accuracy_rand_forest_test, test_accuracy_NN]\n",
        "\n",
        "plt.bar(models, acc_scores, color = ['orange', 'green', 'y', 'skyblue', 'lightgreen'])\n",
        "plt.ylabel(\"F1 scores\")\n",
        "plt.title(\"Model accuracy\")\n",
        "plt.show()"
      ],
      "metadata": {
        "colab": {
          "base_uri": "https://localhost:8080/",
          "height": 282
        },
        "id": "mdHBNXNBqu3V",
        "outputId": "2a0556c5-f042-4853-dfec-4349e8a6a0b1"
      },
      "execution_count": 61,
      "outputs": [
        {
          "output_type": "display_data",
          "data": {
            "text/plain": [
              "<Figure size 432x288 with 1 Axes>"
            ],
            "image/png": "[encoded data removed]"
          },
          "metadata": {
            "needs_background": "light"
          }
        }
      ]
    },
    {
      "cell_type": "markdown",
      "source": [
        "#PCA Plot for Data Visualisation"
      ],
      "metadata": {
        "id": "HDztTsHT-T_2"
      }
    },
    {
      "cell_type": "code",
      "source": [
        "from sklearn.decomposition import PCA\n",
        "import matplotlib.pyplot as plt\n",
        "from matplotlib.colors import ListedColormap\n",
        "\n",
        "data_new_features = pd.read_csv('/content/sample_data/train.csv')\n",
        "y = data_new_features['price_range']\n",
        "\n",
        "print(x_train.shape)\n",
        "print(x_test.shape)"
      ],
      "metadata": {
        "colab": {
          "base_uri": "https://localhost:8080/"
        },
        "id": "1FDaToLP9HuD",
        "outputId": "bb5aa4aa-837a-4311-ed73-2b4626ba8b6b"
      },
      "execution_count": 62,
      "outputs": [
        {
          "output_type": "stream",
          "name": "stdout",
          "text": [
            "(1600, 20)\n",
            "(400, 20)\n"
          ]
        }
      ]
    },
    {
      "cell_type": "code",
      "source": [
        "x = data_new_features.drop('price_range', axis = 1)\n",
        "x_train, x_test, y_train, y_test = train_test_split(x, y, test_size = 0.2, random_state = 91)"
      ],
      "metadata": {
        "id": "uxOUoS6plPkd"
      },
      "execution_count": 63,
      "outputs": []
    },
    {
      "cell_type": "code",
      "source": [
        "pca = PCA(n_components=2)\n",
        "x_train_pca = pca.fit_transform (x_train)\n",
        "x_test_pca = pca.transform (x_test)\n",
        "x_train_pca.shape"
      ],
      "metadata": {
        "colab": {
          "base_uri": "https://localhost:8080/"
        },
        "id": "nWP_M3mG-Y_P",
        "outputId": "d66e39ad-e560-4cfd-985f-a383df7e9ba8"
      },
      "execution_count": 64,
      "outputs": [
        {
          "output_type": "execute_result",
          "data": {
            "text/plain": [
              "(1600, 2)"
            ]
          },
          "metadata": {},
          "execution_count": 64
        }
      ]
    },
    {
      "cell_type": "code",
      "source": [
        "fig, ax = plt.subplots()\n",
        "colours = ListedColormap(['green','purple','orange','blue'])\n",
        "scatter = ax.scatter(x_train_pca[0:1000,0], x_train_pca[0:1000,1], c = y_train[0:1000], cmap = colours)\n",
        "legend1 = ax.legend(*scatter.legend_elements(), loc=\"upper right\", title=\"Classes\")\n",
        "ax.add_artist(legend1)\n",
        "ax.set(aspect = 1,\n",
        "       xlim =(-2000, 2500),\n",
        "       ylim =(-1000, 2000))\n",
        "plt.xlabel('PC1')\n",
        "\n",
        "plt.ylabel('PC2')\n",
        "plt.title ('Data Visulaisation using PCA')\n",
        "plt.show()"
      ],
      "metadata": {
        "colab": {
          "base_uri": "https://localhost:8080/",
          "height": 295
        },
        "id": "oRvjLJJfl-Fm",
        "outputId": "c5a4462b-367a-4314-e88c-dc1dead4f0ef"
      },
      "execution_count": 65,
      "outputs": [
        {
          "output_type": "display_data",
          "data": {
            "text/plain": [
              "<Figure size 432x288 with 1 Axes>"
            ],
            "image/png": "[encoded data removed]"
          },
          "metadata": {
            "needs_background": "light"
          }
        }
      ]
    }
  ],
  "metadata": {
    "colab": {
      "provenance": [],
      "collapsed_sections": [
        "dAa8Q87ashss",
        "aRrI_Nf3yRY5"
      ]
    },
    "kernelspec": {
      "display_name": "Python 3",
      "name": "python3"
    },
    "language_info": {
      "name": "python"
    }
  },
  "nbformat": 4,
  "nbformat_minor": 0
}